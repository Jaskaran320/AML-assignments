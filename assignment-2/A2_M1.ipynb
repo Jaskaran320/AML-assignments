{
 "cells": [
  {
   "cell_type": "code",
   "execution_count": 14,
   "metadata": {},
   "outputs": [],
   "source": [
    "import torch\n",
    "from torch import nn\n",
    "from torch.utils.data import Dataset, DataLoader\n",
    "import torch.nn.functional as F\n",
    "import numpy as np\n",
    "import pandas as pd\n",
    "from tqdm.notebook import tqdm\n",
    "import matplotlib.pyplot as plt"
   ]
  },
  {
   "cell_type": "code",
   "execution_count": 23,
   "metadata": {},
   "outputs": [
    {
     "data": {
      "text/plain": [
       "device(type='cuda', index=0)"
      ]
     },
     "execution_count": 23,
     "metadata": {},
     "output_type": "execute_result"
    }
   ],
   "source": [
    "df = pd.read_csv(\"data/cf_train_no_noise.csv\")\n",
    "df_noise = pd.read_csv(\"data/cf_train.csv\")\n",
    "device = torch.device(\"cuda:0\" if torch.cuda.is_available() else \"cpu\")\n",
    "device"
   ]
  },
  {
   "cell_type": "code",
   "execution_count": 24,
   "metadata": {},
   "outputs": [],
   "source": [
    "def encode(value, encoding):\n",
    "    for key, val in encoding.items():\n",
    "        if value == key:\n",
    "            return val\n",
    "\n",
    "class_values_era = list(df.era.unique())\n",
    "class_values_era.sort()\n",
    "class_values_target = list(df.target_10_val.unique())\n",
    "class_values_target.sort()\n",
    "era_encoding = {val: i for i, val in enumerate(class_values_era)}\n",
    "target_encoding = {val: i for i, val in enumerate(class_values_target)}\n",
    "df[\"era\"] = df[\"era\"].apply(encode, args=(era_encoding,))\n",
    "df[\"target_5_val\"] = df[\"target_5_val\"].apply(encode, args=(target_encoding,))\n",
    "df[\"target_10_val\"] = df[\"target_10_val\"].apply(encode, args=(target_encoding,))\n",
    "\n",
    "df_noise[\"era\"] = df_noise[\"era\"].apply(encode, args=(era_encoding,))\n",
    "df_noise[\"target_5_val\"] = df_noise[\"target_5_val\"].apply(encode, args=(target_encoding,))\n",
    "df_noise[\"target_10_val\"] = df_noise[\"target_10_val\"].apply(encode, args=(target_encoding,))\n",
    "\n",
    "dataset = df\n",
    "target_column = \"target_10_val\"\n",
    "output_classes = 5\n",
    "shuffle = False"
   ]
  },
  {
   "cell_type": "code",
   "execution_count": 25,
   "metadata": {},
   "outputs": [],
   "source": [
    "class CustomDataset(Dataset):\n",
    "    def __init__(self, df):\n",
    "        self.df = df\n",
    "        self.X = self.df.iloc[:, :-7]\n",
    "        self.y = self.df[target_column]\n",
    "\n",
    "    def __len__(self):\n",
    "        return len(self.df)\n",
    "\n",
    "    def __getitem__(self, index):\n",
    "        return (\n",
    "            torch.tensor(self.X.iloc[index].values, dtype=torch.float32, device=device),\n",
    "            torch.tensor(self.y.iloc[index].values, dtype=torch.long, device=device),\n",
    "        )"
   ]
  },
  {
   "cell_type": "code",
   "execution_count": 26,
   "metadata": {},
   "outputs": [],
   "source": [
    "if shuffle:\n",
    "    dataset = dataset.sample(frac=1).reset_index(drop=True)\n",
    "\n",
    "train_size = int(0.85 * len(dataset))\n",
    "train_dataset = CustomDataset(dataset[:train_size])\n",
    "val_dataset = CustomDataset(dataset[train_size:])\n",
    "\n",
    "train_loader = DataLoader(train_dataset, batch_size=64)\n",
    "val_loader = DataLoader(val_dataset, batch_size=64)"
   ]
  },
  {
   "cell_type": "code",
   "execution_count": 34,
   "metadata": {},
   "outputs": [],
   "source": [
    "class MLP(nn.Module):\n",
    "    def __init__(self, layer_sizes):\n",
    "        super().__init__()\n",
    "        self.layer_sizes = layer_sizes\n",
    "        self.layers = nn.ModuleList()\n",
    "        self.softmax = nn.Softmax(dim=1)\n",
    "        \n",
    "        for i in range(1, len(self.layer_sizes)):\n",
    "            if i == len(self.layer_sizes) - 1:\n",
    "                self.layers.append(nn.Linear(self.layer_sizes[i - 1], self.layer_sizes[i]))\n",
    "            else:\n",
    "                self.layers.append(nn.Linear(self.layer_sizes[i - 1], self.layer_sizes[i]))\n",
    "                self.layers.append(nn.ReLU())\n",
    "\n",
    "    def forward(self, x):\n",
    "        for layer in self.layers:\n",
    "            x = layer(x)\n",
    "        x = self.softmax(x)\n",
    "        return x"
   ]
  },
  {
   "cell_type": "code",
   "execution_count": 35,
   "metadata": {},
   "outputs": [],
   "source": [
    "# set layer sizes here\n",
    "layer_sizes = []\n",
    "model = MLP(layer_sizes).to(device)\n",
    "optimizer = torch.optim.Adam(model.parameters(), lr=0.001)\n",
    "criterion = nn.CrossEntropyLoss()"
   ]
  },
  {
   "cell_type": "code",
   "execution_count": null,
   "metadata": {},
   "outputs": [],
   "source": [
    "def train(model, criterion, optimizer, train_loader, val_loader, epochs=10):\n",
    "\n",
    "    train_losses = []\n",
    "    val_losses = []\n",
    "    train_accuracies = []\n",
    "    val_accuracies = []\n",
    "\n",
    "    for epoch in tqdm(range(epochs)):\n",
    "        model.train()\n",
    "        train_loss = 0\n",
    "        train_accuracy = 0\n",
    "        \n",
    "        for inputs, labels in train_loader:\n",
    "            inputs, labels = inputs.to(device), labels.to(device)\n",
    "            optimizer.zero_grad()\n",
    "            outputs = model(inputs)\n",
    "            loss = criterion(outputs, labels)\n",
    "            loss.backward()\n",
    "            optimizer.step()\n",
    "            train_loss += loss.item()\n",
    "\n",
    "            _, predicted = torch.max(outputs, 1)\n",
    "            train_accuracy += (predicted == labels).sum().item()\n",
    "\n",
    "        train_loss /= len(train_loader)\n",
    "        train_accuracy /= len(train_loader.dataset)\n",
    "        train_losses.append(train_loss)\n",
    "        train_accuracies.append(train_accuracy)\n",
    "\n",
    "        model.eval()\n",
    "        val_loss = 0\n",
    "        val_accuracy = 0\n",
    "\n",
    "        with torch.no_grad():\n",
    "            for inputs, labels in val_loader:\n",
    "                inputs, labels = inputs.to(device), labels.to(device)\n",
    "                outputs = model(inputs)\n",
    "                loss = criterion(outputs, labels)\n",
    "                val_loss += loss.item()\n",
    "\n",
    "                _, predicted = torch.max(outputs, 1)\n",
    "                val_accuracy += (predicted == labels).sum().item()\n",
    "\n",
    "        val_loss /= len(val_loader)\n",
    "        val_accuracy /= len(val_loader.dataset)\n",
    "        val_losses.append(val_loss)\n",
    "        val_accuracies.append(val_accuracy)\n",
    "\n",
    "        print(f\"Epoch {epoch + 1}/{epochs}: \"\n",
    "                f\"Train Loss: {train_loss:.4f}, Train Accuracy: {train_accuracy:.4f}, \"\n",
    "                f\"Val Loss: {val_loss:.4f}, Val Accuracy: {val_accuracy:.4f}\")"
   ]
  }
 ],
 "metadata": {
  "kernelspec": {
   "display_name": "mlenv",
   "language": "python",
   "name": "python3"
  },
  "language_info": {
   "codemirror_mode": {
    "name": "ipython",
    "version": 3
   },
   "file_extension": ".py",
   "mimetype": "text/x-python",
   "name": "python",
   "nbconvert_exporter": "python",
   "pygments_lexer": "ipython3",
   "version": "3.10.11"
  }
 },
 "nbformat": 4,
 "nbformat_minor": 2
}
