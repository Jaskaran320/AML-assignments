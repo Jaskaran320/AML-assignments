{
 "cells": [
  {
   "cell_type": "code",
   "execution_count": 1,
   "metadata": {},
   "outputs": [],
   "source": [
    "import torch\n",
    "from torch import nn\n",
    "from torch.utils.data import Dataset, DataLoader\n",
    "import torch.nn.functional as F\n",
    "import numpy as np\n",
    "import pandas as pd\n",
    "from tqdm.notebook import tqdm\n",
    "import matplotlib.pyplot as plt\n",
    "import os"
   ]
  },
  {
   "cell_type": "code",
   "execution_count": 2,
   "metadata": {},
   "outputs": [],
   "source": [
    "df = pd.read_csv(\"df_train_shuffled(2).csv\")\n",
    "df_noise = pd.read_csv(\"data/cf_train.csv\")"
   ]
  },
  {
   "cell_type": "code",
   "execution_count": 6,
   "metadata": {},
   "outputs": [],
   "source": [
    "def encode(value, encoding):\n",
    "    for key, val in encoding.items():\n",
    "        if value == key:\n",
    "            return val\n",
    "\n",
    "class_values_era = list(df.era.unique())\n",
    "class_values_era.sort()\n",
    "class_values_target = list(df.target_10_val.unique())\n",
    "class_values_target.sort()\n",
    "era_encoding = {val: i for i, val in enumerate(class_values_era)}\n",
    "target_encoding = {val: i for i, val in enumerate(class_values_target)}\n",
    "df[\"era\"] = df[\"era\"].apply(encode, args=(era_encoding,))\n",
    "df[\"target_5_val\"] = df[\"target_5_val\"].apply(encode, args=(target_encoding,))\n",
    "df[\"target_10_val\"] = df[\"target_10_val\"].apply(encode, args=(target_encoding,))\n",
    "\n",
    "df_noise[\"era\"] = df_noise[\"era\"].apply(encode, args=(era_encoding,))\n",
    "df_noise[\"target_5_val\"] = df_noise[\"target_5_val\"].apply(encode, args=(target_encoding,))\n",
    "df_noise[\"target_10_val\"] = df_noise[\"target_10_val\"].apply(encode, args=(target_encoding,))\n",
    "\n",
    "dataset = df\n",
    "target_column = \"target_10_val\"\n",
    "output_classes = 5\n",
    "shuffle = True"
   ]
  },
  {
   "cell_type": "code",
   "execution_count": 4,
   "metadata": {},
   "outputs": [
    {
     "data": {
      "text/html": [
       "<div>\n",
       "<style scoped>\n",
       "    .dataframe tbody tr th:only-of-type {\n",
       "        vertical-align: middle;\n",
       "    }\n",
       "\n",
       "    .dataframe tbody tr th {\n",
       "        vertical-align: top;\n",
       "    }\n",
       "\n",
       "    .dataframe thead th {\n",
       "        text-align: right;\n",
       "    }\n",
       "</style>\n",
       "<table border=\"1\" class=\"dataframe\">\n",
       "  <thead>\n",
       "    <tr style=\"text-align: right;\">\n",
       "      <th></th>\n",
       "      <th>Open_n_val</th>\n",
       "      <th>High_n_val</th>\n",
       "      <th>Low_n_val</th>\n",
       "      <th>Close_n_val</th>\n",
       "      <th>Volume_n_val</th>\n",
       "      <th>SMA_10_val</th>\n",
       "      <th>SMA_20_val</th>\n",
       "      <th>CMO_14_val</th>\n",
       "      <th>High_n-Low_n_val</th>\n",
       "      <th>Open_n-Close_n_val</th>\n",
       "      <th>...</th>\n",
       "      <th>High_n-Low_n_changelen_val</th>\n",
       "      <th>Open_n-Close_n_changelen_val</th>\n",
       "      <th>SMA_20-SMA_10_changelen_val</th>\n",
       "      <th>Close_n_slope_3_changelen_val</th>\n",
       "      <th>Close_n_slope_5_changelen_val</th>\n",
       "      <th>Close_n_slope_10_changelen_val</th>\n",
       "      <th>row_num</th>\n",
       "      <th>era</th>\n",
       "      <th>target_10_val</th>\n",
       "      <th>target_5_val</th>\n",
       "    </tr>\n",
       "  </thead>\n",
       "  <tbody>\n",
       "    <tr>\n",
       "      <th>0</th>\n",
       "      <td>0.75</td>\n",
       "      <td>0.75</td>\n",
       "      <td>0.75</td>\n",
       "      <td>0.75</td>\n",
       "      <td>0.25</td>\n",
       "      <td>1.00</td>\n",
       "      <td>1.00</td>\n",
       "      <td>0.50</td>\n",
       "      <td>0.25</td>\n",
       "      <td>0.25</td>\n",
       "      <td>...</td>\n",
       "      <td>0.75</td>\n",
       "      <td>0.25</td>\n",
       "      <td>0.50</td>\n",
       "      <td>0.75</td>\n",
       "      <td>1.00</td>\n",
       "      <td>0.50</td>\n",
       "      <td>100</td>\n",
       "      <td>118</td>\n",
       "      <td>3</td>\n",
       "      <td>2</td>\n",
       "    </tr>\n",
       "    <tr>\n",
       "      <th>1</th>\n",
       "      <td>0.25</td>\n",
       "      <td>0.25</td>\n",
       "      <td>0.25</td>\n",
       "      <td>0.25</td>\n",
       "      <td>0.25</td>\n",
       "      <td>0.50</td>\n",
       "      <td>0.75</td>\n",
       "      <td>0.00</td>\n",
       "      <td>0.25</td>\n",
       "      <td>1.00</td>\n",
       "      <td>...</td>\n",
       "      <td>0.00</td>\n",
       "      <td>0.50</td>\n",
       "      <td>1.00</td>\n",
       "      <td>1.00</td>\n",
       "      <td>0.75</td>\n",
       "      <td>0.75</td>\n",
       "      <td>24</td>\n",
       "      <td>4</td>\n",
       "      <td>2</td>\n",
       "      <td>1</td>\n",
       "    </tr>\n",
       "    <tr>\n",
       "      <th>2</th>\n",
       "      <td>0.75</td>\n",
       "      <td>0.75</td>\n",
       "      <td>0.75</td>\n",
       "      <td>0.50</td>\n",
       "      <td>0.50</td>\n",
       "      <td>0.50</td>\n",
       "      <td>0.25</td>\n",
       "      <td>1.00</td>\n",
       "      <td>0.75</td>\n",
       "      <td>1.00</td>\n",
       "      <td>...</td>\n",
       "      <td>0.50</td>\n",
       "      <td>0.50</td>\n",
       "      <td>0.25</td>\n",
       "      <td>0.50</td>\n",
       "      <td>0.50</td>\n",
       "      <td>0.50</td>\n",
       "      <td>83</td>\n",
       "      <td>57</td>\n",
       "      <td>2</td>\n",
       "      <td>2</td>\n",
       "    </tr>\n",
       "    <tr>\n",
       "      <th>3</th>\n",
       "      <td>0.25</td>\n",
       "      <td>0.25</td>\n",
       "      <td>0.25</td>\n",
       "      <td>0.25</td>\n",
       "      <td>0.75</td>\n",
       "      <td>0.25</td>\n",
       "      <td>0.25</td>\n",
       "      <td>0.75</td>\n",
       "      <td>0.50</td>\n",
       "      <td>0.00</td>\n",
       "      <td>...</td>\n",
       "      <td>0.50</td>\n",
       "      <td>0.25</td>\n",
       "      <td>0.25</td>\n",
       "      <td>1.00</td>\n",
       "      <td>0.75</td>\n",
       "      <td>1.00</td>\n",
       "      <td>101</td>\n",
       "      <td>109</td>\n",
       "      <td>4</td>\n",
       "      <td>3</td>\n",
       "    </tr>\n",
       "    <tr>\n",
       "      <th>4</th>\n",
       "      <td>0.00</td>\n",
       "      <td>0.00</td>\n",
       "      <td>0.00</td>\n",
       "      <td>0.00</td>\n",
       "      <td>0.50</td>\n",
       "      <td>0.00</td>\n",
       "      <td>0.00</td>\n",
       "      <td>0.25</td>\n",
       "      <td>0.50</td>\n",
       "      <td>1.00</td>\n",
       "      <td>...</td>\n",
       "      <td>0.75</td>\n",
       "      <td>0.50</td>\n",
       "      <td>0.00</td>\n",
       "      <td>0.00</td>\n",
       "      <td>0.50</td>\n",
       "      <td>0.50</td>\n",
       "      <td>101</td>\n",
       "      <td>92</td>\n",
       "      <td>2</td>\n",
       "      <td>2</td>\n",
       "    </tr>\n",
       "    <tr>\n",
       "      <th>...</th>\n",
       "      <td>...</td>\n",
       "      <td>...</td>\n",
       "      <td>...</td>\n",
       "      <td>...</td>\n",
       "      <td>...</td>\n",
       "      <td>...</td>\n",
       "      <td>...</td>\n",
       "      <td>...</td>\n",
       "      <td>...</td>\n",
       "      <td>...</td>\n",
       "      <td>...</td>\n",
       "      <td>...</td>\n",
       "      <td>...</td>\n",
       "      <td>...</td>\n",
       "      <td>...</td>\n",
       "      <td>...</td>\n",
       "      <td>...</td>\n",
       "      <td>...</td>\n",
       "      <td>...</td>\n",
       "      <td>...</td>\n",
       "      <td>...</td>\n",
       "    </tr>\n",
       "    <tr>\n",
       "      <th>175122</th>\n",
       "      <td>0.75</td>\n",
       "      <td>0.75</td>\n",
       "      <td>0.75</td>\n",
       "      <td>0.75</td>\n",
       "      <td>0.75</td>\n",
       "      <td>1.00</td>\n",
       "      <td>1.00</td>\n",
       "      <td>0.00</td>\n",
       "      <td>0.75</td>\n",
       "      <td>1.00</td>\n",
       "      <td>...</td>\n",
       "      <td>0.75</td>\n",
       "      <td>0.50</td>\n",
       "      <td>1.00</td>\n",
       "      <td>0.00</td>\n",
       "      <td>0.00</td>\n",
       "      <td>0.00</td>\n",
       "      <td>31</td>\n",
       "      <td>37</td>\n",
       "      <td>2</td>\n",
       "      <td>2</td>\n",
       "    </tr>\n",
       "    <tr>\n",
       "      <th>175123</th>\n",
       "      <td>0.75</td>\n",
       "      <td>0.75</td>\n",
       "      <td>0.75</td>\n",
       "      <td>0.75</td>\n",
       "      <td>0.75</td>\n",
       "      <td>0.25</td>\n",
       "      <td>0.00</td>\n",
       "      <td>1.00</td>\n",
       "      <td>0.75</td>\n",
       "      <td>1.00</td>\n",
       "      <td>...</td>\n",
       "      <td>0.00</td>\n",
       "      <td>0.25</td>\n",
       "      <td>0.25</td>\n",
       "      <td>0.25</td>\n",
       "      <td>0.25</td>\n",
       "      <td>0.25</td>\n",
       "      <td>79</td>\n",
       "      <td>131</td>\n",
       "      <td>2</td>\n",
       "      <td>2</td>\n",
       "    </tr>\n",
       "    <tr>\n",
       "      <th>175124</th>\n",
       "      <td>0.50</td>\n",
       "      <td>0.50</td>\n",
       "      <td>0.50</td>\n",
       "      <td>0.50</td>\n",
       "      <td>0.00</td>\n",
       "      <td>0.50</td>\n",
       "      <td>0.25</td>\n",
       "      <td>0.75</td>\n",
       "      <td>0.00</td>\n",
       "      <td>0.25</td>\n",
       "      <td>...</td>\n",
       "      <td>0.50</td>\n",
       "      <td>0.25</td>\n",
       "      <td>0.00</td>\n",
       "      <td>0.25</td>\n",
       "      <td>1.00</td>\n",
       "      <td>0.75</td>\n",
       "      <td>65</td>\n",
       "      <td>118</td>\n",
       "      <td>2</td>\n",
       "      <td>3</td>\n",
       "    </tr>\n",
       "    <tr>\n",
       "      <th>175125</th>\n",
       "      <td>0.25</td>\n",
       "      <td>0.25</td>\n",
       "      <td>0.25</td>\n",
       "      <td>0.25</td>\n",
       "      <td>0.50</td>\n",
       "      <td>0.25</td>\n",
       "      <td>0.25</td>\n",
       "      <td>0.25</td>\n",
       "      <td>0.50</td>\n",
       "      <td>0.75</td>\n",
       "      <td>...</td>\n",
       "      <td>0.75</td>\n",
       "      <td>0.50</td>\n",
       "      <td>0.25</td>\n",
       "      <td>0.50</td>\n",
       "      <td>0.50</td>\n",
       "      <td>0.50</td>\n",
       "      <td>115</td>\n",
       "      <td>19</td>\n",
       "      <td>2</td>\n",
       "      <td>3</td>\n",
       "    </tr>\n",
       "    <tr>\n",
       "      <th>175126</th>\n",
       "      <td>0.25</td>\n",
       "      <td>0.25</td>\n",
       "      <td>0.25</td>\n",
       "      <td>0.25</td>\n",
       "      <td>0.50</td>\n",
       "      <td>0.00</td>\n",
       "      <td>0.25</td>\n",
       "      <td>0.00</td>\n",
       "      <td>0.25</td>\n",
       "      <td>0.50</td>\n",
       "      <td>...</td>\n",
       "      <td>0.75</td>\n",
       "      <td>0.25</td>\n",
       "      <td>0.00</td>\n",
       "      <td>0.00</td>\n",
       "      <td>0.00</td>\n",
       "      <td>0.75</td>\n",
       "      <td>87</td>\n",
       "      <td>25</td>\n",
       "      <td>1</td>\n",
       "      <td>1</td>\n",
       "    </tr>\n",
       "  </tbody>\n",
       "</table>\n",
       "<p>175127 rows × 28 columns</p>\n",
       "</div>"
      ],
      "text/plain": [
       "        Open_n_val  High_n_val  Low_n_val  Close_n_val  Volume_n_val  \\\n",
       "0             0.75        0.75       0.75         0.75          0.25   \n",
       "1             0.25        0.25       0.25         0.25          0.25   \n",
       "2             0.75        0.75       0.75         0.50          0.50   \n",
       "3             0.25        0.25       0.25         0.25          0.75   \n",
       "4             0.00        0.00       0.00         0.00          0.50   \n",
       "...            ...         ...        ...          ...           ...   \n",
       "175122        0.75        0.75       0.75         0.75          0.75   \n",
       "175123        0.75        0.75       0.75         0.75          0.75   \n",
       "175124        0.50        0.50       0.50         0.50          0.00   \n",
       "175125        0.25        0.25       0.25         0.25          0.50   \n",
       "175126        0.25        0.25       0.25         0.25          0.50   \n",
       "\n",
       "        SMA_10_val  SMA_20_val  CMO_14_val  High_n-Low_n_val  \\\n",
       "0             1.00        1.00        0.50              0.25   \n",
       "1             0.50        0.75        0.00              0.25   \n",
       "2             0.50        0.25        1.00              0.75   \n",
       "3             0.25        0.25        0.75              0.50   \n",
       "4             0.00        0.00        0.25              0.50   \n",
       "...            ...         ...         ...               ...   \n",
       "175122        1.00        1.00        0.00              0.75   \n",
       "175123        0.25        0.00        1.00              0.75   \n",
       "175124        0.50        0.25        0.75              0.00   \n",
       "175125        0.25        0.25        0.25              0.50   \n",
       "175126        0.00        0.25        0.00              0.25   \n",
       "\n",
       "        Open_n-Close_n_val  ...  High_n-Low_n_changelen_val  \\\n",
       "0                     0.25  ...                        0.75   \n",
       "1                     1.00  ...                        0.00   \n",
       "2                     1.00  ...                        0.50   \n",
       "3                     0.00  ...                        0.50   \n",
       "4                     1.00  ...                        0.75   \n",
       "...                    ...  ...                         ...   \n",
       "175122                1.00  ...                        0.75   \n",
       "175123                1.00  ...                        0.00   \n",
       "175124                0.25  ...                        0.50   \n",
       "175125                0.75  ...                        0.75   \n",
       "175126                0.50  ...                        0.75   \n",
       "\n",
       "        Open_n-Close_n_changelen_val  SMA_20-SMA_10_changelen_val  \\\n",
       "0                               0.25                         0.50   \n",
       "1                               0.50                         1.00   \n",
       "2                               0.50                         0.25   \n",
       "3                               0.25                         0.25   \n",
       "4                               0.50                         0.00   \n",
       "...                              ...                          ...   \n",
       "175122                          0.50                         1.00   \n",
       "175123                          0.25                         0.25   \n",
       "175124                          0.25                         0.00   \n",
       "175125                          0.50                         0.25   \n",
       "175126                          0.25                         0.00   \n",
       "\n",
       "        Close_n_slope_3_changelen_val  Close_n_slope_5_changelen_val  \\\n",
       "0                                0.75                           1.00   \n",
       "1                                1.00                           0.75   \n",
       "2                                0.50                           0.50   \n",
       "3                                1.00                           0.75   \n",
       "4                                0.00                           0.50   \n",
       "...                               ...                            ...   \n",
       "175122                           0.00                           0.00   \n",
       "175123                           0.25                           0.25   \n",
       "175124                           0.25                           1.00   \n",
       "175125                           0.50                           0.50   \n",
       "175126                           0.00                           0.00   \n",
       "\n",
       "        Close_n_slope_10_changelen_val  row_num  era  target_10_val  \\\n",
       "0                                 0.50      100  118              3   \n",
       "1                                 0.75       24    4              2   \n",
       "2                                 0.50       83   57              2   \n",
       "3                                 1.00      101  109              4   \n",
       "4                                 0.50      101   92              2   \n",
       "...                                ...      ...  ...            ...   \n",
       "175122                            0.00       31   37              2   \n",
       "175123                            0.25       79  131              2   \n",
       "175124                            0.75       65  118              2   \n",
       "175125                            0.50      115   19              2   \n",
       "175126                            0.75       87   25              1   \n",
       "\n",
       "        target_5_val  \n",
       "0                  2  \n",
       "1                  1  \n",
       "2                  2  \n",
       "3                  3  \n",
       "4                  2  \n",
       "...              ...  \n",
       "175122             2  \n",
       "175123             2  \n",
       "175124             3  \n",
       "175125             3  \n",
       "175126             1  \n",
       "\n",
       "[175127 rows x 28 columns]"
      ]
     },
     "execution_count": 4,
     "metadata": {},
     "output_type": "execute_result"
    }
   ],
   "source": [
    "dataset"
   ]
  },
  {
   "cell_type": "code",
   "execution_count": 5,
   "metadata": {},
   "outputs": [
    {
     "data": {
      "text/html": [
       "<div>\n",
       "<style scoped>\n",
       "    .dataframe tbody tr th:only-of-type {\n",
       "        vertical-align: middle;\n",
       "    }\n",
       "\n",
       "    .dataframe tbody tr th {\n",
       "        vertical-align: top;\n",
       "    }\n",
       "\n",
       "    .dataframe thead th {\n",
       "        text-align: right;\n",
       "    }\n",
       "</style>\n",
       "<table border=\"1\" class=\"dataframe\">\n",
       "  <thead>\n",
       "    <tr style=\"text-align: right;\">\n",
       "      <th></th>\n",
       "      <th>Open_n_val</th>\n",
       "      <th>High_n_val</th>\n",
       "      <th>Low_n_val</th>\n",
       "      <th>Close_n_val</th>\n",
       "      <th>Volume_n_val</th>\n",
       "      <th>SMA_10_val</th>\n",
       "      <th>SMA_20_val</th>\n",
       "      <th>CMO_14_val</th>\n",
       "      <th>High_n-Low_n_val</th>\n",
       "      <th>Open_n-Close_n_val</th>\n",
       "      <th>...</th>\n",
       "      <th>Close_n_changelen_val</th>\n",
       "      <th>High_n-Low_n_changelen_val</th>\n",
       "      <th>Open_n-Close_n_changelen_val</th>\n",
       "      <th>SMA_20-SMA_10_changelen_val</th>\n",
       "      <th>Close_n_slope_3_changelen_val</th>\n",
       "      <th>Close_n_slope_5_changelen_val</th>\n",
       "      <th>Close_n_slope_10_changelen_val</th>\n",
       "      <th>row_num</th>\n",
       "      <th>target_10_val</th>\n",
       "      <th>era</th>\n",
       "    </tr>\n",
       "  </thead>\n",
       "  <tbody>\n",
       "    <tr>\n",
       "      <th>0</th>\n",
       "      <td>0.75</td>\n",
       "      <td>0.75</td>\n",
       "      <td>0.75</td>\n",
       "      <td>0.75</td>\n",
       "      <td>0.25</td>\n",
       "      <td>1.00</td>\n",
       "      <td>1.00</td>\n",
       "      <td>0.50</td>\n",
       "      <td>0.25</td>\n",
       "      <td>0.25</td>\n",
       "      <td>...</td>\n",
       "      <td>1.00</td>\n",
       "      <td>0.75</td>\n",
       "      <td>0.25</td>\n",
       "      <td>0.50</td>\n",
       "      <td>0.75</td>\n",
       "      <td>1.00</td>\n",
       "      <td>0.50</td>\n",
       "      <td>100</td>\n",
       "      <td>3</td>\n",
       "      <td>118</td>\n",
       "    </tr>\n",
       "    <tr>\n",
       "      <th>1</th>\n",
       "      <td>0.25</td>\n",
       "      <td>0.25</td>\n",
       "      <td>0.25</td>\n",
       "      <td>0.25</td>\n",
       "      <td>0.25</td>\n",
       "      <td>0.50</td>\n",
       "      <td>0.75</td>\n",
       "      <td>0.00</td>\n",
       "      <td>0.25</td>\n",
       "      <td>1.00</td>\n",
       "      <td>...</td>\n",
       "      <td>0.25</td>\n",
       "      <td>0.00</td>\n",
       "      <td>0.50</td>\n",
       "      <td>1.00</td>\n",
       "      <td>1.00</td>\n",
       "      <td>0.75</td>\n",
       "      <td>0.75</td>\n",
       "      <td>24</td>\n",
       "      <td>2</td>\n",
       "      <td>4</td>\n",
       "    </tr>\n",
       "    <tr>\n",
       "      <th>2</th>\n",
       "      <td>0.75</td>\n",
       "      <td>0.75</td>\n",
       "      <td>0.75</td>\n",
       "      <td>0.50</td>\n",
       "      <td>0.50</td>\n",
       "      <td>0.50</td>\n",
       "      <td>0.25</td>\n",
       "      <td>1.00</td>\n",
       "      <td>0.75</td>\n",
       "      <td>1.00</td>\n",
       "      <td>...</td>\n",
       "      <td>0.50</td>\n",
       "      <td>0.50</td>\n",
       "      <td>0.50</td>\n",
       "      <td>0.25</td>\n",
       "      <td>0.50</td>\n",
       "      <td>0.50</td>\n",
       "      <td>0.50</td>\n",
       "      <td>83</td>\n",
       "      <td>2</td>\n",
       "      <td>57</td>\n",
       "    </tr>\n",
       "    <tr>\n",
       "      <th>3</th>\n",
       "      <td>0.25</td>\n",
       "      <td>0.25</td>\n",
       "      <td>0.25</td>\n",
       "      <td>0.25</td>\n",
       "      <td>0.75</td>\n",
       "      <td>0.25</td>\n",
       "      <td>0.25</td>\n",
       "      <td>0.75</td>\n",
       "      <td>0.50</td>\n",
       "      <td>0.00</td>\n",
       "      <td>...</td>\n",
       "      <td>1.00</td>\n",
       "      <td>0.50</td>\n",
       "      <td>0.25</td>\n",
       "      <td>0.25</td>\n",
       "      <td>1.00</td>\n",
       "      <td>0.75</td>\n",
       "      <td>1.00</td>\n",
       "      <td>101</td>\n",
       "      <td>4</td>\n",
       "      <td>109</td>\n",
       "    </tr>\n",
       "    <tr>\n",
       "      <th>4</th>\n",
       "      <td>0.00</td>\n",
       "      <td>0.00</td>\n",
       "      <td>0.00</td>\n",
       "      <td>0.00</td>\n",
       "      <td>0.50</td>\n",
       "      <td>0.00</td>\n",
       "      <td>0.00</td>\n",
       "      <td>0.25</td>\n",
       "      <td>0.50</td>\n",
       "      <td>1.00</td>\n",
       "      <td>...</td>\n",
       "      <td>0.50</td>\n",
       "      <td>0.75</td>\n",
       "      <td>0.50</td>\n",
       "      <td>0.00</td>\n",
       "      <td>0.00</td>\n",
       "      <td>0.50</td>\n",
       "      <td>0.50</td>\n",
       "      <td>101</td>\n",
       "      <td>2</td>\n",
       "      <td>92</td>\n",
       "    </tr>\n",
       "    <tr>\n",
       "      <th>...</th>\n",
       "      <td>...</td>\n",
       "      <td>...</td>\n",
       "      <td>...</td>\n",
       "      <td>...</td>\n",
       "      <td>...</td>\n",
       "      <td>...</td>\n",
       "      <td>...</td>\n",
       "      <td>...</td>\n",
       "      <td>...</td>\n",
       "      <td>...</td>\n",
       "      <td>...</td>\n",
       "      <td>...</td>\n",
       "      <td>...</td>\n",
       "      <td>...</td>\n",
       "      <td>...</td>\n",
       "      <td>...</td>\n",
       "      <td>...</td>\n",
       "      <td>...</td>\n",
       "      <td>...</td>\n",
       "      <td>...</td>\n",
       "      <td>...</td>\n",
       "    </tr>\n",
       "    <tr>\n",
       "      <th>175122</th>\n",
       "      <td>0.75</td>\n",
       "      <td>0.75</td>\n",
       "      <td>0.75</td>\n",
       "      <td>0.75</td>\n",
       "      <td>0.75</td>\n",
       "      <td>1.00</td>\n",
       "      <td>1.00</td>\n",
       "      <td>0.00</td>\n",
       "      <td>0.75</td>\n",
       "      <td>1.00</td>\n",
       "      <td>...</td>\n",
       "      <td>0.00</td>\n",
       "      <td>0.75</td>\n",
       "      <td>0.50</td>\n",
       "      <td>1.00</td>\n",
       "      <td>0.00</td>\n",
       "      <td>0.00</td>\n",
       "      <td>0.00</td>\n",
       "      <td>31</td>\n",
       "      <td>2</td>\n",
       "      <td>37</td>\n",
       "    </tr>\n",
       "    <tr>\n",
       "      <th>175123</th>\n",
       "      <td>0.75</td>\n",
       "      <td>0.75</td>\n",
       "      <td>0.75</td>\n",
       "      <td>0.75</td>\n",
       "      <td>0.75</td>\n",
       "      <td>0.25</td>\n",
       "      <td>0.00</td>\n",
       "      <td>1.00</td>\n",
       "      <td>0.75</td>\n",
       "      <td>1.00</td>\n",
       "      <td>...</td>\n",
       "      <td>0.25</td>\n",
       "      <td>0.00</td>\n",
       "      <td>0.25</td>\n",
       "      <td>0.25</td>\n",
       "      <td>0.25</td>\n",
       "      <td>0.25</td>\n",
       "      <td>0.25</td>\n",
       "      <td>79</td>\n",
       "      <td>2</td>\n",
       "      <td>131</td>\n",
       "    </tr>\n",
       "    <tr>\n",
       "      <th>175124</th>\n",
       "      <td>0.50</td>\n",
       "      <td>0.50</td>\n",
       "      <td>0.50</td>\n",
       "      <td>0.50</td>\n",
       "      <td>0.00</td>\n",
       "      <td>0.50</td>\n",
       "      <td>0.25</td>\n",
       "      <td>0.75</td>\n",
       "      <td>0.00</td>\n",
       "      <td>0.25</td>\n",
       "      <td>...</td>\n",
       "      <td>0.75</td>\n",
       "      <td>0.50</td>\n",
       "      <td>0.25</td>\n",
       "      <td>0.00</td>\n",
       "      <td>0.25</td>\n",
       "      <td>1.00</td>\n",
       "      <td>0.75</td>\n",
       "      <td>65</td>\n",
       "      <td>2</td>\n",
       "      <td>118</td>\n",
       "    </tr>\n",
       "    <tr>\n",
       "      <th>175125</th>\n",
       "      <td>0.25</td>\n",
       "      <td>0.25</td>\n",
       "      <td>0.25</td>\n",
       "      <td>0.25</td>\n",
       "      <td>0.50</td>\n",
       "      <td>0.25</td>\n",
       "      <td>0.25</td>\n",
       "      <td>0.25</td>\n",
       "      <td>0.50</td>\n",
       "      <td>0.75</td>\n",
       "      <td>...</td>\n",
       "      <td>0.50</td>\n",
       "      <td>0.75</td>\n",
       "      <td>0.50</td>\n",
       "      <td>0.25</td>\n",
       "      <td>0.50</td>\n",
       "      <td>0.50</td>\n",
       "      <td>0.50</td>\n",
       "      <td>115</td>\n",
       "      <td>2</td>\n",
       "      <td>19</td>\n",
       "    </tr>\n",
       "    <tr>\n",
       "      <th>175126</th>\n",
       "      <td>0.25</td>\n",
       "      <td>0.25</td>\n",
       "      <td>0.25</td>\n",
       "      <td>0.25</td>\n",
       "      <td>0.50</td>\n",
       "      <td>0.00</td>\n",
       "      <td>0.25</td>\n",
       "      <td>0.00</td>\n",
       "      <td>0.25</td>\n",
       "      <td>0.50</td>\n",
       "      <td>...</td>\n",
       "      <td>0.75</td>\n",
       "      <td>0.75</td>\n",
       "      <td>0.25</td>\n",
       "      <td>0.00</td>\n",
       "      <td>0.00</td>\n",
       "      <td>0.00</td>\n",
       "      <td>0.75</td>\n",
       "      <td>87</td>\n",
       "      <td>1</td>\n",
       "      <td>25</td>\n",
       "    </tr>\n",
       "  </tbody>\n",
       "</table>\n",
       "<p>175127 rows × 27 columns</p>\n",
       "</div>"
      ],
      "text/plain": [
       "        Open_n_val  High_n_val  Low_n_val  Close_n_val  Volume_n_val  \\\n",
       "0             0.75        0.75       0.75         0.75          0.25   \n",
       "1             0.25        0.25       0.25         0.25          0.25   \n",
       "2             0.75        0.75       0.75         0.50          0.50   \n",
       "3             0.25        0.25       0.25         0.25          0.75   \n",
       "4             0.00        0.00       0.00         0.00          0.50   \n",
       "...            ...         ...        ...          ...           ...   \n",
       "175122        0.75        0.75       0.75         0.75          0.75   \n",
       "175123        0.75        0.75       0.75         0.75          0.75   \n",
       "175124        0.50        0.50       0.50         0.50          0.00   \n",
       "175125        0.25        0.25       0.25         0.25          0.50   \n",
       "175126        0.25        0.25       0.25         0.25          0.50   \n",
       "\n",
       "        SMA_10_val  SMA_20_val  CMO_14_val  High_n-Low_n_val  \\\n",
       "0             1.00        1.00        0.50              0.25   \n",
       "1             0.50        0.75        0.00              0.25   \n",
       "2             0.50        0.25        1.00              0.75   \n",
       "3             0.25        0.25        0.75              0.50   \n",
       "4             0.00        0.00        0.25              0.50   \n",
       "...            ...         ...         ...               ...   \n",
       "175122        1.00        1.00        0.00              0.75   \n",
       "175123        0.25        0.00        1.00              0.75   \n",
       "175124        0.50        0.25        0.75              0.00   \n",
       "175125        0.25        0.25        0.25              0.50   \n",
       "175126        0.00        0.25        0.00              0.25   \n",
       "\n",
       "        Open_n-Close_n_val  ...  Close_n_changelen_val  \\\n",
       "0                     0.25  ...                   1.00   \n",
       "1                     1.00  ...                   0.25   \n",
       "2                     1.00  ...                   0.50   \n",
       "3                     0.00  ...                   1.00   \n",
       "4                     1.00  ...                   0.50   \n",
       "...                    ...  ...                    ...   \n",
       "175122                1.00  ...                   0.00   \n",
       "175123                1.00  ...                   0.25   \n",
       "175124                0.25  ...                   0.75   \n",
       "175125                0.75  ...                   0.50   \n",
       "175126                0.50  ...                   0.75   \n",
       "\n",
       "        High_n-Low_n_changelen_val  Open_n-Close_n_changelen_val  \\\n",
       "0                             0.75                          0.25   \n",
       "1                             0.00                          0.50   \n",
       "2                             0.50                          0.50   \n",
       "3                             0.50                          0.25   \n",
       "4                             0.75                          0.50   \n",
       "...                            ...                           ...   \n",
       "175122                        0.75                          0.50   \n",
       "175123                        0.00                          0.25   \n",
       "175124                        0.50                          0.25   \n",
       "175125                        0.75                          0.50   \n",
       "175126                        0.75                          0.25   \n",
       "\n",
       "        SMA_20-SMA_10_changelen_val  Close_n_slope_3_changelen_val  \\\n",
       "0                              0.50                           0.75   \n",
       "1                              1.00                           1.00   \n",
       "2                              0.25                           0.50   \n",
       "3                              0.25                           1.00   \n",
       "4                              0.00                           0.00   \n",
       "...                             ...                            ...   \n",
       "175122                         1.00                           0.00   \n",
       "175123                         0.25                           0.25   \n",
       "175124                         0.00                           0.25   \n",
       "175125                         0.25                           0.50   \n",
       "175126                         0.00                           0.00   \n",
       "\n",
       "        Close_n_slope_5_changelen_val  Close_n_slope_10_changelen_val  \\\n",
       "0                                1.00                            0.50   \n",
       "1                                0.75                            0.75   \n",
       "2                                0.50                            0.50   \n",
       "3                                0.75                            1.00   \n",
       "4                                0.50                            0.50   \n",
       "...                               ...                             ...   \n",
       "175122                           0.00                            0.00   \n",
       "175123                           0.25                            0.25   \n",
       "175124                           1.00                            0.75   \n",
       "175125                           0.50                            0.50   \n",
       "175126                           0.00                            0.75   \n",
       "\n",
       "        row_num  target_10_val  era  \n",
       "0           100              3  118  \n",
       "1            24              2    4  \n",
       "2            83              2   57  \n",
       "3           101              4  109  \n",
       "4           101              2   92  \n",
       "...         ...            ...  ...  \n",
       "175122       31              2   37  \n",
       "175123       79              2  131  \n",
       "175124       65              2  118  \n",
       "175125      115              2   19  \n",
       "175126       87              1   25  \n",
       "\n",
       "[175127 rows x 27 columns]"
      ]
     },
     "execution_count": 5,
     "metadata": {},
     "output_type": "execute_result"
    }
   ],
   "source": [
    "# remove target_5_val, sigma from the dataset\n",
    "new_dataset = dataset.drop(columns=[\"target_5_val\"])\n",
    "era = new_dataset.pop(\"era\")\n",
    "target = new_dataset.pop(target_column)\n",
    "new_dataset[target_column] = target\n",
    "new_dataset[\"era\"] = era\n",
    "new_dataset"
   ]
  },
  {
   "cell_type": "code",
   "execution_count": 2,
   "metadata": {},
   "outputs": [],
   "source": [
    "class CustomDataset(Dataset):\n",
    "    def __init__(self, X,y):\n",
    "        self.X =X\n",
    "        self.y = y\n",
    "\n",
    "    def __len__(self):\n",
    "        return len(self.X)\n",
    "\n",
    "    def __getitem__(self, idx):\n",
    "        return self.X[idx], self.y[idx]"
   ]
  },
  {
   "cell_type": "code",
   "execution_count": 15,
   "metadata": {},
   "outputs": [],
   "source": [
    "train_dataset = CustomDataset(new_dataset.drop(columns=[target_column,'era','row_num']).values, new_dataset[target_column].values)\n",
    "train_loader = DataLoader(train_dataset, batch_size=256, shuffle=shuffle)"
   ]
  },
  {
   "cell_type": "code",
   "execution_count": 8,
   "metadata": {},
   "outputs": [],
   "source": [
    "# load test_data\n",
    "df_test = pd.read_csv(\"data/cf_test_no_noise.csv\")\n",
    "df_test_noise = pd.read_csv(\"data/cf_test.csv\")\n",
    "\n",
    "df_test[\"era\"] = df_test[\"era\"].apply(encode, args=(era_encoding,))\n",
    "df_test[\"target_5_val\"] = df_test[\"target_5_val\"].apply(encode, args=(target_encoding,))\n",
    "df_test[\"target_10_val\"] = df_test[\"target_10_val\"].apply(encode, args=(target_encoding,))\n",
    "df_test_noise[\"era\"] = df_test_noise[\"era\"].apply(encode, args=(era_encoding,))\n",
    "df_test_noise[\"target_5_val\"] = df_test_noise[\"target_5_val\"].apply(encode, args=(target_encoding,))\n",
    "df_test_noise[\"target_10_val\"] = df_test_noise[\"target_10_val\"].apply(encode, args=(target_encoding,))\n",
    "\n",
    "test_set = df_test\n",
    "target_column = \"target_10_val\"\n",
    "output_classes = 5\n"
   ]
  },
  {
   "cell_type": "code",
   "execution_count": 9,
   "metadata": {},
   "outputs": [
    {
     "data": {
      "text/html": [
       "<div>\n",
       "<style scoped>\n",
       "    .dataframe tbody tr th:only-of-type {\n",
       "        vertical-align: middle;\n",
       "    }\n",
       "\n",
       "    .dataframe tbody tr th {\n",
       "        vertical-align: top;\n",
       "    }\n",
       "\n",
       "    .dataframe thead th {\n",
       "        text-align: right;\n",
       "    }\n",
       "</style>\n",
       "<table border=\"1\" class=\"dataframe\">\n",
       "  <thead>\n",
       "    <tr style=\"text-align: right;\">\n",
       "      <th></th>\n",
       "      <th>Open_n_val</th>\n",
       "      <th>High_n_val</th>\n",
       "      <th>Low_n_val</th>\n",
       "      <th>Close_n_val</th>\n",
       "      <th>Volume_n_val</th>\n",
       "      <th>SMA_10_val</th>\n",
       "      <th>SMA_20_val</th>\n",
       "      <th>CMO_14_val</th>\n",
       "      <th>High_n-Low_n_val</th>\n",
       "      <th>Open_n-Close_n_val</th>\n",
       "      <th>...</th>\n",
       "      <th>Open_n-Close_n_changelen_val</th>\n",
       "      <th>SMA_20-SMA_10_changelen_val</th>\n",
       "      <th>Close_n_slope_3_changelen_val</th>\n",
       "      <th>Close_n_slope_5_changelen_val</th>\n",
       "      <th>Close_n_slope_10_changelen_val</th>\n",
       "      <th>row_num</th>\n",
       "      <th>day</th>\n",
       "      <th>day_no</th>\n",
       "      <th>target_10_val</th>\n",
       "      <th>era</th>\n",
       "    </tr>\n",
       "  </thead>\n",
       "  <tbody>\n",
       "    <tr>\n",
       "      <th>0</th>\n",
       "      <td>0.50</td>\n",
       "      <td>0.50</td>\n",
       "      <td>0.50</td>\n",
       "      <td>0.50</td>\n",
       "      <td>0.0</td>\n",
       "      <td>0.75</td>\n",
       "      <td>0.75</td>\n",
       "      <td>0.25</td>\n",
       "      <td>0.25</td>\n",
       "      <td>0.0</td>\n",
       "      <td>...</td>\n",
       "      <td>0.50</td>\n",
       "      <td>1.00</td>\n",
       "      <td>0.50</td>\n",
       "      <td>0.75</td>\n",
       "      <td>0.50</td>\n",
       "      <td>75</td>\n",
       "      <td>555</td>\n",
       "      <td>0</td>\n",
       "      <td>4</td>\n",
       "      <td>NaN</td>\n",
       "    </tr>\n",
       "    <tr>\n",
       "      <th>1</th>\n",
       "      <td>0.50</td>\n",
       "      <td>0.50</td>\n",
       "      <td>0.50</td>\n",
       "      <td>0.50</td>\n",
       "      <td>0.0</td>\n",
       "      <td>0.50</td>\n",
       "      <td>0.75</td>\n",
       "      <td>0.25</td>\n",
       "      <td>0.25</td>\n",
       "      <td>0.0</td>\n",
       "      <td>...</td>\n",
       "      <td>0.75</td>\n",
       "      <td>1.00</td>\n",
       "      <td>0.75</td>\n",
       "      <td>0.75</td>\n",
       "      <td>0.75</td>\n",
       "      <td>76</td>\n",
       "      <td>555</td>\n",
       "      <td>0</td>\n",
       "      <td>4</td>\n",
       "      <td>NaN</td>\n",
       "    </tr>\n",
       "    <tr>\n",
       "      <th>2</th>\n",
       "      <td>0.50</td>\n",
       "      <td>0.50</td>\n",
       "      <td>0.50</td>\n",
       "      <td>0.50</td>\n",
       "      <td>0.0</td>\n",
       "      <td>0.50</td>\n",
       "      <td>0.75</td>\n",
       "      <td>0.50</td>\n",
       "      <td>0.25</td>\n",
       "      <td>0.0</td>\n",
       "      <td>...</td>\n",
       "      <td>0.75</td>\n",
       "      <td>0.50</td>\n",
       "      <td>0.75</td>\n",
       "      <td>0.75</td>\n",
       "      <td>0.75</td>\n",
       "      <td>77</td>\n",
       "      <td>555</td>\n",
       "      <td>0</td>\n",
       "      <td>4</td>\n",
       "      <td>NaN</td>\n",
       "    </tr>\n",
       "    <tr>\n",
       "      <th>3</th>\n",
       "      <td>0.50</td>\n",
       "      <td>0.50</td>\n",
       "      <td>0.50</td>\n",
       "      <td>0.75</td>\n",
       "      <td>0.0</td>\n",
       "      <td>0.50</td>\n",
       "      <td>0.75</td>\n",
       "      <td>0.50</td>\n",
       "      <td>0.25</td>\n",
       "      <td>0.0</td>\n",
       "      <td>...</td>\n",
       "      <td>0.75</td>\n",
       "      <td>0.50</td>\n",
       "      <td>0.75</td>\n",
       "      <td>0.75</td>\n",
       "      <td>0.75</td>\n",
       "      <td>78</td>\n",
       "      <td>555</td>\n",
       "      <td>0</td>\n",
       "      <td>4</td>\n",
       "      <td>NaN</td>\n",
       "    </tr>\n",
       "    <tr>\n",
       "      <th>4</th>\n",
       "      <td>0.75</td>\n",
       "      <td>0.75</td>\n",
       "      <td>0.75</td>\n",
       "      <td>0.75</td>\n",
       "      <td>0.0</td>\n",
       "      <td>0.50</td>\n",
       "      <td>0.75</td>\n",
       "      <td>0.50</td>\n",
       "      <td>0.25</td>\n",
       "      <td>0.0</td>\n",
       "      <td>...</td>\n",
       "      <td>0.75</td>\n",
       "      <td>0.25</td>\n",
       "      <td>0.50</td>\n",
       "      <td>0.75</td>\n",
       "      <td>0.75</td>\n",
       "      <td>79</td>\n",
       "      <td>555</td>\n",
       "      <td>0</td>\n",
       "      <td>4</td>\n",
       "      <td>NaN</td>\n",
       "    </tr>\n",
       "    <tr>\n",
       "      <th>...</th>\n",
       "      <td>...</td>\n",
       "      <td>...</td>\n",
       "      <td>...</td>\n",
       "      <td>...</td>\n",
       "      <td>...</td>\n",
       "      <td>...</td>\n",
       "      <td>...</td>\n",
       "      <td>...</td>\n",
       "      <td>...</td>\n",
       "      <td>...</td>\n",
       "      <td>...</td>\n",
       "      <td>...</td>\n",
       "      <td>...</td>\n",
       "      <td>...</td>\n",
       "      <td>...</td>\n",
       "      <td>...</td>\n",
       "      <td>...</td>\n",
       "      <td>...</td>\n",
       "      <td>...</td>\n",
       "      <td>...</td>\n",
       "      <td>...</td>\n",
       "    </tr>\n",
       "    <tr>\n",
       "      <th>62395</th>\n",
       "      <td>1.00</td>\n",
       "      <td>1.00</td>\n",
       "      <td>1.00</td>\n",
       "      <td>1.00</td>\n",
       "      <td>0.0</td>\n",
       "      <td>1.00</td>\n",
       "      <td>1.00</td>\n",
       "      <td>0.25</td>\n",
       "      <td>0.25</td>\n",
       "      <td>1.0</td>\n",
       "      <td>...</td>\n",
       "      <td>1.00</td>\n",
       "      <td>1.00</td>\n",
       "      <td>0.00</td>\n",
       "      <td>0.00</td>\n",
       "      <td>0.00</td>\n",
       "      <td>135</td>\n",
       "      <td>550</td>\n",
       "      <td>959</td>\n",
       "      <td>0</td>\n",
       "      <td>NaN</td>\n",
       "    </tr>\n",
       "    <tr>\n",
       "      <th>62396</th>\n",
       "      <td>1.00</td>\n",
       "      <td>1.00</td>\n",
       "      <td>1.00</td>\n",
       "      <td>1.00</td>\n",
       "      <td>0.0</td>\n",
       "      <td>1.00</td>\n",
       "      <td>1.00</td>\n",
       "      <td>0.25</td>\n",
       "      <td>0.25</td>\n",
       "      <td>1.0</td>\n",
       "      <td>...</td>\n",
       "      <td>1.00</td>\n",
       "      <td>1.00</td>\n",
       "      <td>0.00</td>\n",
       "      <td>0.00</td>\n",
       "      <td>0.00</td>\n",
       "      <td>136</td>\n",
       "      <td>550</td>\n",
       "      <td>959</td>\n",
       "      <td>0</td>\n",
       "      <td>NaN</td>\n",
       "    </tr>\n",
       "    <tr>\n",
       "      <th>62397</th>\n",
       "      <td>1.00</td>\n",
       "      <td>1.00</td>\n",
       "      <td>1.00</td>\n",
       "      <td>1.00</td>\n",
       "      <td>0.0</td>\n",
       "      <td>1.00</td>\n",
       "      <td>1.00</td>\n",
       "      <td>0.00</td>\n",
       "      <td>0.25</td>\n",
       "      <td>1.0</td>\n",
       "      <td>...</td>\n",
       "      <td>1.00</td>\n",
       "      <td>1.00</td>\n",
       "      <td>0.00</td>\n",
       "      <td>0.00</td>\n",
       "      <td>0.00</td>\n",
       "      <td>137</td>\n",
       "      <td>550</td>\n",
       "      <td>959</td>\n",
       "      <td>0</td>\n",
       "      <td>NaN</td>\n",
       "    </tr>\n",
       "    <tr>\n",
       "      <th>62398</th>\n",
       "      <td>1.00</td>\n",
       "      <td>1.00</td>\n",
       "      <td>1.00</td>\n",
       "      <td>1.00</td>\n",
       "      <td>0.0</td>\n",
       "      <td>1.00</td>\n",
       "      <td>1.00</td>\n",
       "      <td>0.00</td>\n",
       "      <td>0.25</td>\n",
       "      <td>1.0</td>\n",
       "      <td>...</td>\n",
       "      <td>1.00</td>\n",
       "      <td>1.00</td>\n",
       "      <td>0.00</td>\n",
       "      <td>0.00</td>\n",
       "      <td>0.00</td>\n",
       "      <td>138</td>\n",
       "      <td>550</td>\n",
       "      <td>959</td>\n",
       "      <td>0</td>\n",
       "      <td>NaN</td>\n",
       "    </tr>\n",
       "    <tr>\n",
       "      <th>62399</th>\n",
       "      <td>1.00</td>\n",
       "      <td>1.00</td>\n",
       "      <td>1.00</td>\n",
       "      <td>1.00</td>\n",
       "      <td>0.0</td>\n",
       "      <td>1.00</td>\n",
       "      <td>1.00</td>\n",
       "      <td>0.00</td>\n",
       "      <td>0.25</td>\n",
       "      <td>1.0</td>\n",
       "      <td>...</td>\n",
       "      <td>1.00</td>\n",
       "      <td>1.00</td>\n",
       "      <td>0.00</td>\n",
       "      <td>0.00</td>\n",
       "      <td>0.00</td>\n",
       "      <td>139</td>\n",
       "      <td>550</td>\n",
       "      <td>959</td>\n",
       "      <td>0</td>\n",
       "      <td>NaN</td>\n",
       "    </tr>\n",
       "  </tbody>\n",
       "</table>\n",
       "<p>62400 rows × 29 columns</p>\n",
       "</div>"
      ],
      "text/plain": [
       "       Open_n_val  High_n_val  Low_n_val  Close_n_val  Volume_n_val  \\\n",
       "0            0.50        0.50       0.50         0.50           0.0   \n",
       "1            0.50        0.50       0.50         0.50           0.0   \n",
       "2            0.50        0.50       0.50         0.50           0.0   \n",
       "3            0.50        0.50       0.50         0.75           0.0   \n",
       "4            0.75        0.75       0.75         0.75           0.0   \n",
       "...           ...         ...        ...          ...           ...   \n",
       "62395        1.00        1.00       1.00         1.00           0.0   \n",
       "62396        1.00        1.00       1.00         1.00           0.0   \n",
       "62397        1.00        1.00       1.00         1.00           0.0   \n",
       "62398        1.00        1.00       1.00         1.00           0.0   \n",
       "62399        1.00        1.00       1.00         1.00           0.0   \n",
       "\n",
       "       SMA_10_val  SMA_20_val  CMO_14_val  High_n-Low_n_val  \\\n",
       "0            0.75        0.75        0.25              0.25   \n",
       "1            0.50        0.75        0.25              0.25   \n",
       "2            0.50        0.75        0.50              0.25   \n",
       "3            0.50        0.75        0.50              0.25   \n",
       "4            0.50        0.75        0.50              0.25   \n",
       "...           ...         ...         ...               ...   \n",
       "62395        1.00        1.00        0.25              0.25   \n",
       "62396        1.00        1.00        0.25              0.25   \n",
       "62397        1.00        1.00        0.00              0.25   \n",
       "62398        1.00        1.00        0.00              0.25   \n",
       "62399        1.00        1.00        0.00              0.25   \n",
       "\n",
       "       Open_n-Close_n_val  ...  Open_n-Close_n_changelen_val  \\\n",
       "0                     0.0  ...                          0.50   \n",
       "1                     0.0  ...                          0.75   \n",
       "2                     0.0  ...                          0.75   \n",
       "3                     0.0  ...                          0.75   \n",
       "4                     0.0  ...                          0.75   \n",
       "...                   ...  ...                           ...   \n",
       "62395                 1.0  ...                          1.00   \n",
       "62396                 1.0  ...                          1.00   \n",
       "62397                 1.0  ...                          1.00   \n",
       "62398                 1.0  ...                          1.00   \n",
       "62399                 1.0  ...                          1.00   \n",
       "\n",
       "       SMA_20-SMA_10_changelen_val  Close_n_slope_3_changelen_val  \\\n",
       "0                             1.00                           0.50   \n",
       "1                             1.00                           0.75   \n",
       "2                             0.50                           0.75   \n",
       "3                             0.50                           0.75   \n",
       "4                             0.25                           0.50   \n",
       "...                            ...                            ...   \n",
       "62395                         1.00                           0.00   \n",
       "62396                         1.00                           0.00   \n",
       "62397                         1.00                           0.00   \n",
       "62398                         1.00                           0.00   \n",
       "62399                         1.00                           0.00   \n",
       "\n",
       "       Close_n_slope_5_changelen_val  Close_n_slope_10_changelen_val  row_num  \\\n",
       "0                               0.75                            0.50       75   \n",
       "1                               0.75                            0.75       76   \n",
       "2                               0.75                            0.75       77   \n",
       "3                               0.75                            0.75       78   \n",
       "4                               0.75                            0.75       79   \n",
       "...                              ...                             ...      ...   \n",
       "62395                           0.00                            0.00      135   \n",
       "62396                           0.00                            0.00      136   \n",
       "62397                           0.00                            0.00      137   \n",
       "62398                           0.00                            0.00      138   \n",
       "62399                           0.00                            0.00      139   \n",
       "\n",
       "       day  day_no  target_10_val  era  \n",
       "0      555       0              4  NaN  \n",
       "1      555       0              4  NaN  \n",
       "2      555       0              4  NaN  \n",
       "3      555       0              4  NaN  \n",
       "4      555       0              4  NaN  \n",
       "...    ...     ...            ...  ...  \n",
       "62395  550     959              0  NaN  \n",
       "62396  550     959              0  NaN  \n",
       "62397  550     959              0  NaN  \n",
       "62398  550     959              0  NaN  \n",
       "62399  550     959              0  NaN  \n",
       "\n",
       "[62400 rows x 29 columns]"
      ]
     },
     "execution_count": 9,
     "metadata": {},
     "output_type": "execute_result"
    }
   ],
   "source": [
    "new_test_dataset= test_set.drop(columns=[\"target_5_val\", \"sigma\"])\n",
    "era = new_test_dataset.pop(\"era\")\n",
    "target = new_test_dataset.pop(target_column)\n",
    "new_test_dataset[target_column] = target\n",
    "new_test_dataset[\"era\"] = era\n",
    "new_test_dataset\n"
   ]
  },
  {
   "cell_type": "code",
   "execution_count": 10,
   "metadata": {},
   "outputs": [],
   "source": [
    "test_dataset = CustomDataset(new_test_dataset.drop(columns=[target_column,'era','row_num','day','day_no']).values, new_test_dataset[target_column].values)\n",
    "test_loader = DataLoader(test_dataset, batch_size=1, shuffle=False)"
   ]
  },
  {
   "cell_type": "code",
   "execution_count": 11,
   "metadata": {},
   "outputs": [
    {
     "data": {
      "text/plain": [
       "[tensor([[0.5000, 0.5000, 0.5000, 0.5000, 0.0000, 0.7500, 0.7500, 0.2500, 0.2500,\n",
       "          0.0000, 0.7500, 0.2500, 0.2500, 0.2500, 0.2500, 0.2500, 0.2500, 0.5000,\n",
       "          0.0000, 0.5000, 1.0000, 0.5000, 0.7500, 0.5000]], dtype=torch.float64),\n",
       " tensor([4])]"
      ]
     },
     "execution_count": 11,
     "metadata": {},
     "output_type": "execute_result"
    }
   ],
   "source": [
    "next(iter(test_loader))"
   ]
  },
  {
   "cell_type": "code",
   "execution_count": 3,
   "metadata": {},
   "outputs": [],
   "source": [
    "# define the model\n",
    "class TTA(nn.Module):\n",
    "    def __init__(self, input_size, classification_output_size,auxiliary_output_size):\n",
    "        super(TTA, self).__init__()\n",
    "        self.NAL_layers = nn.Sequential(\n",
    "            nn.Linear(classification_output_size, 1),            \n",
    "        )\n",
    "\n",
    "        self.shared_layers = nn.Sequential(\n",
    "            nn.Linear(input_size, 128),\n",
    "            nn.ReLU(),\n",
    "            nn.Linear(128, 96),\n",
    "            nn.ReLU(),\n",
    "            nn.Linear(96, 64),\n",
    "            nn.ReLU()\n",
    "        )\n",
    "        self.prediction_branch = nn.Sequential(\n",
    "            nn.Linear(64, 32),\n",
    "            nn.ReLU(),\n",
    "            nn.Linear(32, 16),\n",
    "            nn.ReLU(),\n",
    "            nn.Linear(16, classification_output_size)\n",
    "        )\n",
    "        self.auxiliary_branch = nn.Sequential(\n",
    "            nn.Linear(64, auxiliary_output_size),\n",
    "            nn.ReLU(),\n",
    "            nn.Linear(24, 16),\n",
    "            nn.ReLU(),\n",
    "            nn.Linear(16, auxiliary_output_size)\n",
    "        )\n",
    "    def forward(self, x):\n",
    "        x = self.shared_layers(x)\n",
    "        # get output from second to last layer in prediction branch\n",
    "        nal_in = self.prediction_branch(x)\n",
    "        nal_out = torch.sigmoid(self.NAL_layers(nal_in)).to(torch.float64)\n",
    "\n",
    "        return (self.prediction_branch(x)), self.auxiliary_branch(x), nal_out\n",
    "\n",
    "class NoiseAttentionLoss(nn.Module):\n",
    "    def __init__(self, lambda_=50):\n",
    "        super(NoiseAttentionLoss, self).__init__()\n",
    "        self.lambda_ = lambda_\n",
    "\n",
    "    def forward(self, logits, y, tau):\n",
    "        y = F.one_hot(y, output_classes).to(torch.float64)\n",
    "        perceptual = tau.squeeze(1) * (logits.t() - y.t()) + y.t()\n",
    "        attention_term = torch.matmul(y, torch.log(perceptual + 1e-5))\n",
    "        attention_term = attention_term.diag()\n",
    "        boost_term = torch.log(tau + 1e-5) * self.lambda_\n",
    "\n",
    "        attention_term = -torch.mean(attention_term)\n",
    "        boost_term = -torch.mean(boost_term)\n",
    "\n",
    "        return attention_term + boost_term\n"
   ]
  },
  {
   "cell_type": "code",
   "execution_count": 16,
   "metadata": {},
   "outputs": [
    {
     "data": {
      "application/vnd.jupyter.widget-view+json": {
       "model_id": "ef55a047327f44a383bf86e041d5e909",
       "version_major": 2,
       "version_minor": 0
      },
      "text/plain": [
       "  0%|          | 0/20 [00:00<?, ?it/s]"
      ]
     },
     "metadata": {},
     "output_type": "display_data"
    },
    {
     "name": "stdout",
     "output_type": "stream",
     "text": [
      "Epoch 0 Loss: 10.34971768652352 Accuracy: 0.20620388368771816\n",
      "Epoch 1 Loss: 2.620767365687869 Accuracy: 0.21670079934941286\n",
      "Epoch 2 Loss: 2.4781060167299236 Accuracy: 0.2338114388289432\n",
      "Epoch 3 Loss: 2.4516293424396602 Accuracy: 0.2404169807204062\n",
      "Epoch 4 Loss: 2.4219000846446628 Accuracy: 0.24263527451602665\n",
      "Epoch 5 Loss: 2.4047906183552885 Accuracy: 0.24324048913043478\n",
      "Epoch 6 Loss: 2.3988896388811938 Accuracy: 0.243423714693748\n",
      "Epoch 7 Loss: 2.393595149614829 Accuracy: 0.24454290304665188\n",
      "Epoch 8 Loss: 2.389062963934018 Accuracy: 0.2464624325610917\n",
      "Epoch 9 Loss: 2.383708967260806 Accuracy: 0.24900230085687083\n",
      "Epoch 10 Loss: 2.3810343060603727 Accuracy: 0.25098827753094255\n",
      "Epoch 11 Loss: 2.3786501006915857 Accuracy: 0.25580470485560136\n",
      "Epoch 12 Loss: 2.377344334979839 Accuracy: 0.26145370517296096\n",
      "Epoch 13 Loss: 2.3745540359758848 Accuracy: 0.2678876745477626\n",
      "Epoch 14 Loss: 2.371615406908829 Accuracy: 0.2707682085052364\n",
      "Epoch 15 Loss: 2.3643838219490942 Accuracy: 0.2775606950174548\n",
      "Epoch 16 Loss: 2.3580126637312064 Accuracy: 0.27899476356712155\n",
      "Epoch 17 Loss: 2.354235610501279 Accuracy: 0.2813085131704221\n",
      "Epoch 18 Loss: 2.3511720703425554 Accuracy: 0.28274431728022853\n",
      "Epoch 19 Loss: 2.348117870570831 Accuracy: 0.28228241034592194\n"
     ]
    }
   ],
   "source": [
    "# train the model on Train data this is not test time training yet\n",
    "# device = torch.device(\"cuda\" if torch.cuda.is_available() else \"cpu\")\n",
    "model = TTA(input_size=24, classification_output_size=5, auxiliary_output_size=24)\n",
    "model.cuda() \n",
    "# classification_criterion = nn.CrossEntropyLoss()\n",
    "classification_criterion = NoiseAttentionLoss()\n",
    "auxiliary_criterion = nn.MSELoss() \n",
    "optimizer = torch.optim.Adam(model.parameters(), lr=0.0001)\n",
    "bagging_percent = 0.9\n",
    "\n",
    "\n",
    "epochs = 20\n",
    "losses = []\n",
    "predictions = []\n",
    "accuracy = []\n",
    "for epoch in tqdm(range(epochs)):\n",
    "    # loop = tqdm(train_loader, leave=True)\n",
    "    epoch_acc=[]\n",
    "    epoch_loss=[]\n",
    "    for batch,(X, y) in enumerate(train_loader):\n",
    "        X, y = X.cuda().float(), y.cuda().long()\n",
    "        \n",
    "        # # mask 5 columns in X\n",
    "        # mask = torch.randint(0, 27, (5,))\n",
    "        # X[:, mask] = 0\n",
    "\n",
    "        optimizer.zero_grad()\n",
    "        prediction_logits, auxiliary,tau = model(X)\n",
    "        # print(tau)\n",
    "        prediction_softmax = F.softmax(prediction_logits, dim=1).to(torch.float64)\n",
    "        prediction = torch.argmax(prediction_softmax, dim=1)\n",
    "\n",
    "        loss1 = classification_criterion(prediction_softmax, y,tau)\n",
    "        # print(prediction_logits)\n",
    "        loss2 = auxiliary_criterion(auxiliary, X)\n",
    "        # print(loss1.item(), loss2.item()    )\n",
    "        accuracy_batch = (prediction == y).sum().item() / len(y)\n",
    "        epoch_acc.append(accuracy_batch)\n",
    "\n",
    "        loss = loss1 + loss2\n",
    "        loss.backward()\n",
    "        optimizer.step()\n",
    "        # losses.append(loss.item())\n",
    "        epoch_loss.append(loss.item())\n",
    "        predictions.append(prediction)\n",
    "        # break\n",
    "        # if batch == bagging_percent * len(train_loader):\n",
    "        #     break\n",
    "    accuracy.append(np.mean(epoch_acc))\n",
    "    losses.append(np.mean(epoch_loss))\n",
    "    print(f\"Epoch {epoch} Loss: {np.mean(epoch_loss)} Accuracy: {np.mean(epoch_acc)}\")\n",
    "\n"
   ]
  },
  {
   "cell_type": "code",
   "execution_count": 17,
   "metadata": {},
   "outputs": [
    {
     "data": {
      "image/png": "[encoded data removed]",
      "text/plain": [
       "<Figure size 640x480 with 1 Axes>"
      ]
     },
     "metadata": {},
     "output_type": "display_data"
    },
    {
     "data": {
      "image/png": "[encoded data removed]",
      "text/plain": [
       "<Figure size 640x480 with 1 Axes>"
      ]
     },
     "metadata": {},
     "output_type": "display_data"
    }
   ],
   "source": [
    "#plot the loss and accuracy\n",
    "plt.plot(losses)\n",
    "plt.title(\"Loss\")\n",
    "plt.show()\n",
    "\n",
    "plt.plot(accuracy)\n",
    "plt.title(\"Accuracy\")\n",
    "plt.show()\n",
    "\n"
   ]
  },
  {
   "cell_type": "code",
   "execution_count": 42,
   "metadata": {},
   "outputs": [
    {
     "name": "stdout",
     "output_type": "stream",
     "text": [
      "Test Accuracy: 0.6081730769230769\n"
     ]
    }
   ],
   "source": [
    "# test_accuracies = []\n",
    "# all_prediction_logits = []\n",
    "# for batch, (X,y) in tqdm(enumerate((test_loader))):\n",
    "#     optimizer.zero_grad()\n",
    "#     X, y = X,y\n",
    "#     X,y= X.cuda().float(), y.cuda().long()\n",
    "\n",
    "\n",
    "#     prediction_logits, auxiliary,tau = model(X)\n",
    "\n",
    "#     aux_loss = auxiliary_criterion(auxiliary, X)\n",
    "#     loss = aux_loss\n",
    "#     # print(\"aux_loss\", aux_loss.item())\n",
    "#     loss.backward()\n",
    "#     optimizer.step()\n",
    "    \n",
    "#     prediction_logits, auxiliary,tau = model(X)\n",
    "#     prediction = F.softmax(prediction_logits, dim=1)\n",
    "#     prediction = torch.argmax(prediction, dim=1)\n",
    "#     all_prediction_logits.extend(prediction)\n",
    "#     batch_accuracy = (prediction == y).sum().item() / len(y)\n",
    "#     test_accuracies.append(batch_accuracy)\n",
    "\n",
    "# print(f\"Test Accuracy: {np.mean(test_accuracies)}\")\n",
    "\n"
   ]
  },
  {
   "cell_type": "code",
   "execution_count": 43,
   "metadata": {},
   "outputs": [
    {
     "data": {
      "text/plain": [
       "[1.0,\n",
       " 0.0,\n",
       " 1.0,\n",
       " 1.0,\n",
       " 1.0,\n",
       " 0.0,\n",
       " 0.0,\n",
       " 1.0,\n",
       " 1.0,\n",
       " 1.0,\n",
       " 1.0,\n",
       " 1.0,\n",
       " 0.0,\n",
       " 0.0,\n",
       " 1.0,\n",
       " 1.0,\n",
       " 1.0,\n",
       " 1.0,\n",
       " 1.0,\n",
       " 1.0,\n",
       " 1.0,\n",
       " 1.0,\n",
       " 0.0,\n",
       " 0.0,\n",
       " 0.0,\n",
       " 0.0,\n",
       " 1.0,\n",
       " 1.0,\n",
       " 1.0,\n",
       " 1.0,\n",
       " 1.0,\n",
       " 1.0,\n",
       " 1.0,\n",
       " 1.0,\n",
       " 1.0,\n",
       " 1.0,\n",
       " 1.0,\n",
       " 1.0,\n",
       " 1.0,\n",
       " 1.0,\n",
       " 0.0,\n",
       " 0.0,\n",
       " 0.0,\n",
       " 0.0,\n",
       " 0.0,\n",
       " 1.0,\n",
       " 1.0,\n",
       " 1.0,\n",
       " 0.0,\n",
       " 0.0,\n",
       " 0.0,\n",
       " 0.0,\n",
       " 0.0,\n",
       " 1.0,\n",
       " 1.0,\n",
       " 1.0,\n",
       " 1.0,\n",
       " 1.0,\n",
       " 0.0,\n",
       " 1.0,\n",
       " 1.0,\n",
       " 1.0,\n",
       " 1.0,\n",
       " 1.0,\n",
       " 1.0,\n",
       " 1.0,\n",
       " 1.0,\n",
       " 1.0,\n",
       " 0.0,\n",
       " 0.0,\n",
       " 0.0,\n",
       " 0.0,\n",
       " 0.0,\n",
       " 0.0,\n",
       " 0.0,\n",
       " 0.0,\n",
       " 0.0,\n",
       " 0.0,\n",
       " 0.0,\n",
       " 0.0,\n",
       " 0.0,\n",
       " 0.0,\n",
       " 0.0,\n",
       " 1.0,\n",
       " 1.0,\n",
       " 1.0,\n",
       " 1.0,\n",
       " 1.0,\n",
       " 1.0,\n",
       " 1.0,\n",
       " 1.0,\n",
       " 1.0,\n",
       " 1.0,\n",
       " 1.0,\n",
       " 1.0,\n",
       " 1.0,\n",
       " 1.0,\n",
       " 1.0,\n",
       " 1.0,\n",
       " 1.0,\n",
       " 1.0,\n",
       " 1.0,\n",
       " 1.0,\n",
       " 0.0,\n",
       " 0.0,\n",
       " 0.0,\n",
       " 0.0,\n",
       " 0.0,\n",
       " 0.0,\n",
       " 0.0,\n",
       " 0.0,\n",
       " 0.0,\n",
       " 1.0,\n",
       " 1.0,\n",
       " 1.0,\n",
       " 0.0,\n",
       " 0.0,\n",
       " 0.0,\n",
       " 0.0,\n",
       " 0.0,\n",
       " 0.0,\n",
       " 1.0,\n",
       " 1.0,\n",
       " 1.0,\n",
       " 1.0,\n",
       " 1.0,\n",
       " 1.0,\n",
       " 1.0,\n",
       " 1.0,\n",
       " 1.0,\n",
       " 1.0,\n",
       " 1.0,\n",
       " 1.0,\n",
       " 1.0,\n",
       " 0.0,\n",
       " 1.0,\n",
       " 1.0,\n",
       " 0.0,\n",
       " 0.0,\n",
       " 1.0,\n",
       " 1.0,\n",
       " 1.0,\n",
       " 1.0,\n",
       " 1.0,\n",
       " 1.0,\n",
       " 1.0,\n",
       " 1.0,\n",
       " 1.0,\n",
       " 1.0,\n",
       " 1.0,\n",
       " 1.0,\n",
       " 0.0,\n",
       " 1.0,\n",
       " 0.0,\n",
       " 1.0,\n",
       " 1.0,\n",
       " 0.0,\n",
       " 1.0,\n",
       " 1.0,\n",
       " 1.0,\n",
       " 1.0,\n",
       " 1.0,\n",
       " 1.0,\n",
       " 1.0,\n",
       " 1.0,\n",
       " 1.0,\n",
       " 1.0,\n",
       " 1.0,\n",
       " 1.0,\n",
       " 1.0,\n",
       " 0.0,\n",
       " 0.0,\n",
       " 0.0,\n",
       " 0.0,\n",
       " 0.0,\n",
       " 0.0,\n",
       " 1.0,\n",
       " 1.0,\n",
       " 1.0,\n",
       " 1.0,\n",
       " 1.0,\n",
       " 1.0,\n",
       " 1.0,\n",
       " 1.0,\n",
       " 1.0,\n",
       " 1.0,\n",
       " 1.0,\n",
       " 1.0,\n",
       " 1.0,\n",
       " 1.0,\n",
       " 0.0,\n",
       " 1.0,\n",
       " 1.0,\n",
       " 1.0,\n",
       " 0.0,\n",
       " 1.0,\n",
       " 1.0,\n",
       " 1.0,\n",
       " 1.0,\n",
       " 0.0,\n",
       " 1.0,\n",
       " 1.0,\n",
       " 1.0,\n",
       " 0.0,\n",
       " 1.0,\n",
       " 1.0,\n",
       " 1.0,\n",
       " 1.0,\n",
       " 1.0,\n",
       " 1.0,\n",
       " 1.0,\n",
       " 1.0,\n",
       " 1.0,\n",
       " 1.0,\n",
       " 1.0,\n",
       " 0.0,\n",
       " 0.0,\n",
       " 0.0,\n",
       " 1.0,\n",
       " 1.0,\n",
       " 1.0,\n",
       " 1.0,\n",
       " 0.0,\n",
       " 1.0,\n",
       " 1.0,\n",
       " 1.0,\n",
       " 1.0,\n",
       " 1.0,\n",
       " 1.0,\n",
       " 1.0,\n",
       " 1.0,\n",
       " 1.0,\n",
       " 1.0,\n",
       " 1.0,\n",
       " 1.0,\n",
       " 1.0,\n",
       " 0.0,\n",
       " 1.0,\n",
       " 1.0,\n",
       " 1.0,\n",
       " 1.0,\n",
       " 1.0,\n",
       " 1.0,\n",
       " 1.0,\n",
       " 1.0,\n",
       " 1.0,\n",
       " 1.0,\n",
       " 1.0,\n",
       " 1.0,\n",
       " 1.0,\n",
       " 1.0,\n",
       " 1.0,\n",
       " 1.0,\n",
       " 1.0,\n",
       " 1.0,\n",
       " 0.0,\n",
       " 1.0,\n",
       " 1.0,\n",
       " 0.0,\n",
       " 0.0,\n",
       " 0.0,\n",
       " 0.0,\n",
       " 1.0,\n",
       " 1.0,\n",
       " 1.0,\n",
       " 1.0,\n",
       " 1.0,\n",
       " 1.0,\n",
       " 0.0,\n",
       " 1.0,\n",
       " 0.0,\n",
       " 1.0,\n",
       " 1.0,\n",
       " 1.0,\n",
       " 1.0,\n",
       " 1.0,\n",
       " 1.0,\n",
       " 1.0,\n",
       " 0.0,\n",
       " 1.0,\n",
       " 1.0,\n",
       " 1.0,\n",
       " 1.0,\n",
       " 1.0,\n",
       " 1.0,\n",
       " 1.0,\n",
       " 0.0,\n",
       " 0.0,\n",
       " 1.0,\n",
       " 1.0,\n",
       " 1.0,\n",
       " 1.0,\n",
       " 1.0,\n",
       " 1.0,\n",
       " 1.0,\n",
       " 1.0,\n",
       " 1.0,\n",
       " 0.0,\n",
       " 1.0,\n",
       " 1.0,\n",
       " 1.0,\n",
       " 1.0,\n",
       " 1.0,\n",
       " 1.0,\n",
       " 1.0,\n",
       " 0.0,\n",
       " 0.0,\n",
       " 1.0,\n",
       " 1.0,\n",
       " 1.0,\n",
       " 1.0,\n",
       " 1.0,\n",
       " 1.0,\n",
       " 1.0,\n",
       " 1.0,\n",
       " 0.0,\n",
       " 1.0,\n",
       " 1.0,\n",
       " 1.0,\n",
       " 1.0,\n",
       " 1.0,\n",
       " 1.0,\n",
       " 1.0,\n",
       " 1.0,\n",
       " 0.0,\n",
       " 1.0,\n",
       " 1.0,\n",
       " 1.0,\n",
       " 1.0,\n",
       " 1.0,\n",
       " 1.0,\n",
       " 1.0,\n",
       " 1.0,\n",
       " 1.0,\n",
       " 1.0,\n",
       " 1.0,\n",
       " 1.0,\n",
       " 1.0,\n",
       " 1.0,\n",
       " 1.0,\n",
       " 1.0,\n",
       " 1.0,\n",
       " 1.0,\n",
       " 1.0,\n",
       " 1.0,\n",
       " 1.0,\n",
       " 1.0,\n",
       " 1.0,\n",
       " 1.0,\n",
       " 1.0,\n",
       " 1.0,\n",
       " 1.0,\n",
       " 1.0,\n",
       " 1.0,\n",
       " 1.0,\n",
       " 1.0,\n",
       " 1.0,\n",
       " 1.0,\n",
       " 1.0,\n",
       " 1.0,\n",
       " 1.0,\n",
       " 1.0,\n",
       " 1.0,\n",
       " 1.0,\n",
       " 1.0,\n",
       " 1.0,\n",
       " 1.0,\n",
       " 1.0,\n",
       " 1.0,\n",
       " 1.0,\n",
       " 1.0,\n",
       " 1.0,\n",
       " 1.0,\n",
       " 1.0,\n",
       " 1.0,\n",
       " 1.0,\n",
       " 1.0,\n",
       " 1.0,\n",
       " 1.0,\n",
       " 1.0,\n",
       " 1.0,\n",
       " 1.0,\n",
       " 1.0,\n",
       " 1.0,\n",
       " 1.0,\n",
       " 1.0,\n",
       " 1.0,\n",
       " 1.0,\n",
       " 1.0,\n",
       " 1.0,\n",
       " 0.0,\n",
       " 0.0,\n",
       " 0.0,\n",
       " 0.0,\n",
       " 0.0,\n",
       " 1.0,\n",
       " 1.0,\n",
       " 1.0,\n",
       " 1.0,\n",
       " 1.0,\n",
       " 1.0,\n",
       " 1.0,\n",
       " 1.0,\n",
       " 1.0,\n",
       " 1.0,\n",
       " 1.0,\n",
       " 1.0,\n",
       " 1.0,\n",
       " 1.0,\n",
       " 1.0,\n",
       " 1.0,\n",
       " 1.0,\n",
       " 1.0,\n",
       " 1.0,\n",
       " 1.0,\n",
       " 1.0,\n",
       " 1.0,\n",
       " 1.0,\n",
       " 0.0,\n",
       " 0.0,\n",
       " 1.0,\n",
       " 0.0,\n",
       " 0.0,\n",
       " 0.0,\n",
       " 0.0,\n",
       " 0.0,\n",
       " 0.0,\n",
       " 0.0,\n",
       " 1.0,\n",
       " 1.0,\n",
       " 1.0,\n",
       " 1.0,\n",
       " 1.0,\n",
       " 1.0,\n",
       " 1.0,\n",
       " 1.0,\n",
       " 1.0,\n",
       " 1.0,\n",
       " 1.0,\n",
       " 1.0,\n",
       " 1.0,\n",
       " 1.0,\n",
       " 1.0,\n",
       " 1.0,\n",
       " 1.0,\n",
       " 1.0,\n",
       " 1.0,\n",
       " 1.0,\n",
       " 1.0,\n",
       " 1.0,\n",
       " 1.0,\n",
       " 1.0,\n",
       " 0.0,\n",
       " 0.0,\n",
       " 0.0,\n",
       " 0.0,\n",
       " 0.0,\n",
       " 0.0,\n",
       " 0.0,\n",
       " 0.0,\n",
       " 0.0,\n",
       " 1.0,\n",
       " 0.0,\n",
       " 0.0,\n",
       " 0.0,\n",
       " 0.0,\n",
       " 0.0,\n",
       " 0.0,\n",
       " 0.0,\n",
       " 0.0,\n",
       " 0.0,\n",
       " 0.0,\n",
       " 0.0,\n",
       " 0.0,\n",
       " 0.0,\n",
       " 0.0,\n",
       " 0.0,\n",
       " 0.0,\n",
       " 0.0,\n",
       " 0.0,\n",
       " 0.0,\n",
       " 0.0,\n",
       " 0.0,\n",
       " 1.0,\n",
       " 0.0,\n",
       " 0.0,\n",
       " 1.0,\n",
       " 0.0,\n",
       " 0.0,\n",
       " 0.0,\n",
       " 0.0,\n",
       " 0.0,\n",
       " 0.0,\n",
       " 0.0,\n",
       " 0.0,\n",
       " 0.0,\n",
       " 0.0,\n",
       " 0.0,\n",
       " 0.0,\n",
       " 0.0,\n",
       " 0.0,\n",
       " 0.0,\n",
       " 0.0,\n",
       " 0.0,\n",
       " 0.0,\n",
       " 0.0,\n",
       " 0.0,\n",
       " 0.0,\n",
       " 1.0,\n",
       " 0.0,\n",
       " 0.0,\n",
       " 0.0,\n",
       " 0.0,\n",
       " 0.0,\n",
       " 0.0,\n",
       " 1.0,\n",
       " 0.0,\n",
       " 0.0,\n",
       " 1.0,\n",
       " 1.0,\n",
       " 0.0,\n",
       " 1.0,\n",
       " 0.0,\n",
       " 1.0,\n",
       " 0.0,\n",
       " 0.0,\n",
       " 1.0,\n",
       " 1.0,\n",
       " 0.0,\n",
       " 1.0,\n",
       " 1.0,\n",
       " 1.0,\n",
       " 1.0,\n",
       " 1.0,\n",
       " 1.0,\n",
       " 1.0,\n",
       " 1.0,\n",
       " 1.0,\n",
       " 1.0,\n",
       " 1.0,\n",
       " 1.0,\n",
       " 1.0,\n",
       " 1.0,\n",
       " 1.0,\n",
       " 1.0,\n",
       " 1.0,\n",
       " 0.0,\n",
       " 1.0,\n",
       " 0.0,\n",
       " 0.0,\n",
       " 1.0,\n",
       " 1.0,\n",
       " 0.0,\n",
       " 1.0,\n",
       " 0.0,\n",
       " 0.0,\n",
       " 0.0,\n",
       " 1.0,\n",
       " 1.0,\n",
       " 1.0,\n",
       " 1.0,\n",
       " 1.0,\n",
       " 1.0,\n",
       " 1.0,\n",
       " 1.0,\n",
       " 1.0,\n",
       " 1.0,\n",
       " 1.0,\n",
       " 1.0,\n",
       " 1.0,\n",
       " 1.0,\n",
       " 1.0,\n",
       " 1.0,\n",
       " 1.0,\n",
       " 1.0,\n",
       " 1.0,\n",
       " 1.0,\n",
       " 1.0,\n",
       " 1.0,\n",
       " 1.0,\n",
       " 1.0,\n",
       " 1.0,\n",
       " 1.0,\n",
       " 1.0,\n",
       " 1.0,\n",
       " 1.0,\n",
       " 1.0,\n",
       " 0.0,\n",
       " 1.0,\n",
       " 1.0,\n",
       " 0.0,\n",
       " 1.0,\n",
       " 1.0,\n",
       " 1.0,\n",
       " 0.0,\n",
       " 0.0,\n",
       " 0.0,\n",
       " 1.0,\n",
       " 1.0,\n",
       " 1.0,\n",
       " 0.0,\n",
       " 1.0,\n",
       " 0.0,\n",
       " 1.0,\n",
       " 1.0,\n",
       " 0.0,\n",
       " 0.0,\n",
       " 0.0,\n",
       " 0.0,\n",
       " 0.0,\n",
       " 0.0,\n",
       " 0.0,\n",
       " 0.0,\n",
       " 0.0,\n",
       " 0.0,\n",
       " 1.0,\n",
       " 0.0,\n",
       " 0.0,\n",
       " 0.0,\n",
       " 0.0,\n",
       " 0.0,\n",
       " 0.0,\n",
       " 0.0,\n",
       " 1.0,\n",
       " 1.0,\n",
       " 0.0,\n",
       " 0.0,\n",
       " 1.0,\n",
       " 0.0,\n",
       " 0.0,\n",
       " 0.0,\n",
       " 0.0,\n",
       " 0.0,\n",
       " 0.0,\n",
       " 1.0,\n",
       " 1.0,\n",
       " 1.0,\n",
       " 0.0,\n",
       " 0.0,\n",
       " 0.0,\n",
       " 0.0,\n",
       " 0.0,\n",
       " 1.0,\n",
       " 0.0,\n",
       " 0.0,\n",
       " 0.0,\n",
       " 1.0,\n",
       " 1.0,\n",
       " 1.0,\n",
       " 0.0,\n",
       " 1.0,\n",
       " 1.0,\n",
       " 1.0,\n",
       " 1.0,\n",
       " 1.0,\n",
       " 1.0,\n",
       " 1.0,\n",
       " 1.0,\n",
       " 1.0,\n",
       " 1.0,\n",
       " 1.0,\n",
       " 1.0,\n",
       " 1.0,\n",
       " 0.0,\n",
       " 1.0,\n",
       " 1.0,\n",
       " 1.0,\n",
       " 1.0,\n",
       " 1.0,\n",
       " 1.0,\n",
       " 1.0,\n",
       " 1.0,\n",
       " 1.0,\n",
       " 1.0,\n",
       " 1.0,\n",
       " 0.0,\n",
       " 0.0,\n",
       " 0.0,\n",
       " 0.0,\n",
       " 0.0,\n",
       " 0.0,\n",
       " 0.0,\n",
       " 0.0,\n",
       " 0.0,\n",
       " 0.0,\n",
       " 0.0,\n",
       " 0.0,\n",
       " 0.0,\n",
       " 0.0,\n",
       " 0.0,\n",
       " 0.0,\n",
       " 0.0,\n",
       " 0.0,\n",
       " 0.0,\n",
       " 0.0,\n",
       " 0.0,\n",
       " 0.0,\n",
       " 0.0,\n",
       " 0.0,\n",
       " 0.0,\n",
       " 0.0,\n",
       " 0.0,\n",
       " 0.0,\n",
       " 0.0,\n",
       " 0.0,\n",
       " 0.0,\n",
       " 0.0,\n",
       " 0.0,\n",
       " 0.0,\n",
       " 0.0,\n",
       " 0.0,\n",
       " 0.0,\n",
       " 0.0,\n",
       " 0.0,\n",
       " 0.0,\n",
       " 1.0,\n",
       " 1.0,\n",
       " 1.0,\n",
       " 1.0,\n",
       " 1.0,\n",
       " 1.0,\n",
       " 1.0,\n",
       " 1.0,\n",
       " 1.0,\n",
       " 1.0,\n",
       " 1.0,\n",
       " 1.0,\n",
       " 1.0,\n",
       " 1.0,\n",
       " 1.0,\n",
       " 1.0,\n",
       " 1.0,\n",
       " 1.0,\n",
       " 1.0,\n",
       " 1.0,\n",
       " 1.0,\n",
       " 1.0,\n",
       " 1.0,\n",
       " 1.0,\n",
       " 0.0,\n",
       " 0.0,\n",
       " 0.0,\n",
       " 0.0,\n",
       " 0.0,\n",
       " 1.0,\n",
       " 1.0,\n",
       " 1.0,\n",
       " 0.0,\n",
       " 0.0,\n",
       " 0.0,\n",
       " 1.0,\n",
       " 1.0,\n",
       " 1.0,\n",
       " 1.0,\n",
       " 1.0,\n",
       " 0.0,\n",
       " 1.0,\n",
       " 1.0,\n",
       " 0.0,\n",
       " 1.0,\n",
       " 1.0,\n",
       " 1.0,\n",
       " 1.0,\n",
       " 1.0,\n",
       " 1.0,\n",
       " 1.0,\n",
       " 1.0,\n",
       " 1.0,\n",
       " 1.0,\n",
       " 1.0,\n",
       " 1.0,\n",
       " 1.0,\n",
       " 1.0,\n",
       " 1.0,\n",
       " 1.0,\n",
       " 1.0,\n",
       " 1.0,\n",
       " 1.0,\n",
       " 1.0,\n",
       " 1.0,\n",
       " 0.0,\n",
       " 0.0,\n",
       " 0.0,\n",
       " 0.0,\n",
       " 0.0,\n",
       " 0.0,\n",
       " 0.0,\n",
       " 0.0,\n",
       " 0.0,\n",
       " 0.0,\n",
       " 0.0,\n",
       " 0.0,\n",
       " 0.0,\n",
       " 0.0,\n",
       " 1.0,\n",
       " 1.0,\n",
       " 1.0,\n",
       " 1.0,\n",
       " 0.0,\n",
       " 1.0,\n",
       " 1.0,\n",
       " 1.0,\n",
       " 0.0,\n",
       " 0.0,\n",
       " 0.0,\n",
       " 0.0,\n",
       " 0.0,\n",
       " 0.0,\n",
       " 0.0,\n",
       " 1.0,\n",
       " 1.0,\n",
       " 1.0,\n",
       " 1.0,\n",
       " 1.0,\n",
       " 1.0,\n",
       " 1.0,\n",
       " 1.0,\n",
       " 1.0,\n",
       " 1.0,\n",
       " 1.0,\n",
       " 0.0,\n",
       " 0.0,\n",
       " 0.0,\n",
       " 0.0,\n",
       " 1.0,\n",
       " 1.0,\n",
       " 1.0,\n",
       " 1.0,\n",
       " 1.0,\n",
       " 1.0,\n",
       " 0.0,\n",
       " 0.0,\n",
       " 0.0,\n",
       " 1.0,\n",
       " 1.0,\n",
       " 0.0,\n",
       " 1.0,\n",
       " 1.0,\n",
       " 0.0,\n",
       " 1.0,\n",
       " 1.0,\n",
       " 1.0,\n",
       " 1.0,\n",
       " 1.0,\n",
       " 1.0,\n",
       " 1.0,\n",
       " 1.0,\n",
       " 1.0,\n",
       " 1.0,\n",
       " 1.0,\n",
       " 0.0,\n",
       " 0.0,\n",
       " 1.0,\n",
       " 1.0,\n",
       " 1.0,\n",
       " 1.0,\n",
       " 1.0,\n",
       " 0.0,\n",
       " 0.0,\n",
       " 0.0,\n",
       " 0.0,\n",
       " 0.0,\n",
       " 0.0,\n",
       " 1.0,\n",
       " 1.0,\n",
       " 1.0,\n",
       " 1.0,\n",
       " 1.0,\n",
       " 1.0,\n",
       " 1.0,\n",
       " 1.0,\n",
       " 1.0,\n",
       " 1.0,\n",
       " 1.0,\n",
       " 1.0,\n",
       " 1.0,\n",
       " 1.0,\n",
       " 1.0,\n",
       " 1.0,\n",
       " 1.0,\n",
       " 1.0,\n",
       " 1.0,\n",
       " 1.0,\n",
       " 1.0,\n",
       " 1.0,\n",
       " 1.0,\n",
       " 1.0,\n",
       " 0.0,\n",
       " 0.0,\n",
       " 0.0,\n",
       " 1.0,\n",
       " 1.0,\n",
       " 1.0,\n",
       " 1.0,\n",
       " 1.0,\n",
       " 0.0,\n",
       " 0.0,\n",
       " 0.0,\n",
       " 0.0,\n",
       " 0.0,\n",
       " 0.0,\n",
       " 1.0,\n",
       " 1.0,\n",
       " 1.0,\n",
       " 1.0,\n",
       " 1.0,\n",
       " 1.0,\n",
       " 1.0,\n",
       " 1.0,\n",
       " 1.0,\n",
       " 1.0,\n",
       " 1.0,\n",
       " 1.0,\n",
       " 0.0,\n",
       " 0.0,\n",
       " 0.0,\n",
       " 1.0,\n",
       " 1.0,\n",
       " 1.0,\n",
       " 1.0,\n",
       " 1.0,\n",
       " 1.0,\n",
       " 1.0,\n",
       " 1.0,\n",
       " 1.0,\n",
       " 1.0,\n",
       " 1.0,\n",
       " 1.0,\n",
       " 1.0,\n",
       " 0.0,\n",
       " 1.0,\n",
       " 0.0,\n",
       " 1.0,\n",
       " 1.0,\n",
       " 0.0,\n",
       " 0.0,\n",
       " 0.0,\n",
       " 0.0,\n",
       " 1.0,\n",
       " 1.0,\n",
       " 1.0,\n",
       " 1.0,\n",
       " 1.0,\n",
       " 1.0,\n",
       " 1.0,\n",
       " 1.0,\n",
       " 1.0,\n",
       " 1.0,\n",
       " 1.0,\n",
       " 1.0,\n",
       " 0.0,\n",
       " 0.0,\n",
       " 0.0,\n",
       " 0.0,\n",
       " 1.0,\n",
       " 1.0,\n",
       " 1.0,\n",
       " 1.0,\n",
       " 1.0,\n",
       " 1.0,\n",
       " 1.0,\n",
       " 1.0,\n",
       " 1.0,\n",
       " 1.0,\n",
       " 1.0,\n",
       " 1.0,\n",
       " 1.0,\n",
       " 1.0,\n",
       " 1.0,\n",
       " 0.0,\n",
       " 0.0,\n",
       " 0.0,\n",
       " 0.0,\n",
       " 0.0,\n",
       " 0.0,\n",
       " 1.0,\n",
       " 1.0,\n",
       " 0.0,\n",
       " 1.0,\n",
       " 0.0,\n",
       " 0.0,\n",
       " 1.0,\n",
       " 0.0,\n",
       " 0.0,\n",
       " 1.0,\n",
       " 1.0,\n",
       " 1.0,\n",
       " 1.0,\n",
       " 1.0,\n",
       " 1.0,\n",
       " 1.0,\n",
       " 1.0,\n",
       " 1.0,\n",
       " 1.0,\n",
       " 1.0,\n",
       " 1.0,\n",
       " 1.0,\n",
       " 0.0,\n",
       " 0.0,\n",
       " 0.0,\n",
       " ...]"
      ]
     },
     "execution_count": 43,
     "metadata": {},
     "output_type": "execute_result"
    }
   ],
   "source": [
    "# test_accuracies"
   ]
  },
  {
   "cell_type": "markdown",
   "metadata": {},
   "source": [
    "# Live Dataset (All datasets combined)"
   ]
  },
  {
   "cell_type": "code",
   "execution_count": 23,
   "metadata": {},
   "outputs": [
    {
     "name": "stdout",
     "output_type": "stream",
     "text": [
      "df_live_test_02-Apr-2024_84.csv\n",
      "df_live_test_02-Apr-2024_85.csv\n",
      "df_live_test_02-Apr-2024_86.csv\n",
      "df_live_test_02-Apr-2024_92.csv\n",
      "df_live_test_02-Apr-2024_93.csv\n",
      "df_live_test_02-Apr-2024_94.csv\n",
      "df_live_test_02-Apr-2024_95.csv\n",
      "df_live_test_02-Apr-2024_96.csv\n",
      "df_live_test_02-Apr-2024_97.csv\n",
      "df_live_test_02-Apr-2024_98.csv\n",
      "df_live_test_02-Apr-2024_99.csv\n",
      "df_live_test_02-Apr-2024_102.csv\n",
      "df_live_test_02-Apr-2024_103.csv\n",
      "df_live_test_02-Apr-2024_104.csv\n",
      "df_live_test_02-Apr-2024_105.csv\n",
      "df_live_test_02-Apr-2024_106.csv\n",
      "df_live_test_02-Apr-2024_107.csv\n",
      "df_live_test_02-Apr-2024_108.csv\n",
      "df_live_test_02-Apr-2024_109.csv\n",
      "df_live_test_02-Apr-2024_110.csv\n",
      "df_live_test_02-Apr-2024_111.csv\n",
      "df_live_test_02-Apr-2024_112.csv\n",
      "df_live_test_02-Apr-2024_113.csv\n",
      "df_live_test_02-Apr-2024_117.csv\n",
      "df_live_test_02-Apr-2024_120.csv\n",
      "df_live_test_02-Apr-2024_121.csv\n",
      "df_live_test_02-Apr-2024_122.csv\n",
      "df_live_test_02-Apr-2024_123.csv\n",
      "df_live_test_02-Apr-2024_124.csv\n",
      "df_live_test_02-Apr-2024_125.csv\n",
      "df_live_test_02-Apr-2024_126.csv\n",
      "df_live_test_02-Apr-2024_127.csv\n",
      "df_live_test_02-Apr-2024_128.csv\n",
      "df_live_test_02-Apr-2024_129.csv\n",
      "df_live_test_02-Apr-2024_130.csv\n",
      "df_live_test_02-Apr-2024_131.csv\n",
      "df_live_test_02-Apr-2024_132.csv\n",
      "df_live_test_02-Apr-2024_133.csv\n",
      "df_live_test_02-Apr-2024_134.csv\n",
      "df_live_test_02-Apr-2024_135.csv\n",
      "df_live_test_02-Apr-2024_136.csv\n",
      "df_live_test_02-Apr-2024_137.csv\n",
      "df_live_test_02-Apr-2024_138.csv\n",
      "df_live_test_02-Apr-2024_139.csv\n",
      "df_live_test_02-Apr-2024_140.csv\n",
      "df_live_test_02-Apr-2024_141.csv\n",
      "df_live_test_02-Apr-2024_142.csv\n",
      "df_live_test_02-Apr-2024_143.csv\n",
      "df_live_test_02-Apr-2024_144.csv\n",
      "df_live_train_02-Apr-2024_84.csv\n",
      "df_live_train_02-Apr-2024_85.csv\n",
      "df_live_train_02-Apr-2024_86.csv\n",
      "df_live_train_02-Apr-2024_92.csv\n",
      "df_live_train_02-Apr-2024_93.csv\n",
      "df_live_train_02-Apr-2024_94.csv\n",
      "df_live_train_02-Apr-2024_95.csv\n",
      "df_live_train_02-Apr-2024_96.csv\n",
      "df_live_train_02-Apr-2024_97.csv\n",
      "df_live_train_02-Apr-2024_98.csv\n",
      "df_live_train_02-Apr-2024_99.csv\n",
      "df_live_train_02-Apr-2024_102.csv\n",
      "df_live_train_02-Apr-2024_103.csv\n",
      "df_live_train_02-Apr-2024_104.csv\n",
      "df_live_train_02-Apr-2024_105.csv\n",
      "df_live_train_02-Apr-2024_106.csv\n",
      "df_live_train_02-Apr-2024_107.csv\n",
      "df_live_train_02-Apr-2024_108.csv\n",
      "df_live_train_02-Apr-2024_109.csv\n",
      "df_live_train_02-Apr-2024_110.csv\n",
      "df_live_train_02-Apr-2024_111.csv\n",
      "df_live_train_02-Apr-2024_112.csv\n",
      "df_live_train_02-Apr-2024_113.csv\n",
      "df_live_train_02-Apr-2024_117.csv\n",
      "df_live_train_02-Apr-2024_120.csv\n",
      "df_live_train_02-Apr-2024_121.csv\n",
      "df_live_train_02-Apr-2024_122.csv\n",
      "df_live_train_02-Apr-2024_123.csv\n",
      "df_live_train_02-Apr-2024_124.csv\n",
      "df_live_train_02-Apr-2024_125.csv\n",
      "df_live_train_02-Apr-2024_126.csv\n",
      "df_live_train_02-Apr-2024_127.csv\n",
      "df_live_train_02-Apr-2024_128.csv\n",
      "df_live_train_02-Apr-2024_129.csv\n",
      "df_live_train_02-Apr-2024_130.csv\n",
      "df_live_train_02-Apr-2024_131.csv\n",
      "df_live_train_02-Apr-2024_132.csv\n",
      "df_live_train_02-Apr-2024_133.csv\n",
      "df_live_train_02-Apr-2024_134.csv\n",
      "df_live_train_02-Apr-2024_135.csv\n",
      "df_live_train_02-Apr-2024_136.csv\n",
      "df_live_train_02-Apr-2024_137.csv\n",
      "df_live_train_02-Apr-2024_138.csv\n",
      "df_live_train_02-Apr-2024_139.csv\n",
      "df_live_train_02-Apr-2024_140.csv\n",
      "df_live_train_02-Apr-2024_141.csv\n",
      "df_live_train_02-Apr-2024_142.csv\n",
      "df_live_train_02-Apr-2024_143.csv\n",
      "df_live_train_02-Apr-2024_144.csv\n"
     ]
    }
   ],
   "source": [
    "folder_path = 'live_data/live_data_02-Apr-2024'\n",
    "''' \n",
    "the folder path has 2 types of files - df_live_test and df_live_train\n",
    "Concatenate the files and save it as a single file\n",
    "'''\n",
    "# sort the files in increasing order of file name length\n",
    "def sort_files(folder_path):\n",
    "    files = os.listdir(folder_path)\n",
    "    files.sort(key=len)\n",
    "    return files\n",
    "\n",
    "def concat_files(folder_path):\n",
    "    df_test_list = pd.DataFrame()\n",
    "    df_train = pd.DataFrame()\n",
    "\n",
    "    files = sort_files(folder_path)\n",
    "    for file in files:\n",
    "        print(file)\n",
    "        if file[0:12] == 'df_live_test':\n",
    "            file_path = os.path.join(folder_path, file)\n",
    "            df_temp = pd.read_csv(file_path)\n",
    "            df_test_list = pd.concat([df_test_list, df_temp], axis=0)\n",
    "        elif file[0:13] == 'df_live_train':\n",
    "            file_path = os.path.join(folder_path, file)\n",
    "            df_temp = pd.read_csv(file_path)\n",
    "            df_train = pd.concat([df_train, df_temp], axis=0)\n",
    "    return df_test_list, df_train\n",
    "\n",
    "df_test,df=concat_files(folder_path)"
   ]
  },
  {
   "cell_type": "code",
   "execution_count": 24,
   "metadata": {},
   "outputs": [
    {
     "data": {
      "text/plain": [
       "Index(['Open_n_val', 'High_n_val', 'Low_n_val', 'Close_n_val', 'Volume_n_val',\n",
       "       'SMA_10_val', 'SMA_20_val', 'CMO_14_val', 'High_n-Low_n_val',\n",
       "       'Open_n-Close_n_val', 'SMA_20-SMA_10_val', 'Close_n_slope_3_val',\n",
       "       'Close_n_slope_5_val', 'Close_n_slope_10_val', 'Open_n_changelen_val',\n",
       "       'High_n_changelen_val', 'Low_n_changelen_val', 'Close_n_changelen_val',\n",
       "       'High_n-Low_n_changelen_val', 'Open_n-Close_n_changelen_val',\n",
       "       'SMA_20-SMA_10_changelen_val', 'Close_n_slope_3_changelen_val',\n",
       "       'Close_n_slope_5_changelen_val', 'Close_n_slope_10_changelen_val',\n",
       "       'row_num', 'era', 'id', 'target_5_val', 'target_10_val', 'target_5',\n",
       "       'target_10'],\n",
       "      dtype='object')"
      ]
     },
     "execution_count": 24,
     "metadata": {},
     "output_type": "execute_result"
    }
   ],
   "source": [
    "df.columns"
   ]
  },
  {
   "cell_type": "code",
   "execution_count": 25,
   "metadata": {},
   "outputs": [],
   "source": [
    "def encode(value, encoding):\n",
    "    for key, val in encoding.items():\n",
    "        if value == key:\n",
    "            return val\n",
    "\n",
    "class_values_era = list(df.era.unique())\n",
    "class_values_era.sort()\n",
    "class_values_target = list(df.target_10_val.unique())\n",
    "class_values_target.sort()\n",
    "era_encoding = {val: i for i, val in enumerate(class_values_era)}\n",
    "target_encoding = {val: i for i, val in enumerate(class_values_target)}\n",
    "df[\"era\"] = df[\"era\"].apply(encode, args=(era_encoding,))\n",
    "df[\"target_5_val\"] = df[\"target_5_val\"].apply(encode, args=(target_encoding,))\n",
    "df[\"target_10_val\"] = df[\"target_10_val\"].apply(encode, args=(target_encoding,))\n",
    "\n",
    "\n",
    "dataset = df\n",
    "target_column = \"target_10_val\"\n",
    "output_classes = 5\n",
    "shuffle = True"
   ]
  },
  {
   "cell_type": "code",
   "execution_count": 26,
   "metadata": {},
   "outputs": [
    {
     "data": {
      "text/html": [
       "<div>\n",
       "<style scoped>\n",
       "    .dataframe tbody tr th:only-of-type {\n",
       "        vertical-align: middle;\n",
       "    }\n",
       "\n",
       "    .dataframe tbody tr th {\n",
       "        vertical-align: top;\n",
       "    }\n",
       "\n",
       "    .dataframe thead th {\n",
       "        text-align: right;\n",
       "    }\n",
       "</style>\n",
       "<table border=\"1\" class=\"dataframe\">\n",
       "  <thead>\n",
       "    <tr style=\"text-align: right;\">\n",
       "      <th></th>\n",
       "      <th>Open_n_val</th>\n",
       "      <th>High_n_val</th>\n",
       "      <th>Low_n_val</th>\n",
       "      <th>Close_n_val</th>\n",
       "      <th>Volume_n_val</th>\n",
       "      <th>SMA_10_val</th>\n",
       "      <th>SMA_20_val</th>\n",
       "      <th>CMO_14_val</th>\n",
       "      <th>High_n-Low_n_val</th>\n",
       "      <th>Open_n-Close_n_val</th>\n",
       "      <th>...</th>\n",
       "      <th>Close_n_changelen_val</th>\n",
       "      <th>High_n-Low_n_changelen_val</th>\n",
       "      <th>Open_n-Close_n_changelen_val</th>\n",
       "      <th>SMA_20-SMA_10_changelen_val</th>\n",
       "      <th>Close_n_slope_3_changelen_val</th>\n",
       "      <th>Close_n_slope_5_changelen_val</th>\n",
       "      <th>Close_n_slope_10_changelen_val</th>\n",
       "      <th>row_num</th>\n",
       "      <th>target_10_val</th>\n",
       "      <th>era</th>\n",
       "    </tr>\n",
       "  </thead>\n",
       "  <tbody>\n",
       "    <tr>\n",
       "      <th>0</th>\n",
       "      <td>0.0</td>\n",
       "      <td>1.00</td>\n",
       "      <td>0.00</td>\n",
       "      <td>1.00</td>\n",
       "      <td>0.00</td>\n",
       "      <td>1.0</td>\n",
       "      <td>0.75</td>\n",
       "      <td>0.50</td>\n",
       "      <td>1.00</td>\n",
       "      <td>0.00</td>\n",
       "      <td>...</td>\n",
       "      <td>0.50</td>\n",
       "      <td>0.75</td>\n",
       "      <td>0.25</td>\n",
       "      <td>0.50</td>\n",
       "      <td>0.50</td>\n",
       "      <td>0.50</td>\n",
       "      <td>0.50</td>\n",
       "      <td>0</td>\n",
       "      <td>0</td>\n",
       "      <td>0</td>\n",
       "    </tr>\n",
       "    <tr>\n",
       "      <th>1</th>\n",
       "      <td>1.0</td>\n",
       "      <td>1.00</td>\n",
       "      <td>0.75</td>\n",
       "      <td>1.00</td>\n",
       "      <td>1.00</td>\n",
       "      <td>1.0</td>\n",
       "      <td>0.75</td>\n",
       "      <td>0.50</td>\n",
       "      <td>0.50</td>\n",
       "      <td>0.50</td>\n",
       "      <td>...</td>\n",
       "      <td>0.75</td>\n",
       "      <td>0.75</td>\n",
       "      <td>0.50</td>\n",
       "      <td>0.50</td>\n",
       "      <td>1.00</td>\n",
       "      <td>0.75</td>\n",
       "      <td>0.75</td>\n",
       "      <td>1</td>\n",
       "      <td>0</td>\n",
       "      <td>0</td>\n",
       "    </tr>\n",
       "    <tr>\n",
       "      <th>2</th>\n",
       "      <td>1.0</td>\n",
       "      <td>1.00</td>\n",
       "      <td>0.50</td>\n",
       "      <td>0.75</td>\n",
       "      <td>1.00</td>\n",
       "      <td>1.0</td>\n",
       "      <td>0.75</td>\n",
       "      <td>0.50</td>\n",
       "      <td>1.00</td>\n",
       "      <td>0.75</td>\n",
       "      <td>...</td>\n",
       "      <td>0.25</td>\n",
       "      <td>1.00</td>\n",
       "      <td>0.75</td>\n",
       "      <td>0.75</td>\n",
       "      <td>0.25</td>\n",
       "      <td>0.25</td>\n",
       "      <td>0.25</td>\n",
       "      <td>2</td>\n",
       "      <td>0</td>\n",
       "      <td>0</td>\n",
       "    </tr>\n",
       "    <tr>\n",
       "      <th>3</th>\n",
       "      <td>0.5</td>\n",
       "      <td>0.50</td>\n",
       "      <td>0.50</td>\n",
       "      <td>0.50</td>\n",
       "      <td>1.00</td>\n",
       "      <td>1.0</td>\n",
       "      <td>0.75</td>\n",
       "      <td>0.50</td>\n",
       "      <td>1.00</td>\n",
       "      <td>0.75</td>\n",
       "      <td>...</td>\n",
       "      <td>0.00</td>\n",
       "      <td>0.75</td>\n",
       "      <td>0.25</td>\n",
       "      <td>0.75</td>\n",
       "      <td>0.25</td>\n",
       "      <td>0.00</td>\n",
       "      <td>0.25</td>\n",
       "      <td>3</td>\n",
       "      <td>1</td>\n",
       "      <td>0</td>\n",
       "    </tr>\n",
       "    <tr>\n",
       "      <th>4</th>\n",
       "      <td>0.5</td>\n",
       "      <td>0.50</td>\n",
       "      <td>0.50</td>\n",
       "      <td>0.75</td>\n",
       "      <td>1.00</td>\n",
       "      <td>1.0</td>\n",
       "      <td>0.75</td>\n",
       "      <td>0.50</td>\n",
       "      <td>0.75</td>\n",
       "      <td>0.00</td>\n",
       "      <td>...</td>\n",
       "      <td>0.75</td>\n",
       "      <td>0.50</td>\n",
       "      <td>0.00</td>\n",
       "      <td>0.75</td>\n",
       "      <td>1.00</td>\n",
       "      <td>0.75</td>\n",
       "      <td>0.75</td>\n",
       "      <td>4</td>\n",
       "      <td>0</td>\n",
       "      <td>0</td>\n",
       "    </tr>\n",
       "    <tr>\n",
       "      <th>...</th>\n",
       "      <td>...</td>\n",
       "      <td>...</td>\n",
       "      <td>...</td>\n",
       "      <td>...</td>\n",
       "      <td>...</td>\n",
       "      <td>...</td>\n",
       "      <td>...</td>\n",
       "      <td>...</td>\n",
       "      <td>...</td>\n",
       "      <td>...</td>\n",
       "      <td>...</td>\n",
       "      <td>...</td>\n",
       "      <td>...</td>\n",
       "      <td>...</td>\n",
       "      <td>...</td>\n",
       "      <td>...</td>\n",
       "      <td>...</td>\n",
       "      <td>...</td>\n",
       "      <td>...</td>\n",
       "      <td>...</td>\n",
       "      <td>...</td>\n",
       "    </tr>\n",
       "    <tr>\n",
       "      <th>284</th>\n",
       "      <td>0.0</td>\n",
       "      <td>0.25</td>\n",
       "      <td>0.00</td>\n",
       "      <td>0.00</td>\n",
       "      <td>0.75</td>\n",
       "      <td>0.0</td>\n",
       "      <td>0.00</td>\n",
       "      <td>0.00</td>\n",
       "      <td>0.75</td>\n",
       "      <td>0.50</td>\n",
       "      <td>...</td>\n",
       "      <td>0.50</td>\n",
       "      <td>0.75</td>\n",
       "      <td>0.75</td>\n",
       "      <td>0.50</td>\n",
       "      <td>1.00</td>\n",
       "      <td>0.75</td>\n",
       "      <td>0.75</td>\n",
       "      <td>139</td>\n",
       "      <td>2</td>\n",
       "      <td>0</td>\n",
       "    </tr>\n",
       "    <tr>\n",
       "      <th>285</th>\n",
       "      <td>0.0</td>\n",
       "      <td>0.00</td>\n",
       "      <td>0.00</td>\n",
       "      <td>0.00</td>\n",
       "      <td>0.25</td>\n",
       "      <td>0.0</td>\n",
       "      <td>0.00</td>\n",
       "      <td>0.00</td>\n",
       "      <td>0.00</td>\n",
       "      <td>0.50</td>\n",
       "      <td>...</td>\n",
       "      <td>0.25</td>\n",
       "      <td>0.50</td>\n",
       "      <td>0.75</td>\n",
       "      <td>0.25</td>\n",
       "      <td>0.50</td>\n",
       "      <td>1.00</td>\n",
       "      <td>0.75</td>\n",
       "      <td>140</td>\n",
       "      <td>2</td>\n",
       "      <td>0</td>\n",
       "    </tr>\n",
       "    <tr>\n",
       "      <th>286</th>\n",
       "      <td>0.0</td>\n",
       "      <td>0.00</td>\n",
       "      <td>0.00</td>\n",
       "      <td>0.00</td>\n",
       "      <td>0.50</td>\n",
       "      <td>0.0</td>\n",
       "      <td>0.00</td>\n",
       "      <td>0.00</td>\n",
       "      <td>0.50</td>\n",
       "      <td>0.50</td>\n",
       "      <td>...</td>\n",
       "      <td>0.75</td>\n",
       "      <td>0.75</td>\n",
       "      <td>0.25</td>\n",
       "      <td>0.25</td>\n",
       "      <td>0.75</td>\n",
       "      <td>1.00</td>\n",
       "      <td>0.75</td>\n",
       "      <td>141</td>\n",
       "      <td>2</td>\n",
       "      <td>0</td>\n",
       "    </tr>\n",
       "    <tr>\n",
       "      <th>287</th>\n",
       "      <td>0.0</td>\n",
       "      <td>0.00</td>\n",
       "      <td>0.00</td>\n",
       "      <td>0.25</td>\n",
       "      <td>0.50</td>\n",
       "      <td>0.0</td>\n",
       "      <td>0.00</td>\n",
       "      <td>0.25</td>\n",
       "      <td>0.50</td>\n",
       "      <td>0.25</td>\n",
       "      <td>...</td>\n",
       "      <td>1.00</td>\n",
       "      <td>0.50</td>\n",
       "      <td>0.00</td>\n",
       "      <td>0.25</td>\n",
       "      <td>1.00</td>\n",
       "      <td>0.50</td>\n",
       "      <td>0.75</td>\n",
       "      <td>142</td>\n",
       "      <td>2</td>\n",
       "      <td>0</td>\n",
       "    </tr>\n",
       "    <tr>\n",
       "      <th>288</th>\n",
       "      <td>0.0</td>\n",
       "      <td>0.00</td>\n",
       "      <td>0.00</td>\n",
       "      <td>0.00</td>\n",
       "      <td>0.25</td>\n",
       "      <td>0.0</td>\n",
       "      <td>0.00</td>\n",
       "      <td>0.00</td>\n",
       "      <td>0.00</td>\n",
       "      <td>0.75</td>\n",
       "      <td>...</td>\n",
       "      <td>0.50</td>\n",
       "      <td>0.25</td>\n",
       "      <td>0.50</td>\n",
       "      <td>0.25</td>\n",
       "      <td>0.50</td>\n",
       "      <td>0.25</td>\n",
       "      <td>0.25</td>\n",
       "      <td>143</td>\n",
       "      <td>2</td>\n",
       "      <td>0</td>\n",
       "    </tr>\n",
       "  </tbody>\n",
       "</table>\n",
       "<p>12862 rows × 27 columns</p>\n",
       "</div>"
      ],
      "text/plain": [
       "     Open_n_val  High_n_val  Low_n_val  Close_n_val  Volume_n_val  SMA_10_val  \\\n",
       "0           0.0        1.00       0.00         1.00          0.00         1.0   \n",
       "1           1.0        1.00       0.75         1.00          1.00         1.0   \n",
       "2           1.0        1.00       0.50         0.75          1.00         1.0   \n",
       "3           0.5        0.50       0.50         0.50          1.00         1.0   \n",
       "4           0.5        0.50       0.50         0.75          1.00         1.0   \n",
       "..          ...         ...        ...          ...           ...         ...   \n",
       "284         0.0        0.25       0.00         0.00          0.75         0.0   \n",
       "285         0.0        0.00       0.00         0.00          0.25         0.0   \n",
       "286         0.0        0.00       0.00         0.00          0.50         0.0   \n",
       "287         0.0        0.00       0.00         0.25          0.50         0.0   \n",
       "288         0.0        0.00       0.00         0.00          0.25         0.0   \n",
       "\n",
       "     SMA_20_val  CMO_14_val  High_n-Low_n_val  Open_n-Close_n_val  ...  \\\n",
       "0          0.75        0.50              1.00                0.00  ...   \n",
       "1          0.75        0.50              0.50                0.50  ...   \n",
       "2          0.75        0.50              1.00                0.75  ...   \n",
       "3          0.75        0.50              1.00                0.75  ...   \n",
       "4          0.75        0.50              0.75                0.00  ...   \n",
       "..          ...         ...               ...                 ...  ...   \n",
       "284        0.00        0.00              0.75                0.50  ...   \n",
       "285        0.00        0.00              0.00                0.50  ...   \n",
       "286        0.00        0.00              0.50                0.50  ...   \n",
       "287        0.00        0.25              0.50                0.25  ...   \n",
       "288        0.00        0.00              0.00                0.75  ...   \n",
       "\n",
       "     Close_n_changelen_val  High_n-Low_n_changelen_val  \\\n",
       "0                     0.50                        0.75   \n",
       "1                     0.75                        0.75   \n",
       "2                     0.25                        1.00   \n",
       "3                     0.00                        0.75   \n",
       "4                     0.75                        0.50   \n",
       "..                     ...                         ...   \n",
       "284                   0.50                        0.75   \n",
       "285                   0.25                        0.50   \n",
       "286                   0.75                        0.75   \n",
       "287                   1.00                        0.50   \n",
       "288                   0.50                        0.25   \n",
       "\n",
       "     Open_n-Close_n_changelen_val  SMA_20-SMA_10_changelen_val  \\\n",
       "0                            0.25                         0.50   \n",
       "1                            0.50                         0.50   \n",
       "2                            0.75                         0.75   \n",
       "3                            0.25                         0.75   \n",
       "4                            0.00                         0.75   \n",
       "..                            ...                          ...   \n",
       "284                          0.75                         0.50   \n",
       "285                          0.75                         0.25   \n",
       "286                          0.25                         0.25   \n",
       "287                          0.00                         0.25   \n",
       "288                          0.50                         0.25   \n",
       "\n",
       "     Close_n_slope_3_changelen_val  Close_n_slope_5_changelen_val  \\\n",
       "0                             0.50                           0.50   \n",
       "1                             1.00                           0.75   \n",
       "2                             0.25                           0.25   \n",
       "3                             0.25                           0.00   \n",
       "4                             1.00                           0.75   \n",
       "..                             ...                            ...   \n",
       "284                           1.00                           0.75   \n",
       "285                           0.50                           1.00   \n",
       "286                           0.75                           1.00   \n",
       "287                           1.00                           0.50   \n",
       "288                           0.50                           0.25   \n",
       "\n",
       "     Close_n_slope_10_changelen_val  row_num  target_10_val  era  \n",
       "0                              0.50        0              0    0  \n",
       "1                              0.75        1              0    0  \n",
       "2                              0.25        2              0    0  \n",
       "3                              0.25        3              1    0  \n",
       "4                              0.75        4              0    0  \n",
       "..                              ...      ...            ...  ...  \n",
       "284                            0.75      139              2    0  \n",
       "285                            0.75      140              2    0  \n",
       "286                            0.75      141              2    0  \n",
       "287                            0.75      142              2    0  \n",
       "288                            0.25      143              2    0  \n",
       "\n",
       "[12862 rows x 27 columns]"
      ]
     },
     "execution_count": 26,
     "metadata": {},
     "output_type": "execute_result"
    }
   ],
   "source": [
    "new_dataset = dataset.drop(columns=[\"target_5_val\", \"target_5\",\"target_10\",\"id\"])\n",
    "era = new_dataset.pop(\"era\")\n",
    "target = new_dataset.pop(target_column)\n",
    "new_dataset[target_column] = target\n",
    "new_dataset[\"era\"] = era\n",
    "new_dataset"
   ]
  },
  {
   "cell_type": "code",
   "execution_count": 27,
   "metadata": {},
   "outputs": [],
   "source": [
    "train_dataset = CustomDataset(new_dataset.drop(columns=[target_column,'era','row_num']).values, new_dataset[target_column].values)\n",
    "\n",
    "train_loader = DataLoader(train_dataset, batch_size=32, shuffle=shuffle)"
   ]
  },
  {
   "cell_type": "code",
   "execution_count": 32,
   "metadata": {},
   "outputs": [
    {
     "data": {
      "text/plain": [
       "Index(['id', 'Open_n_val', 'High_n_val', 'Low_n_val', 'Close_n_val',\n",
       "       'Volume_n_val', 'SMA_10_val', 'SMA_20_val', 'CMO_14_val',\n",
       "       'High_n-Low_n_val', 'Open_n-Close_n_val', 'SMA_20-SMA_10_val',\n",
       "       'Close_n_slope_3_val', 'Close_n_slope_5_val', 'Close_n_slope_10_val',\n",
       "       'Open_n_changelen_val', 'High_n_changelen_val', 'Low_n_changelen_val',\n",
       "       'Close_n_changelen_val', 'High_n-Low_n_changelen_val',\n",
       "       'Open_n-Close_n_changelen_val', 'SMA_20-SMA_10_changelen_val',\n",
       "       'Close_n_slope_3_changelen_val', 'Close_n_slope_5_changelen_val',\n",
       "       'Close_n_slope_10_changelen_val', 'row_num'],\n",
       "      dtype='object')"
      ]
     },
     "execution_count": 32,
     "metadata": {},
     "output_type": "execute_result"
    }
   ],
   "source": [
    "df_test.columns"
   ]
  },
  {
   "cell_type": "code",
   "execution_count": 33,
   "metadata": {},
   "outputs": [],
   "source": [
    "test_set = df_test\n",
    "target_column = \"row_num\"\n",
    "output_classes = 5"
   ]
  },
  {
   "cell_type": "code",
   "execution_count": 34,
   "metadata": {},
   "outputs": [],
   "source": [
    "test_dataset = CustomDataset(test_set.drop(columns=[target_column,'row_num','id']).values, new_test_dataset[target_column].values)\n",
    "test_loader = DataLoader(test_dataset, batch_size=1, shuffle=False)"
   ]
  },
  {
   "cell_type": "code",
   "execution_count": 37,
   "metadata": {},
   "outputs": [
    {
     "data": {
      "application/vnd.jupyter.widget-view+json": {
       "model_id": "f1fc131a82724274b4840b92890d05c0",
       "version_major": 2,
       "version_minor": 0
      },
      "text/plain": [
       "0it [00:00, ?it/s]"
      ]
     },
     "metadata": {},
     "output_type": "display_data"
    }
   ],
   "source": [
    "# test the model on test data\n",
    "test_accuracies = []\n",
    "predictions=[]\n",
    "all_prediction_logits = []\n",
    "\n",
    "for batch, (X,y) in tqdm(enumerate((test_loader))):\n",
    "    optimizer.zero_grad()\n",
    "    X, y = X,y\n",
    "    X,y= X.cuda().float(), y.cuda().long()\n",
    "    prediction_logits, auxiliary,tau = model(X)\n",
    "\n",
    "    aux_loss = auxiliary_criterion(auxiliary, X)\n",
    "    loss = aux_loss\n",
    "    # print(\"aux_loss\", aux_loss.item())\n",
    "    loss.backward()\n",
    "    optimizer.step()\n",
    "    \n",
    "    prediction_logits, auxiliary,tau = model(X)\n",
    "    prediction = F.softmax(prediction_logits, dim=1)\n",
    "    prediction = torch.argmax(prediction, dim=1)\n",
    "    all_prediction_logits.extend(prediction)\n",
    "    # batch_accuracy = (prediction == y).sum().item() / len(y)\n",
    "    # test_accuracies.append(batch_accuracy)\n",
    "    predictions.append(prediction.item())\n",
    "\n",
    "    if batch == 10:\n",
    "        break\n",
    "# print(f\"Test Accuracy: {np.mean(test_accuracies)}\")\n",
    "\n",
    "\n"
   ]
  },
  {
   "cell_type": "code",
   "execution_count": 38,
   "metadata": {},
   "outputs": [
    {
     "data": {
      "text/plain": [
       "[2, 2, 2, 2, 2, 2, 2, 2, 2, 2, 2]"
      ]
     },
     "execution_count": 38,
     "metadata": {},
     "output_type": "execute_result"
    }
   ],
   "source": [
    "predictions"
   ]
  },
  {
   "cell_type": "markdown",
   "metadata": {},
   "source": [
    "# Live Data (Pair of datasets)"
   ]
  },
  {
   "cell_type": "code",
   "execution_count": 20,
   "metadata": {},
   "outputs": [],
   "source": [
    "folder_path = 'live_data/live_data_08-Apr-2024'\n",
    "'''\n",
    "the folder path has 2 types of files - df_live_test and df_live_train\n",
    "Concatentae the files and save it as a single file\n",
    "'''\n",
    "# sort the files in increasing order of file name length\n",
    "def sort_files(folder_path):\n",
    "    files = os.listdir(folder_path)\n",
    "    files.sort(key=len)\n",
    "    return files\n",
    "\n",
    "\n",
    "def concat_files(folder_path):\n",
    "    df_test_list = []\n",
    "    df_train_list = []\n",
    "\n",
    "    df_test_list_names = []\n",
    "    df_train_list_names = []\n",
    "\n",
    "    files = sort_files(folder_path)\n",
    "    for file in files:\n",
    "        # print(file)\n",
    "        if file[0:12] == 'df_live_test':\n",
    "            df_test_list_names.append(file)\n",
    "            file_path = os.path.join(folder_path, file)\n",
    "            df_temp = pd.read_csv(file_path)\n",
    "            df_test_list.append(df_temp)\n",
    "        elif file[0:13] == 'df_live_train':\n",
    "            df_train_list_names.append(file)\n",
    "            file_path = os.path.join(folder_path, file)\n",
    "            df_temp = pd.read_csv(file_path)\n",
    "            df_train_list.append(df_temp)\n",
    "    # print(df_test_list_names)\n",
    "    # print(df_train_list_names)\n",
    "    # print(len(df_test_list), len(df_train_list))\n",
    "    return df_test_list, df_train_list\n",
    "\n",
    "df_test,df_train=concat_files(folder_path)"
   ]
  },
  {
   "cell_type": "code",
   "execution_count": 21,
   "metadata": {},
   "outputs": [
    {
     "name": "stdout",
     "output_type": "stream",
     "text": [
      "dataset_num 0\n"
     ]
    },
    {
     "data": {
      "application/vnd.jupyter.widget-view+json": {
       "model_id": "7fec92cb625649ce8088b59e26958baf",
       "version_major": 2,
       "version_minor": 0
      },
      "text/plain": [
       "  0%|          | 0/5 [00:00<?, ?it/s]"
      ]
     },
     "metadata": {},
     "output_type": "display_data"
    },
    {
     "name": "stdout",
     "output_type": "stream",
     "text": [
      "Epoch 0 Loss: 35.764253241749415 Accuracy: 0.12094907407407407\n",
      "Epoch 1 Loss: 35.70821104286548 Accuracy: 0.11805555555555555\n",
      "Epoch 2 Loss: 35.65977958229175 Accuracy: 0.12094907407407407\n",
      "Epoch 3 Loss: 35.60600545657549 Accuracy: 0.11805555555555555\n",
      "Epoch 4 Loss: 35.55060009906273 Accuracy: 0.11226851851851852\n"
     ]
    },
    {
     "data": {
      "application/vnd.jupyter.widget-view+json": {
       "model_id": "66432b4b7471444ebd3568a749f2457e",
       "version_major": 2,
       "version_minor": 0
      },
      "text/plain": [
       "0it [00:00, ?it/s]"
      ]
     },
     "metadata": {},
     "output_type": "display_data"
    },
    {
     "name": "stdout",
     "output_type": "stream",
     "text": [
      "dataset_num 1\n"
     ]
    },
    {
     "data": {
      "application/vnd.jupyter.widget-view+json": {
       "model_id": "3d745e3d63814b4d8737b7e38978b561",
       "version_major": 2,
       "version_minor": 0
      },
      "text/plain": [
       "  0%|          | 0/5 [00:00<?, ?it/s]"
      ]
     },
     "metadata": {},
     "output_type": "display_data"
    },
    {
     "name": "stdout",
     "output_type": "stream",
     "text": [
      "Epoch 0 Loss: 35.47948017307574 Accuracy: 0.11607142857142858\n",
      "Epoch 1 Loss: 35.43066369527094 Accuracy: 0.11830357142857142\n",
      "Epoch 2 Loss: 35.38011622509997 Accuracy: 0.11607142857142858\n",
      "Epoch 3 Loss: 35.32907584387395 Accuracy: 0.11160714285714285\n",
      "Epoch 4 Loss: 35.27713735464905 Accuracy: 0.1517857142857143\n"
     ]
    },
    {
     "data": {
      "application/vnd.jupyter.widget-view+json": {
       "model_id": "dc438fa404354882992437a7e63e50d3",
       "version_major": 2,
       "version_minor": 0
      },
      "text/plain": [
       "0it [00:00, ?it/s]"
      ]
     },
     "metadata": {},
     "output_type": "display_data"
    },
    {
     "name": "stdout",
     "output_type": "stream",
     "text": [
      "dataset_num 2\n"
     ]
    },
    {
     "data": {
      "application/vnd.jupyter.widget-view+json": {
       "model_id": "0f3cff98282c41d9b730e2253e3df5b0",
       "version_major": 2,
       "version_minor": 0
      },
      "text/plain": [
       "  0%|          | 0/5 [00:00<?, ?it/s]"
      ]
     },
     "metadata": {},
     "output_type": "display_data"
    },
    {
     "name": "stdout",
     "output_type": "stream",
     "text": [
      "Epoch 0 Loss: 35.0896122543593 Accuracy: 0.26264880952380953\n",
      "Epoch 1 Loss: 34.72175777495099 Accuracy: 0.26339285714285715\n",
      "Epoch 2 Loss: 34.335400610441866 Accuracy: 0.25669642857142855\n",
      "Epoch 3 Loss: 34.01627924257106 Accuracy: 0.25669642857142855\n",
      "Epoch 4 Loss: 33.75769986172036 Accuracy: 0.25669642857142855\n"
     ]
    },
    {
     "data": {
      "application/vnd.jupyter.widget-view+json": {
       "model_id": "a67b1d6ad771490b8c0261b46afe444f",
       "version_major": 2,
       "version_minor": 0
      },
      "text/plain": [
       "0it [00:00, ?it/s]"
      ]
     },
     "metadata": {},
     "output_type": "display_data"
    },
    {
     "name": "stdout",
     "output_type": "stream",
     "text": [
      "dataset_num 3\n"
     ]
    },
    {
     "data": {
      "application/vnd.jupyter.widget-view+json": {
       "model_id": "297cbef5e6e644ef807a79fd6c0c15c0",
       "version_major": 2,
       "version_minor": 0
      },
      "text/plain": [
       "  0%|          | 0/5 [00:00<?, ?it/s]"
      ]
     },
     "metadata": {},
     "output_type": "display_data"
    },
    {
     "name": "stdout",
     "output_type": "stream",
     "text": [
      "Epoch 0 Loss: 33.45190085536195 Accuracy: 0.2688078703703704\n",
      "Epoch 1 Loss: 33.12829309188399 Accuracy: 0.26070601851851855\n",
      "Epoch 2 Loss: 32.69847299524091 Accuracy: 0.26273148148148145\n",
      "Epoch 3 Loss: 31.991748722152167 Accuracy: 0.2566550925925926\n",
      "Epoch 4 Loss: 30.907767638972814 Accuracy: 0.26273148148148145\n"
     ]
    },
    {
     "data": {
      "application/vnd.jupyter.widget-view+json": {
       "model_id": "bcf153ec0ee94106b8b25b1344d216e6",
       "version_major": 2,
       "version_minor": 0
      },
      "text/plain": [
       "0it [00:00, ?it/s]"
      ]
     },
     "metadata": {},
     "output_type": "display_data"
    },
    {
     "name": "stdout",
     "output_type": "stream",
     "text": [
      "dataset_num 4\n"
     ]
    },
    {
     "data": {
      "application/vnd.jupyter.widget-view+json": {
       "model_id": "fcb322f6a4014666ba1dd689ebd6039a",
       "version_major": 2,
       "version_minor": 0
      },
      "text/plain": [
       "  0%|          | 0/5 [00:00<?, ?it/s]"
      ]
     },
     "metadata": {},
     "output_type": "display_data"
    },
    {
     "name": "stdout",
     "output_type": "stream",
     "text": [
      "Epoch 0 Loss: 29.604419278513028 Accuracy: 0.25375000000000003\n",
      "Epoch 1 Loss: 28.844803127011517 Accuracy: 0.22625\n",
      "Epoch 2 Loss: 27.903707599839414 Accuracy: 0.26749999999999996\n",
      "Epoch 3 Loss: 26.87454387345531 Accuracy: 0.25375000000000003\n",
      "Epoch 4 Loss: 25.672541045092476 Accuracy: 0.22625\n"
     ]
    },
    {
     "data": {
      "application/vnd.jupyter.widget-view+json": {
       "model_id": "ab38443e29eb44b5b773132362d7a40c",
       "version_major": 2,
       "version_minor": 0
      },
      "text/plain": [
       "0it [00:00, ?it/s]"
      ]
     },
     "metadata": {},
     "output_type": "display_data"
    },
    {
     "name": "stdout",
     "output_type": "stream",
     "text": [
      "dataset_num 5\n"
     ]
    },
    {
     "data": {
      "application/vnd.jupyter.widget-view+json": {
       "model_id": "911f2d68b5654e85ab8ec1ee09f49cd2",
       "version_major": 2,
       "version_minor": 0
      },
      "text/plain": [
       "  0%|          | 0/5 [00:00<?, ?it/s]"
      ]
     },
     "metadata": {},
     "output_type": "display_data"
    },
    {
     "name": "stdout",
     "output_type": "stream",
     "text": [
      "Epoch 0 Loss: 24.13701955868338 Accuracy: 0.17708333333333334\n",
      "Epoch 1 Loss: 23.391030761661316 Accuracy: 0.19791666666666666\n",
      "Epoch 2 Loss: 22.50349423331693 Accuracy: 0.19791666666666666\n",
      "Epoch 3 Loss: 21.347735720694388 Accuracy: 0.17708333333333334\n",
      "Epoch 4 Loss: 20.34662809147495 Accuracy: 0.1875\n"
     ]
    },
    {
     "data": {
      "application/vnd.jupyter.widget-view+json": {
       "model_id": "ebf23ebabfdc462cb20dca39d17ef4f0",
       "version_major": 2,
       "version_minor": 0
      },
      "text/plain": [
       "0it [00:00, ?it/s]"
      ]
     },
     "metadata": {},
     "output_type": "display_data"
    },
    {
     "name": "stdout",
     "output_type": "stream",
     "text": [
      "dataset_num 6\n"
     ]
    },
    {
     "data": {
      "application/vnd.jupyter.widget-view+json": {
       "model_id": "188f42737cc94f7992082c7554fe245c",
       "version_major": 2,
       "version_minor": 0
      },
      "text/plain": [
       "  0%|          | 0/5 [00:00<?, ?it/s]"
      ]
     },
     "metadata": {},
     "output_type": "display_data"
    },
    {
     "name": "stdout",
     "output_type": "stream",
     "text": [
      "Epoch 0 Loss: 19.617723899510324 Accuracy: 0.286764705882353\n",
      "Epoch 1 Loss: 18.406398536223715 Accuracy: 0.3235294117647059\n",
      "Epoch 2 Loss: 17.25671787090163 Accuracy: 0.2959558823529412\n",
      "Epoch 3 Loss: 16.11025575517435 Accuracy: 0.2959558823529412\n",
      "Epoch 4 Loss: 14.975208148226947 Accuracy: 0.2959558823529412\n"
     ]
    },
    {
     "data": {
      "application/vnd.jupyter.widget-view+json": {
       "model_id": "64739ec3dc3c4bfca3f31f8ec071cd9b",
       "version_major": 2,
       "version_minor": 0
      },
      "text/plain": [
       "0it [00:00, ?it/s]"
      ]
     },
     "metadata": {},
     "output_type": "display_data"
    },
    {
     "name": "stdout",
     "output_type": "stream",
     "text": [
      "dataset_num 7\n"
     ]
    },
    {
     "data": {
      "application/vnd.jupyter.widget-view+json": {
       "model_id": "6b3f8bb86e014369a183a76483387d6c",
       "version_major": 2,
       "version_minor": 0
      },
      "text/plain": [
       "  0%|          | 0/5 [00:00<?, ?it/s]"
      ]
     },
     "metadata": {},
     "output_type": "display_data"
    },
    {
     "name": "stdout",
     "output_type": "stream",
     "text": [
      "Epoch 0 Loss: 14.068415345571294 Accuracy: 0.29050925925925924\n",
      "Epoch 1 Loss: 13.059160490250996 Accuracy: 0.2986111111111111\n",
      "Epoch 2 Loss: 11.922466206799902 Accuracy: 0.30671296296296297\n",
      "Epoch 3 Loss: 11.032257978751403 Accuracy: 0.2824074074074074\n",
      "Epoch 4 Loss: 10.115343486129953 Accuracy: 0.2986111111111111\n"
     ]
    },
    {
     "data": {
      "application/vnd.jupyter.widget-view+json": {
       "model_id": "0c6b0792802941ff9eb97a9a4d072141",
       "version_major": 2,
       "version_minor": 0
      },
      "text/plain": [
       "0it [00:00, ?it/s]"
      ]
     },
     "metadata": {},
     "output_type": "display_data"
    },
    {
     "name": "stdout",
     "output_type": "stream",
     "text": [
      "dataset_num 8\n"
     ]
    },
    {
     "data": {
      "application/vnd.jupyter.widget-view+json": {
       "model_id": "f14d953fa8a14e87bb226dc5ab540110",
       "version_major": 2,
       "version_minor": 0
      },
      "text/plain": [
       "  0%|          | 0/5 [00:00<?, ?it/s]"
      ]
     },
     "metadata": {},
     "output_type": "display_data"
    },
    {
     "name": "stdout",
     "output_type": "stream",
     "text": [
      "Epoch 0 Loss: 8.682206915857726 Accuracy: 0.2638888888888889\n",
      "Epoch 1 Loss: 7.438551960074555 Accuracy: 0.21875\n",
      "Epoch 2 Loss: 6.341340205534899 Accuracy: 0.2638888888888889\n",
      "Epoch 3 Loss: 5.664206783690271 Accuracy: 0.2638888888888889\n",
      "Epoch 4 Loss: 5.171914742303243 Accuracy: 0.24131944444444445\n"
     ]
    },
    {
     "data": {
      "application/vnd.jupyter.widget-view+json": {
       "model_id": "9bd1876843a94e2791e81cfaff3f437c",
       "version_major": 2,
       "version_minor": 0
      },
      "text/plain": [
       "0it [00:00, ?it/s]"
      ]
     },
     "metadata": {},
     "output_type": "display_data"
    },
    {
     "name": "stdout",
     "output_type": "stream",
     "text": [
      "dataset_num 9\n"
     ]
    },
    {
     "data": {
      "application/vnd.jupyter.widget-view+json": {
       "model_id": "897569a7e1f546d980132cd4445e55bd",
       "version_major": 2,
       "version_minor": 0
      },
      "text/plain": [
       "  0%|          | 0/5 [00:00<?, ?it/s]"
      ]
     },
     "metadata": {},
     "output_type": "display_data"
    },
    {
     "name": "stdout",
     "output_type": "stream",
     "text": [
      "Epoch 0 Loss: 4.673316918810396 Accuracy: 0.314484126984127\n",
      "Epoch 1 Loss: 4.587382615928167 Accuracy: 0.3199404761904762\n",
      "Epoch 2 Loss: 4.36362158285819 Accuracy: 0.314484126984127\n",
      "Epoch 3 Loss: 4.372428246668842 Accuracy: 0.2926587301587302\n",
      "Epoch 4 Loss: 4.221236049435943 Accuracy: 0.3253968253968254\n"
     ]
    },
    {
     "data": {
      "application/vnd.jupyter.widget-view+json": {
       "model_id": "b1b88febdc36407d8b32eb540d357340",
       "version_major": 2,
       "version_minor": 0
      },
      "text/plain": [
       "0it [00:00, ?it/s]"
      ]
     },
     "metadata": {},
     "output_type": "display_data"
    }
   ],
   "source": [
    "all_predictions=[]\n",
    "model = TTA(input_size=24, classification_output_size=5, auxiliary_output_size=24)\n",
    "model.cuda() \n",
    "# classification_criterion = nn.CrossEntropyLoss()\n",
    "classification_criterion = NoiseAttentionLoss()\n",
    "auxiliary_criterion = nn.MSELoss() \n",
    "optimizer = torch.optim.Adam(model.parameters(), lr=0.0001)\n",
    "bagging_percent = 0.9\n",
    "\n",
    "\n",
    "for dataset_num in range(len(df_train)):\n",
    "    print(\"dataset_num\", dataset_num)\n",
    "    df = df_train[dataset_num]\n",
    "\n",
    "    class_values_era = list(df.era.unique())\n",
    "    class_values_era.sort()\n",
    "    class_values_target = list(df.target_10_val.unique())\n",
    "    class_values_target.sort()\n",
    "    era_encoding = {val: i for i, val in enumerate(class_values_era)}\n",
    "    target_encoding = {val: i for i, val in enumerate(class_values_target)}\n",
    "    df[\"era\"] = df[\"era\"].apply(encode, args=(era_encoding,))\n",
    "    df[\"target_5_val\"] = df[\"target_5_val\"].apply(encode, args=(target_encoding,))\n",
    "    df[\"target_10_val\"] = df[\"target_10_val\"].apply(encode, args=(target_encoding,))\n",
    "\n",
    "    dataset = df\n",
    "    target_column = \"target_10_val\"\n",
    "    output_classes = 5\n",
    "    shuffle = True\n",
    "\n",
    "    new_dataset = dataset.drop(columns=[\"target_5_val\", \"target_5\",\"target_10\",\"id\"])\n",
    "    era = new_dataset.pop(\"era\")\n",
    "    target = new_dataset.pop(target_column)\n",
    "    new_dataset[target_column] = target\n",
    "    new_dataset[\"era\"] = era\n",
    "\n",
    "    train_dataset = CustomDataset(new_dataset.drop(columns=[target_column,'era','row_num']).values, new_dataset[target_column].values)\n",
    "\n",
    "    train_loader = DataLoader(train_dataset, batch_size=32, shuffle=shuffle)\n",
    "\n",
    "    epochs = 5\n",
    "    losses = []\n",
    "    predictions = []\n",
    "    accuracy = []\n",
    "    for epoch in tqdm(range(epochs)):\n",
    "        # loop = tqdm(train_loader, leave=True)\n",
    "        epoch_acc=[]\n",
    "        epoch_loss=[]\n",
    "        for batch,(X, y) in enumerate(train_loader):\n",
    "            X, y = X.cuda().float(), y.cuda().long()\n",
    "            \n",
    "            # # mask 5 columns in X\n",
    "            # mask = torch.randint(0, 27, (5,))\n",
    "            # X[:, mask] = 0\n",
    "\n",
    "            optimizer.zero_grad()\n",
    "            prediction_logits, auxiliary,tau = model(X)\n",
    "            # print(tau)\n",
    "            prediction_softmax = F.softmax(prediction_logits, dim=1).to(torch.float64)\n",
    "            prediction = torch.argmax(prediction_softmax, dim=1)\n",
    "\n",
    "            loss1 = classification_criterion(prediction_softmax, y,tau)\n",
    "            # print(prediction_logits)\n",
    "            loss2 = auxiliary_criterion(auxiliary, X)\n",
    "            # print(loss1.item(), loss2.item()    )\n",
    "            accuracy_batch = (prediction == y).sum().item() / len(y)\n",
    "            epoch_acc.append(accuracy_batch)\n",
    "\n",
    "            loss = loss1 + loss2\n",
    "            loss.backward()\n",
    "            optimizer.step()\n",
    "            # losses.append(loss.item())\n",
    "            epoch_loss.append(loss.item())\n",
    "            predictions.append(prediction)\n",
    "            # break\n",
    "            # if batch == bagging_percent * len(train_loader):\n",
    "            #     break\n",
    "        accuracy.append(np.mean(epoch_acc))\n",
    "        losses.append(np.mean(epoch_loss))\n",
    "        print(f\"Epoch {epoch} Loss: {np.mean(epoch_loss)} Accuracy: {np.mean(epoch_acc)}\")\n",
    "\n",
    "\n",
    "    df_test_list = df_test[dataset_num]\n",
    "    target_column = \"row_num\"\n",
    "    output_classes = 5\n",
    "\n",
    "    test_dataset = CustomDataset(df_test_list.drop(columns=[target_column,'row_num','id']).values, df_test_list[target_column].values)\n",
    "    test_loader = DataLoader(test_dataset, batch_size=1, shuffle=False)\n",
    "\n",
    "    # test the model on test data\n",
    "    test_accuracies = []\n",
    "    predictions=[]\n",
    "    all_prediction_logits = []\n",
    "\n",
    "    for batch, (X,y) in tqdm(enumerate((test_loader))):\n",
    "        optimizer.zero_grad()\n",
    "        X, y = X,y\n",
    "        X,y= X.cuda().float(), y.cuda().long()\n",
    "        prediction_logits, auxiliary,tau = model(X)\n",
    "\n",
    "        aux_loss = auxiliary_criterion(auxiliary, X)\n",
    "        loss = aux_loss\n",
    "        # print(\"aux_loss\", aux_loss.item())\n",
    "        loss.backward()\n",
    "        optimizer.step()\n",
    "        \n",
    "        prediction_logits, auxiliary,tau = model(X)\n",
    "        prediction = F.softmax(prediction_logits, dim=1)\n",
    "        prediction = torch.argmax(prediction, dim=1)\n",
    "        all_prediction_logits.extend(prediction)\n",
    "        # batch_accuracy = (prediction == y).sum().item() / len(y)\n",
    "        # test_accuracies.append(batch_accuracy)\n",
    "        predictions.append(prediction.item())\n",
    "\n",
    "        if batch == 10:\n",
    "            break\n",
    "    all_predictions.append(predictions)\n",
    "    # print(f\"Test Accuracy: {np.mean(test_accuracies)}\")"
   ]
  },
  {
   "cell_type": "code",
   "execution_count": 22,
   "metadata": {},
   "outputs": [
    {
     "data": {
      "text/plain": [
       "[[0],\n",
       " [0],\n",
       " [3, 3, 3, 3, 3],\n",
       " [3, 3, 3, 3, 3],\n",
       " [3, 3],\n",
       " [3],\n",
       " [3],\n",
       " [3],\n",
       " [3, 3],\n",
       " [3]]"
      ]
     },
     "execution_count": 22,
     "metadata": {},
     "output_type": "execute_result"
    }
   ],
   "source": [
    "all_predictions\n"
   ]
  },
  {
   "cell_type": "code",
   "execution_count": 23,
   "metadata": {},
   "outputs": [],
   "source": [
    "# save predictions to a file\n",
    "import csv\n",
    "with open('8Apr_predictions.csv', 'w') as f:\n",
    "    writer = csv.writer(f)\n",
    "    writer.writerows(all_predictions)"
   ]
  },
  {
   "cell_type": "code",
   "execution_count": 16,
   "metadata": {},
   "outputs": [],
   "source": [
    "folder_path = 'live_data/live_data_05-Apr-2024'\n",
    "\n",
    "df_test,df_train=concat_files(folder_path)\n",
    "\n",
    "all_predictions=[]"
   ]
  },
  {
   "cell_type": "code",
   "execution_count": 17,
   "metadata": {},
   "outputs": [
    {
     "name": "stdout",
     "output_type": "stream",
     "text": [
      "dataset_num 0\n"
     ]
    },
    {
     "data": {
      "application/vnd.jupyter.widget-view+json": {
       "model_id": "598e0da36e7e42cab5c913c1033d4b0a",
       "version_major": 2,
       "version_minor": 0
      },
      "text/plain": [
       "  0%|          | 0/5 [00:00<?, ?it/s]"
      ]
     },
     "metadata": {},
     "output_type": "display_data"
    },
    {
     "name": "stdout",
     "output_type": "stream",
     "text": [
      "Epoch 0 Loss: 2.214929055864428 Accuracy: 0.31120770676691734\n",
      "Epoch 1 Loss: 2.2182095327552713 Accuracy: 0.30157424812030076\n",
      "Epoch 2 Loss: 2.204700593422939 Accuracy: 0.3202537593984962\n",
      "Epoch 3 Loss: 2.2102154403569343 Accuracy: 0.32835996240601506\n",
      "Epoch 4 Loss: 2.2018471969545264 Accuracy: 0.3223684210526316\n"
     ]
    },
    {
     "data": {
      "application/vnd.jupyter.widget-view+json": {
       "model_id": "0a218090783b46a583d2a8d460bad4d6",
       "version_major": 2,
       "version_minor": 0
      },
      "text/plain": [
       "0it [00:00, ?it/s]"
      ]
     },
     "metadata": {},
     "output_type": "display_data"
    },
    {
     "name": "stdout",
     "output_type": "stream",
     "text": [
      "dataset_num 1\n"
     ]
    },
    {
     "data": {
      "application/vnd.jupyter.widget-view+json": {
       "model_id": "fb312e7c37224e4dab184c167d40d78b",
       "version_major": 2,
       "version_minor": 0
      },
      "text/plain": [
       "  0%|          | 0/5 [00:00<?, ?it/s]"
      ]
     },
     "metadata": {},
     "output_type": "display_data"
    },
    {
     "name": "stdout",
     "output_type": "stream",
     "text": [
      "Epoch 0 Loss: 2.203497348638036 Accuracy: 0.32835996240601506\n",
      "Epoch 1 Loss: 2.185645286747602 Accuracy: 0.31649436090225563\n",
      "Epoch 2 Loss: 2.1929362937532333 Accuracy: 0.3105028195488722\n",
      "Epoch 3 Loss: 2.198766382031054 Accuracy: 0.3403430451127819\n",
      "Epoch 4 Loss: 2.2113725036266474 Accuracy: 0.31414473684210525\n"
     ]
    },
    {
     "data": {
      "application/vnd.jupyter.widget-view+json": {
       "model_id": "91391892f7834d95b45d3a39a8fcb921",
       "version_major": 2,
       "version_minor": 0
      },
      "text/plain": [
       "0it [00:00, ?it/s]"
      ]
     },
     "metadata": {},
     "output_type": "display_data"
    },
    {
     "name": "stdout",
     "output_type": "stream",
     "text": [
      "dataset_num 2\n"
     ]
    },
    {
     "data": {
      "application/vnd.jupyter.widget-view+json": {
       "model_id": "eb7babe7bc564ef89c0f7f08c85e417f",
       "version_major": 2,
       "version_minor": 0
      },
      "text/plain": [
       "  0%|          | 0/5 [00:00<?, ?it/s]"
      ]
     },
     "metadata": {},
     "output_type": "display_data"
    },
    {
     "name": "stdout",
     "output_type": "stream",
     "text": [
      "Epoch 0 Loss: 2.184139014196132 Accuracy: 0.3202537593984962\n",
      "Epoch 1 Loss: 2.1895564459637464 Accuracy: 0.28888627819548873\n",
      "Epoch 2 Loss: 2.207876581508109 Accuracy: 0.3335291353383459\n",
      "Epoch 3 Loss: 2.1896363826447343 Accuracy: 0.30968045112781956\n",
      "Epoch 4 Loss: 2.192962999676383 Accuracy: 0.31778665413533835\n"
     ]
    },
    {
     "data": {
      "application/vnd.jupyter.widget-view+json": {
       "model_id": "f894216add404401bb58a9ad33ba3af8",
       "version_major": 2,
       "version_minor": 0
      },
      "text/plain": [
       "0it [00:00, ?it/s]"
      ]
     },
     "metadata": {},
     "output_type": "display_data"
    },
    {
     "name": "stdout",
     "output_type": "stream",
     "text": [
      "dataset_num 3\n"
     ]
    },
    {
     "data": {
      "application/vnd.jupyter.widget-view+json": {
       "model_id": "be4b13efec864b178281b9734ae4478f",
       "version_major": 2,
       "version_minor": 0
      },
      "text/plain": [
       "  0%|          | 0/5 [00:00<?, ?it/s]"
      ]
     },
     "metadata": {},
     "output_type": "display_data"
    },
    {
     "name": "stdout",
     "output_type": "stream",
     "text": [
      "Epoch 0 Loss: 2.1825100777964765 Accuracy: 0.3246005639097745\n",
      "Epoch 1 Loss: 2.2214083073757256 Accuracy: 0.2999295112781955\n",
      "Epoch 2 Loss: 2.174347365309355 Accuracy: 0.2933505639097745\n",
      "Epoch 3 Loss: 2.164408434883566 Accuracy: 0.33658364661654133\n",
      "Epoch 4 Loss: 2.1841465009743297 Accuracy: 0.31708176691729323\n"
     ]
    },
    {
     "data": {
      "application/vnd.jupyter.widget-view+json": {
       "model_id": "d2c840c0bf8944d8bf21c41d4696b6a3",
       "version_major": 2,
       "version_minor": 0
      },
      "text/plain": [
       "0it [00:00, ?it/s]"
      ]
     },
     "metadata": {},
     "output_type": "display_data"
    },
    {
     "name": "stdout",
     "output_type": "stream",
     "text": [
      "dataset_num 4\n"
     ]
    },
    {
     "data": {
      "application/vnd.jupyter.widget-view+json": {
       "model_id": "ebcd513524c0469b85333a29fccf95d2",
       "version_major": 2,
       "version_minor": 0
      },
      "text/plain": [
       "  0%|          | 0/5 [00:00<?, ?it/s]"
      ]
     },
     "metadata": {},
     "output_type": "display_data"
    },
    {
     "name": "stdout",
     "output_type": "stream",
     "text": [
      "Epoch 0 Loss: 2.1701436121107966 Accuracy: 0.32554041353383456\n",
      "Epoch 1 Loss: 2.1607182860242764 Accuracy: 0.30991541353383456\n",
      "Epoch 2 Loss: 2.183658727402833 Accuracy: 0.3075657894736842\n",
      "Epoch 3 Loss: 2.175092256919081 Accuracy: 0.31414473684210525\n",
      "Epoch 4 Loss: 2.160529346605323 Accuracy: 0.3059210526315789\n"
     ]
    },
    {
     "data": {
      "application/vnd.jupyter.widget-view+json": {
       "model_id": "32139e1e1bc149dba45d1c7f96e46b99",
       "version_major": 2,
       "version_minor": 0
      },
      "text/plain": [
       "0it [00:00, ?it/s]"
      ]
     },
     "metadata": {},
     "output_type": "display_data"
    },
    {
     "name": "stdout",
     "output_type": "stream",
     "text": [
      "dataset_num 5\n"
     ]
    },
    {
     "data": {
      "application/vnd.jupyter.widget-view+json": {
       "model_id": "a097d8e72e7b4388825fce8b11f8cfed",
       "version_major": 2,
       "version_minor": 0
      },
      "text/plain": [
       "  0%|          | 0/5 [00:00<?, ?it/s]"
      ]
     },
     "metadata": {},
     "output_type": "display_data"
    },
    {
     "name": "stdout",
     "output_type": "stream",
     "text": [
      "Epoch 0 Loss: 2.170828030045657 Accuracy: 0.3179041353383459\n",
      "Epoch 1 Loss: 2.1607077928943537 Accuracy: 0.30838815789473684\n",
      "Epoch 2 Loss: 2.1602443740243347 Accuracy: 0.321781015037594\n",
      "Epoch 3 Loss: 2.147678154176353 Accuracy: 0.29699248120300753\n",
      "Epoch 4 Loss: 2.158146634421969 Accuracy: 0.3402255639097745\n"
     ]
    },
    {
     "data": {
      "application/vnd.jupyter.widget-view+json": {
       "model_id": "80511a1781754b7ea505c1564878bed4",
       "version_major": 2,
       "version_minor": 0
      },
      "text/plain": [
       "0it [00:00, ?it/s]"
      ]
     },
     "metadata": {},
     "output_type": "display_data"
    },
    {
     "name": "stdout",
     "output_type": "stream",
     "text": [
      "dataset_num 6\n"
     ]
    },
    {
     "data": {
      "application/vnd.jupyter.widget-view+json": {
       "model_id": "da44faaeec264437ae556fa4c980f253",
       "version_major": 2,
       "version_minor": 0
      },
      "text/plain": [
       "  0%|          | 0/5 [00:00<?, ?it/s]"
      ]
     },
     "metadata": {},
     "output_type": "display_data"
    },
    {
     "name": "stdout",
     "output_type": "stream",
     "text": [
      "Epoch 0 Loss: 2.1469263409374304 Accuracy: 0.32307330827067665\n",
      "Epoch 1 Loss: 2.1638216985084773 Accuracy: 0.30968045112781956\n",
      "Epoch 2 Loss: 2.165678381832978 Accuracy: 0.3142622180451128\n",
      "Epoch 3 Loss: 2.1547134396183725 Accuracy: 0.3261278195488722\n",
      "Epoch 4 Loss: 2.1354504810078674 Accuracy: 0.32013627819548873\n"
     ]
    },
    {
     "data": {
      "application/vnd.jupyter.widget-view+json": {
       "model_id": "3aadfe81e6dc4aca8386a204f0eb2511",
       "version_major": 2,
       "version_minor": 0
      },
      "text/plain": [
       "0it [00:00, ?it/s]"
      ]
     },
     "metadata": {},
     "output_type": "display_data"
    },
    {
     "name": "stdout",
     "output_type": "stream",
     "text": [
      "dataset_num 7\n"
     ]
    },
    {
     "data": {
      "application/vnd.jupyter.widget-view+json": {
       "model_id": "4010435823444e0ba72678ad30bb60dc",
       "version_major": 2,
       "version_minor": 0
      },
      "text/plain": [
       "  0%|          | 0/5 [00:00<?, ?it/s]"
      ]
     },
     "metadata": {},
     "output_type": "display_data"
    },
    {
     "name": "stdout",
     "output_type": "stream",
     "text": [
      "Epoch 0 Loss: 2.161569025261341 Accuracy: 0.3223684210526316\n",
      "Epoch 1 Loss: 2.135560915611855 Accuracy: 0.3142622180451128\n",
      "Epoch 2 Loss: 2.152059706611594 Accuracy: 0.3194313909774436\n",
      "Epoch 3 Loss: 2.1371653708678364 Accuracy: 0.33670112781954886\n",
      "Epoch 4 Loss: 2.152288225883005 Accuracy: 0.2926456766917293\n"
     ]
    },
    {
     "data": {
      "application/vnd.jupyter.widget-view+json": {
       "model_id": "8c418ea85db94bddbf353996bb2d8150",
       "version_major": 2,
       "version_minor": 0
      },
      "text/plain": [
       "0it [00:00, ?it/s]"
      ]
     },
     "metadata": {},
     "output_type": "display_data"
    },
    {
     "name": "stdout",
     "output_type": "stream",
     "text": [
      "dataset_num 8\n"
     ]
    },
    {
     "data": {
      "application/vnd.jupyter.widget-view+json": {
       "model_id": "db088d79b3c3465db0a4bbbf269740c8",
       "version_major": 2,
       "version_minor": 0
      },
      "text/plain": [
       "  0%|          | 0/5 [00:00<?, ?it/s]"
      ]
     },
     "metadata": {},
     "output_type": "display_data"
    },
    {
     "name": "stdout",
     "output_type": "stream",
     "text": [
      "Epoch 0 Loss: 2.1314382329177093 Accuracy: 0.3202537593984962\n",
      "Epoch 1 Loss: 2.1416687659149103 Accuracy: 0.30979793233082703\n",
      "Epoch 2 Loss: 2.1464970909448575 Accuracy: 0.3089755639097745\n",
      "Epoch 3 Loss: 2.1548789478067953 Accuracy: 0.32248590225563906\n",
      "Epoch 4 Loss: 2.170156174901963 Accuracy: 0.3022791353383459\n"
     ]
    },
    {
     "data": {
      "application/vnd.jupyter.widget-view+json": {
       "model_id": "3602a23a730f4c9ab23680733b78439f",
       "version_major": 2,
       "version_minor": 0
      },
      "text/plain": [
       "0it [00:00, ?it/s]"
      ]
     },
     "metadata": {},
     "output_type": "display_data"
    },
    {
     "name": "stdout",
     "output_type": "stream",
     "text": [
      "dataset_num 9\n"
     ]
    },
    {
     "data": {
      "application/vnd.jupyter.widget-view+json": {
       "model_id": "a3f40133842e4c6d92e5e7b7e01486f8",
       "version_major": 2,
       "version_minor": 0
      },
      "text/plain": [
       "  0%|          | 0/5 [00:00<?, ?it/s]"
      ]
     },
     "metadata": {},
     "output_type": "display_data"
    },
    {
     "name": "stdout",
     "output_type": "stream",
     "text": [
      "Epoch 0 Loss: 2.1223247338336413 Accuracy: 0.33905075187969924\n",
      "Epoch 1 Loss: 2.1372277571527376 Accuracy: 0.3343515037593985\n",
      "Epoch 2 Loss: 2.151345595246096 Accuracy: 0.3314144736842105\n",
      "Epoch 3 Loss: 2.1441203254217953 Accuracy: 0.3238956766917293\n",
      "Epoch 4 Loss: 2.1346801396337574 Accuracy: 0.3329417293233083\n"
     ]
    },
    {
     "data": {
      "application/vnd.jupyter.widget-view+json": {
       "model_id": "56f0201c2348490287710542ca887127",
       "version_major": 2,
       "version_minor": 0
      },
      "text/plain": [
       "0it [00:00, ?it/s]"
      ]
     },
     "metadata": {},
     "output_type": "display_data"
    },
    {
     "name": "stdout",
     "output_type": "stream",
     "text": [
      "dataset_num 10\n"
     ]
    },
    {
     "data": {
      "application/vnd.jupyter.widget-view+json": {
       "model_id": "2a2dd11b9efa4581926aa2d0b361da18",
       "version_major": 2,
       "version_minor": 0
      },
      "text/plain": [
       "  0%|          | 0/5 [00:00<?, ?it/s]"
      ]
     },
     "metadata": {},
     "output_type": "display_data"
    },
    {
     "name": "stdout",
     "output_type": "stream",
     "text": [
      "Epoch 0 Loss: 2.1263574404721655 Accuracy: 0.3179041353383459\n",
      "Epoch 1 Loss: 2.144711940414941 Accuracy: 0.33129699248120303\n",
      "Epoch 2 Loss: 2.128009689632761 Accuracy: 0.3202537593984962\n",
      "Epoch 3 Loss: 2.136937802693059 Accuracy: 0.32095864661654133\n",
      "Epoch 4 Loss: 2.1424382361274197 Accuracy: 0.31860902255639095\n"
     ]
    },
    {
     "data": {
      "application/vnd.jupyter.widget-view+json": {
       "model_id": "f55d70790d0343b6bff9cda84246ce6f",
       "version_major": 2,
       "version_minor": 0
      },
      "text/plain": [
       "0it [00:00, ?it/s]"
      ]
     },
     "metadata": {},
     "output_type": "display_data"
    },
    {
     "name": "stdout",
     "output_type": "stream",
     "text": [
      "dataset_num 11\n"
     ]
    },
    {
     "data": {
      "application/vnd.jupyter.widget-view+json": {
       "model_id": "45a10c3382f7479fb974c3df8e423380",
       "version_major": 2,
       "version_minor": 0
      },
      "text/plain": [
       "  0%|          | 0/5 [00:00<?, ?it/s]"
      ]
     },
     "metadata": {},
     "output_type": "display_data"
    },
    {
     "name": "stdout",
     "output_type": "stream",
     "text": [
      "Epoch 0 Loss: 2.1279645565956464 Accuracy: 0.33211936090225563\n",
      "Epoch 1 Loss: 2.143449914017214 Accuracy: 0.32013627819548873\n",
      "Epoch 2 Loss: 2.1287937652015634 Accuracy: 0.2948778195488722\n",
      "Epoch 3 Loss: 2.13448316255433 Accuracy: 0.3223684210526316\n",
      "Epoch 4 Loss: 2.1455817733670797 Accuracy: 0.31802161654135336\n"
     ]
    },
    {
     "data": {
      "application/vnd.jupyter.widget-view+json": {
       "model_id": "8a7134d72d074578a5cbf17058c81d99",
       "version_major": 2,
       "version_minor": 0
      },
      "text/plain": [
       "0it [00:00, ?it/s]"
      ]
     },
     "metadata": {},
     "output_type": "display_data"
    },
    {
     "name": "stdout",
     "output_type": "stream",
     "text": [
      "dataset_num 12\n"
     ]
    },
    {
     "data": {
      "application/vnd.jupyter.widget-view+json": {
       "model_id": "22df49b2f3f24181822a45f55a9bdd25",
       "version_major": 2,
       "version_minor": 0
      },
      "text/plain": [
       "  0%|          | 0/5 [00:00<?, ?it/s]"
      ]
     },
     "metadata": {},
     "output_type": "display_data"
    },
    {
     "name": "stdout",
     "output_type": "stream",
     "text": [
      "Epoch 0 Loss: 2.117063327369797 Accuracy: 0.3223684210526316\n",
      "Epoch 1 Loss: 2.1194143816117985 Accuracy: 0.31802161654135336\n",
      "Epoch 2 Loss: 2.123504705030452 Accuracy: 0.3284774436090226\n",
      "Epoch 3 Loss: 2.136569791118092 Accuracy: 0.3231907894736842\n",
      "Epoch 4 Loss: 2.1255880295013734 Accuracy: 0.32835996240601506\n"
     ]
    },
    {
     "data": {
      "application/vnd.jupyter.widget-view+json": {
       "model_id": "85e2ed015e73447c80780ff9677886e2",
       "version_major": 2,
       "version_minor": 0
      },
      "text/plain": [
       "0it [00:00, ?it/s]"
      ]
     },
     "metadata": {},
     "output_type": "display_data"
    },
    {
     "name": "stdout",
     "output_type": "stream",
     "text": [
      "dataset_num 13\n"
     ]
    },
    {
     "data": {
      "application/vnd.jupyter.widget-view+json": {
       "model_id": "e0429ebdc8fd499bbc024fc7a6f5bc3f",
       "version_major": 2,
       "version_minor": 0
      },
      "text/plain": [
       "  0%|          | 0/5 [00:00<?, ?it/s]"
      ]
     },
     "metadata": {},
     "output_type": "display_data"
    },
    {
     "name": "stdout",
     "output_type": "stream",
     "text": [
      "Epoch 0 Loss: 2.1355559447267227 Accuracy: 0.3260103383458647\n",
      "Epoch 1 Loss: 2.1162860126779264 Accuracy: 0.32248590225563906\n",
      "Epoch 2 Loss: 2.1260666354176228 Accuracy: 0.34480733082706766\n",
      "Epoch 3 Loss: 2.1165875685131588 Accuracy: 0.3275375939849624\n",
      "Epoch 4 Loss: 2.1261168680163474 Accuracy: 0.3246005639097745\n"
     ]
    },
    {
     "data": {
      "application/vnd.jupyter.widget-view+json": {
       "model_id": "8953e2a80c5f42c0afe621fbed2f309a",
       "version_major": 2,
       "version_minor": 0
      },
      "text/plain": [
       "0it [00:00, ?it/s]"
      ]
     },
     "metadata": {},
     "output_type": "display_data"
    },
    {
     "name": "stdout",
     "output_type": "stream",
     "text": [
      "dataset_num 14\n"
     ]
    },
    {
     "data": {
      "application/vnd.jupyter.widget-view+json": {
       "model_id": "1a9c90942c1146749cbc75e530b5cc2a",
       "version_major": 2,
       "version_minor": 0
      },
      "text/plain": [
       "  0%|          | 0/5 [00:00<?, ?it/s]"
      ]
     },
     "metadata": {},
     "output_type": "display_data"
    },
    {
     "name": "stdout",
     "output_type": "stream",
     "text": [
      "Epoch 0 Loss: 2.1055679698979755 Accuracy: 0.32918233082706766\n",
      "Epoch 1 Loss: 2.127721020566212 Accuracy: 0.3305921052631579\n",
      "Epoch 2 Loss: 2.109849709298739 Accuracy: 0.32835996240601506\n",
      "Epoch 3 Loss: 2.1221116923788808 Accuracy: 0.3215460526315789\n",
      "Epoch 4 Loss: 2.098963934208392 Accuracy: 0.3359962406015038\n"
     ]
    },
    {
     "data": {
      "application/vnd.jupyter.widget-view+json": {
       "model_id": "cc03b577d3d644688805c9839c68acff",
       "version_major": 2,
       "version_minor": 0
      },
      "text/plain": [
       "0it [00:00, ?it/s]"
      ]
     },
     "metadata": {},
     "output_type": "display_data"
    },
    {
     "name": "stdout",
     "output_type": "stream",
     "text": [
      "dataset_num 15\n"
     ]
    },
    {
     "data": {
      "application/vnd.jupyter.widget-view+json": {
       "model_id": "a7b59746f7b9411abf639935a5bbfe2c",
       "version_major": 2,
       "version_minor": 0
      },
      "text/plain": [
       "  0%|          | 0/5 [00:00<?, ?it/s]"
      ]
     },
     "metadata": {},
     "output_type": "display_data"
    },
    {
     "name": "stdout",
     "output_type": "stream",
     "text": [
      "Epoch 0 Loss: 2.122218351066678 Accuracy: 0.3418703007518797\n",
      "Epoch 1 Loss: 2.101587059898683 Accuracy: 0.3314144736842105\n",
      "Epoch 2 Loss: 2.127455045383433 Accuracy: 0.33129699248120303\n",
      "Epoch 3 Loss: 2.121809659411486 Accuracy: 0.32765507518796994\n",
      "Epoch 4 Loss: 2.116575289765836 Accuracy: 0.3305921052631579\n"
     ]
    },
    {
     "data": {
      "application/vnd.jupyter.widget-view+json": {
       "model_id": "5c7d23bccf1b461f87d8b6654cc1f8a6",
       "version_major": 2,
       "version_minor": 0
      },
      "text/plain": [
       "0it [00:00, ?it/s]"
      ]
     },
     "metadata": {},
     "output_type": "display_data"
    },
    {
     "name": "stdout",
     "output_type": "stream",
     "text": [
      "dataset_num 16\n"
     ]
    },
    {
     "data": {
      "application/vnd.jupyter.widget-view+json": {
       "model_id": "c137f52ea47a47849719db2e80f97e31",
       "version_major": 2,
       "version_minor": 0
      },
      "text/plain": [
       "  0%|          | 0/5 [00:00<?, ?it/s]"
      ]
     },
     "metadata": {},
     "output_type": "display_data"
    },
    {
     "name": "stdout",
     "output_type": "stream",
     "text": [
      "Epoch 0 Loss: 2.0997663450143373 Accuracy: 0.33517387218045114\n",
      "Epoch 1 Loss: 2.1117861588031377 Accuracy: 0.3402255639097745\n",
      "Epoch 2 Loss: 2.1005239660423807 Accuracy: 0.33658364661654133\n",
      "Epoch 3 Loss: 2.115635168787841 Accuracy: 0.32307330827067665\n",
      "Epoch 4 Loss: 2.0895260883358753 Accuracy: 0.3305921052631579\n"
     ]
    },
    {
     "data": {
      "application/vnd.jupyter.widget-view+json": {
       "model_id": "8897c3816f614adaa176b35918cbbffb",
       "version_major": 2,
       "version_minor": 0
      },
      "text/plain": [
       "0it [00:00, ?it/s]"
      ]
     },
     "metadata": {},
     "output_type": "display_data"
    },
    {
     "name": "stdout",
     "output_type": "stream",
     "text": [
      "dataset_num 17\n"
     ]
    },
    {
     "data": {
      "application/vnd.jupyter.widget-view+json": {
       "model_id": "2733cf12177c441cbad116f0bbbfb228",
       "version_major": 2,
       "version_minor": 0
      },
      "text/plain": [
       "  0%|          | 0/5 [00:00<?, ?it/s]"
      ]
     },
     "metadata": {},
     "output_type": "display_data"
    },
    {
     "name": "stdout",
     "output_type": "stream",
     "text": [
      "Epoch 0 Loss: 2.091873448656549 Accuracy: 0.33211936090225563\n",
      "Epoch 1 Loss: 2.0944367054985484 Accuracy: 0.3350563909774436\n",
      "Epoch 2 Loss: 2.1030479204655754 Accuracy: 0.3388157894736842\n",
      "Epoch 3 Loss: 2.0894734784354787 Accuracy: 0.3202537593984962\n",
      "Epoch 4 Loss: 2.12131262526243 Accuracy: 0.33728853383458646\n"
     ]
    },
    {
     "data": {
      "application/vnd.jupyter.widget-view+json": {
       "model_id": "977c4ae6bf96481da7aec247ebbbc6ef",
       "version_major": 2,
       "version_minor": 0
      },
      "text/plain": [
       "0it [00:00, ?it/s]"
      ]
     },
     "metadata": {},
     "output_type": "display_data"
    },
    {
     "name": "stdout",
     "output_type": "stream",
     "text": [
      "dataset_num 18\n"
     ]
    },
    {
     "data": {
      "application/vnd.jupyter.widget-view+json": {
       "model_id": "fd9c837bcf29435b8fc5fe69dfbe9ebf",
       "version_major": 2,
       "version_minor": 0
      },
      "text/plain": [
       "  0%|          | 0/5 [00:00<?, ?it/s]"
      ]
     },
     "metadata": {},
     "output_type": "display_data"
    },
    {
     "name": "stdout",
     "output_type": "stream",
     "text": [
      "Epoch 0 Loss: 2.1117348810121075 Accuracy: 0.3388157894736842\n",
      "Epoch 1 Loss: 2.0904115407569233 Accuracy: 0.33364661654135336\n",
      "Epoch 2 Loss: 2.114830630464874 Accuracy: 0.32976973684210525\n",
      "Epoch 3 Loss: 2.095466418462128 Accuracy: 0.33576127819548873\n",
      "Epoch 4 Loss: 2.1058527896886705 Accuracy: 0.32248590225563906\n"
     ]
    },
    {
     "data": {
      "application/vnd.jupyter.widget-view+json": {
       "model_id": "44cc39e10be14560b389adfc49f0444e",
       "version_major": 2,
       "version_minor": 0
      },
      "text/plain": [
       "0it [00:00, ?it/s]"
      ]
     },
     "metadata": {},
     "output_type": "display_data"
    },
    {
     "name": "stdout",
     "output_type": "stream",
     "text": [
      "dataset_num 19\n"
     ]
    },
    {
     "data": {
      "application/vnd.jupyter.widget-view+json": {
       "model_id": "623a9b73567049c0951b7fadd5569464",
       "version_major": 2,
       "version_minor": 0
      },
      "text/plain": [
       "  0%|          | 0/5 [00:00<?, ?it/s]"
      ]
     },
     "metadata": {},
     "output_type": "display_data"
    },
    {
     "name": "stdout",
     "output_type": "stream",
     "text": [
      "Epoch 0 Loss: 2.090523397024569 Accuracy: 0.33658364661654133\n",
      "Epoch 1 Loss: 2.111423903362557 Accuracy: 0.32976973684210525\n",
      "Epoch 2 Loss: 2.092232691673181 Accuracy: 0.3388157894736842\n",
      "Epoch 3 Loss: 2.114977279994289 Accuracy: 0.33576127819548873\n",
      "Epoch 4 Loss: 2.092291939223579 Accuracy: 0.33129699248120303\n"
     ]
    },
    {
     "data": {
      "application/vnd.jupyter.widget-view+json": {
       "model_id": "c07725b3967f4af2acf19ba0d6e05dc3",
       "version_major": 2,
       "version_minor": 0
      },
      "text/plain": [
       "0it [00:00, ?it/s]"
      ]
     },
     "metadata": {},
     "output_type": "display_data"
    },
    {
     "name": "stdout",
     "output_type": "stream",
     "text": [
      "dataset_num 20\n"
     ]
    },
    {
     "data": {
      "application/vnd.jupyter.widget-view+json": {
       "model_id": "2adbe867d7b84b3287be817122b57534",
       "version_major": 2,
       "version_minor": 0
      },
      "text/plain": [
       "  0%|          | 0/5 [00:00<?, ?it/s]"
      ]
     },
     "metadata": {},
     "output_type": "display_data"
    },
    {
     "name": "stdout",
     "output_type": "stream",
     "text": [
      "Epoch 0 Loss: 2.073858909011604 Accuracy: 0.33963815789473684\n",
      "Epoch 1 Loss: 2.0839295539121867 Accuracy: 0.3304746240601504\n",
      "Epoch 2 Loss: 2.1058036039439423 Accuracy: 0.3388157894736842\n",
      "Epoch 3 Loss: 2.08610729664999 Accuracy: 0.33658364661654133\n",
      "Epoch 4 Loss: 2.0664792583920453 Accuracy: 0.34786184210526316\n"
     ]
    },
    {
     "data": {
      "application/vnd.jupyter.widget-view+json": {
       "model_id": "3607db078e39431c9d750ecce903c27f",
       "version_major": 2,
       "version_minor": 0
      },
      "text/plain": [
       "0it [00:00, ?it/s]"
      ]
     },
     "metadata": {},
     "output_type": "display_data"
    },
    {
     "name": "stdout",
     "output_type": "stream",
     "text": [
      "dataset_num 21\n"
     ]
    },
    {
     "data": {
      "application/vnd.jupyter.widget-view+json": {
       "model_id": "4d8cabf6531d45e3acda05bda244c762",
       "version_major": 2,
       "version_minor": 0
      },
      "text/plain": [
       "  0%|          | 0/5 [00:00<?, ?it/s]"
      ]
     },
     "metadata": {},
     "output_type": "display_data"
    },
    {
     "name": "stdout",
     "output_type": "stream",
     "text": [
      "Epoch 0 Loss: 2.0939414818136486 Accuracy: 0.33270676691729323\n",
      "Epoch 1 Loss: 2.0783863820912982 Accuracy: 0.3246005639097745\n",
      "Epoch 2 Loss: 2.0827532425216924 Accuracy: 0.3395206766917293\n",
      "Epoch 3 Loss: 2.06772679693116 Accuracy: 0.33963815789473684\n",
      "Epoch 4 Loss: 2.0931804963925047 Accuracy: 0.34104793233082703\n"
     ]
    },
    {
     "data": {
      "application/vnd.jupyter.widget-view+json": {
       "model_id": "8367b8dd96044f9c8a4ac867b25d3595",
       "version_major": 2,
       "version_minor": 0
      },
      "text/plain": [
       "0it [00:00, ?it/s]"
      ]
     },
     "metadata": {},
     "output_type": "display_data"
    },
    {
     "name": "stdout",
     "output_type": "stream",
     "text": [
      "dataset_num 22\n"
     ]
    },
    {
     "data": {
      "application/vnd.jupyter.widget-view+json": {
       "model_id": "70c66f6d9e9f4bf3804cfe4d309952f8",
       "version_major": 2,
       "version_minor": 0
      },
      "text/plain": [
       "  0%|          | 0/5 [00:00<?, ?it/s]"
      ]
     },
     "metadata": {},
     "output_type": "display_data"
    },
    {
     "name": "stdout",
     "output_type": "stream",
     "text": [
      "Epoch 0 Loss: 2.096863443375596 Accuracy: 0.3215460526315789\n",
      "Epoch 1 Loss: 2.0839893894120025 Accuracy: 0.33576127819548873\n",
      "Epoch 2 Loss: 2.0932792830500073 Accuracy: 0.33658364661654133\n",
      "Epoch 3 Loss: 2.0950001892663557 Accuracy: 0.33658364661654133\n",
      "Epoch 4 Loss: 2.068514685239983 Accuracy: 0.3417528195488722\n"
     ]
    },
    {
     "data": {
      "application/vnd.jupyter.widget-view+json": {
       "model_id": "8a5f20111e4b4d7592d3b79cb5f4eeee",
       "version_major": 2,
       "version_minor": 0
      },
      "text/plain": [
       "0it [00:00, ?it/s]"
      ]
     },
     "metadata": {},
     "output_type": "display_data"
    },
    {
     "name": "stdout",
     "output_type": "stream",
     "text": [
      "dataset_num 23\n"
     ]
    },
    {
     "data": {
      "application/vnd.jupyter.widget-view+json": {
       "model_id": "bc597c3da6184f608ead743d67e701a1",
       "version_major": 2,
       "version_minor": 0
      },
      "text/plain": [
       "  0%|          | 0/5 [00:00<?, ?it/s]"
      ]
     },
     "metadata": {},
     "output_type": "display_data"
    },
    {
     "name": "stdout",
     "output_type": "stream",
     "text": [
      "Epoch 0 Loss: 2.0682799380793115 Accuracy: 0.3364661654135338\n",
      "Epoch 1 Loss: 2.0670302544275576 Accuracy: 0.3404605263157895\n",
      "Epoch 2 Loss: 2.10738986681864 Accuracy: 0.3379934210526316\n",
      "Epoch 3 Loss: 2.0706751570039903 Accuracy: 0.34398496240601506\n",
      "Epoch 4 Loss: 2.063698236570644 Accuracy: 0.34480733082706766\n"
     ]
    },
    {
     "data": {
      "application/vnd.jupyter.widget-view+json": {
       "model_id": "ae2def9bf67d4a79b1fcc37235cbb531",
       "version_major": 2,
       "version_minor": 0
      },
      "text/plain": [
       "0it [00:00, ?it/s]"
      ]
     },
     "metadata": {},
     "output_type": "display_data"
    },
    {
     "name": "stdout",
     "output_type": "stream",
     "text": [
      "dataset_num 24\n"
     ]
    },
    {
     "data": {
      "application/vnd.jupyter.widget-view+json": {
       "model_id": "48ba0d0b6f2944e0b58876bd48833f8c",
       "version_major": 2,
       "version_minor": 0
      },
      "text/plain": [
       "  0%|          | 0/5 [00:00<?, ?it/s]"
      ]
     },
     "metadata": {},
     "output_type": "display_data"
    },
    {
     "name": "stdout",
     "output_type": "stream",
     "text": [
      "Epoch 0 Loss: 2.0879226468279612 Accuracy: 0.3485667293233083\n",
      "Epoch 1 Loss: 2.0686411177633195 Accuracy: 0.3379934210526316\n",
      "Epoch 2 Loss: 2.0702466280057576 Accuracy: 0.34927161654135336\n",
      "Epoch 3 Loss: 2.0635405495499555 Accuracy: 0.3418703007518797\n",
      "Epoch 4 Loss: 2.065495427828611 Accuracy: 0.3417528195488722\n"
     ]
    },
    {
     "data": {
      "application/vnd.jupyter.widget-view+json": {
       "model_id": "672a6452e7af4c56b7b985cb6d352400",
       "version_major": 2,
       "version_minor": 0
      },
      "text/plain": [
       "0it [00:00, ?it/s]"
      ]
     },
     "metadata": {},
     "output_type": "display_data"
    },
    {
     "name": "stdout",
     "output_type": "stream",
     "text": [
      "dataset_num 25\n"
     ]
    },
    {
     "data": {
      "application/vnd.jupyter.widget-view+json": {
       "model_id": "a723a9b9fd2f4df2aa0e2c265d7cd602",
       "version_major": 2,
       "version_minor": 0
      },
      "text/plain": [
       "  0%|          | 0/5 [00:00<?, ?it/s]"
      ]
     },
     "metadata": {},
     "output_type": "display_data"
    },
    {
     "name": "stdout",
     "output_type": "stream",
     "text": [
      "Epoch 0 Loss: 2.0883086166359752 Accuracy: 0.33728853383458646\n",
      "Epoch 1 Loss: 2.060496949844076 Accuracy: 0.3576127819548872\n",
      "Epoch 2 Loss: 2.059538074497372 Accuracy: 0.3515037593984962\n",
      "Epoch 3 Loss: 2.0710703867739246 Accuracy: 0.3446898496240602\n",
      "Epoch 4 Loss: 2.0742786093263845 Accuracy: 0.3402255639097745\n"
     ]
    },
    {
     "data": {
      "application/vnd.jupyter.widget-view+json": {
       "model_id": "4d9b776c6a3d40e5894b41a09e38e811",
       "version_major": 2,
       "version_minor": 0
      },
      "text/plain": [
       "0it [00:00, ?it/s]"
      ]
     },
     "metadata": {},
     "output_type": "display_data"
    },
    {
     "name": "stdout",
     "output_type": "stream",
     "text": [
      "dataset_num 26\n"
     ]
    },
    {
     "data": {
      "application/vnd.jupyter.widget-view+json": {
       "model_id": "1e91469e6a65412d86bd0c9efaaf47c2",
       "version_major": 2,
       "version_minor": 0
      },
      "text/plain": [
       "  0%|          | 0/5 [00:00<?, ?it/s]"
      ]
     },
     "metadata": {},
     "output_type": "display_data"
    },
    {
     "name": "stdout",
     "output_type": "stream",
     "text": [
      "Epoch 0 Loss: 2.0713556650806964 Accuracy: 0.34927161654135336\n",
      "Epoch 1 Loss: 2.060914535670615 Accuracy: 0.34257518796992475\n",
      "Epoch 2 Loss: 2.076786550151501 Accuracy: 0.34328007518796994\n",
      "Epoch 3 Loss: 2.0777520331524073 Accuracy: 0.3460996240601504\n",
      "Epoch 4 Loss: 2.0602777011170237 Accuracy: 0.36207706766917297\n"
     ]
    },
    {
     "data": {
      "application/vnd.jupyter.widget-view+json": {
       "model_id": "77c5990b9427410f965e2b60b708e791",
       "version_major": 2,
       "version_minor": 0
      },
      "text/plain": [
       "0it [00:00, ?it/s]"
      ]
     },
     "metadata": {},
     "output_type": "display_data"
    },
    {
     "name": "stdout",
     "output_type": "stream",
     "text": [
      "dataset_num 27\n"
     ]
    },
    {
     "data": {
      "application/vnd.jupyter.widget-view+json": {
       "model_id": "09c843d3964b47c0b5de61066ff2f059",
       "version_major": 2,
       "version_minor": 0
      },
      "text/plain": [
       "  0%|          | 0/5 [00:00<?, ?it/s]"
      ]
     },
     "metadata": {},
     "output_type": "display_data"
    },
    {
     "name": "stdout",
     "output_type": "stream",
     "text": [
      "Epoch 0 Loss: 2.072871604086314 Accuracy: 0.34398496240601506\n",
      "Epoch 1 Loss: 2.055340562455064 Accuracy: 0.3491541353383459\n",
      "Epoch 2 Loss: 2.0599906490507007 Accuracy: 0.3491541353383459\n",
      "Epoch 3 Loss: 2.066268912621215 Accuracy: 0.3499765037593985\n",
      "Epoch 4 Loss: 2.0523574373587263 Accuracy: 0.3470394736842105\n"
     ]
    },
    {
     "data": {
      "application/vnd.jupyter.widget-view+json": {
       "model_id": "954711043aab49ffa7f9392a7750149b",
       "version_major": 2,
       "version_minor": 0
      },
      "text/plain": [
       "0it [00:00, ?it/s]"
      ]
     },
     "metadata": {},
     "output_type": "display_data"
    },
    {
     "name": "stdout",
     "output_type": "stream",
     "text": [
      "dataset_num 28\n"
     ]
    },
    {
     "data": {
      "application/vnd.jupyter.widget-view+json": {
       "model_id": "097024fe2ee24cf0acbfb5b01bd6b35f",
       "version_major": 2,
       "version_minor": 0
      },
      "text/plain": [
       "  0%|          | 0/5 [00:00<?, ?it/s]"
      ]
     },
     "metadata": {},
     "output_type": "display_data"
    },
    {
     "name": "stdout",
     "output_type": "stream",
     "text": [
      "Epoch 0 Loss: 2.0811004272003544 Accuracy: 0.34844924812030076\n",
      "Epoch 1 Loss: 2.044342498553121 Accuracy: 0.36348684210526316\n",
      "Epoch 2 Loss: 2.078814185404672 Accuracy: 0.3506813909774436\n",
      "Epoch 3 Loss: 2.0689420137724794 Accuracy: 0.34245770676691734\n",
      "Epoch 4 Loss: 2.0494006499419517 Accuracy: 0.35138627819548873\n"
     ]
    },
    {
     "data": {
      "application/vnd.jupyter.widget-view+json": {
       "model_id": "3000cf1e5c894c018b2188b796392290",
       "version_major": 2,
       "version_minor": 0
      },
      "text/plain": [
       "0it [00:00, ?it/s]"
      ]
     },
     "metadata": {},
     "output_type": "display_data"
    },
    {
     "name": "stdout",
     "output_type": "stream",
     "text": [
      "dataset_num 29\n"
     ]
    },
    {
     "data": {
      "application/vnd.jupyter.widget-view+json": {
       "model_id": "bb1ac7b9f4084a70a97c94ac00cc886e",
       "version_major": 2,
       "version_minor": 0
      },
      "text/plain": [
       "  0%|          | 0/5 [00:00<?, ?it/s]"
      ]
     },
     "metadata": {},
     "output_type": "display_data"
    },
    {
     "name": "stdout",
     "output_type": "stream",
     "text": [
      "Epoch 0 Loss: 2.0523284253888066 Accuracy: 0.36043233082706766\n",
      "Epoch 1 Loss: 2.043809276421759 Accuracy: 0.3618421052631579\n",
      "Epoch 2 Loss: 2.0475721458123246 Accuracy: 0.35960996240601506\n",
      "Epoch 3 Loss: 2.046370942013758 Accuracy: 0.3455122180451128\n",
      "Epoch 4 Loss: 2.040369143621566 Accuracy: 0.35232612781954886\n"
     ]
    },
    {
     "data": {
      "application/vnd.jupyter.widget-view+json": {
       "model_id": "eb87f96d7da146db94b19224dca82e98",
       "version_major": 2,
       "version_minor": 0
      },
      "text/plain": [
       "0it [00:00, ?it/s]"
      ]
     },
     "metadata": {},
     "output_type": "display_data"
    },
    {
     "name": "stdout",
     "output_type": "stream",
     "text": [
      "dataset_num 30\n"
     ]
    },
    {
     "data": {
      "application/vnd.jupyter.widget-view+json": {
       "model_id": "3ba811fd719342dcb4a68d3fb9af2f6f",
       "version_major": 2,
       "version_minor": 0
      },
      "text/plain": [
       "  0%|          | 0/5 [00:00<?, ?it/s]"
      ]
     },
     "metadata": {},
     "output_type": "display_data"
    },
    {
     "name": "stdout",
     "output_type": "stream",
     "text": [
      "Epoch 0 Loss: 2.0622461686026496 Accuracy: 0.3476268796992481\n",
      "Epoch 1 Loss: 2.0411601487841464 Accuracy: 0.3491541353383459\n",
      "Epoch 2 Loss: 2.0588676995491353 Accuracy: 0.35291353383458646\n",
      "Epoch 3 Loss: 2.052293416337375 Accuracy: 0.36043233082706766\n",
      "Epoch 4 Loss: 2.0392133899203873 Accuracy: 0.35667293233082703\n"
     ]
    },
    {
     "data": {
      "application/vnd.jupyter.widget-view+json": {
       "model_id": "6c16f152f6dd46f98f0c19d9fcb0d094",
       "version_major": 2,
       "version_minor": 0
      },
      "text/plain": [
       "0it [00:00, ?it/s]"
      ]
     },
     "metadata": {},
     "output_type": "display_data"
    },
    {
     "name": "stdout",
     "output_type": "stream",
     "text": [
      "dataset_num 31\n"
     ]
    },
    {
     "data": {
      "application/vnd.jupyter.widget-view+json": {
       "model_id": "53c2e88a4b9b4a4f84dd6585db64a84d",
       "version_major": 2,
       "version_minor": 0
      },
      "text/plain": [
       "  0%|          | 0/5 [00:00<?, ?it/s]"
      ]
     },
     "metadata": {},
     "output_type": "display_data"
    },
    {
     "name": "stdout",
     "output_type": "stream",
     "text": [
      "Epoch 0 Loss: 2.0454444407777754 Accuracy: 0.3544407894736842\n",
      "Epoch 1 Loss: 2.0601844460290417 Accuracy: 0.3520911654135338\n",
      "Epoch 2 Loss: 2.0426525594871596 Accuracy: 0.35820018796992475\n",
      "Epoch 3 Loss: 2.046205035061639 Accuracy: 0.3731203007518797\n",
      "Epoch 4 Loss: 2.0562962458496155 Accuracy: 0.35432330827067665\n"
     ]
    },
    {
     "data": {
      "application/vnd.jupyter.widget-view+json": {
       "model_id": "f0c69577baa646ca87a2e4c85ac64db7",
       "version_major": 2,
       "version_minor": 0
      },
      "text/plain": [
       "0it [00:00, ?it/s]"
      ]
     },
     "metadata": {},
     "output_type": "display_data"
    },
    {
     "name": "stdout",
     "output_type": "stream",
     "text": [
      "dataset_num 32\n"
     ]
    },
    {
     "data": {
      "application/vnd.jupyter.widget-view+json": {
       "model_id": "93c2d78972e24ea9b3661b60f94bc102",
       "version_major": 2,
       "version_minor": 0
      },
      "text/plain": [
       "  0%|          | 0/5 [00:00<?, ?it/s]"
      ]
     },
     "metadata": {},
     "output_type": "display_data"
    },
    {
     "name": "stdout",
     "output_type": "stream",
     "text": [
      "Epoch 0 Loss: 2.055373475539082 Accuracy: 0.34844924812030076\n",
      "Epoch 1 Loss: 2.054365951537099 Accuracy: 0.3544407894736842\n",
      "Epoch 2 Loss: 2.037850274605899 Accuracy: 0.3641917293233083\n",
      "Epoch 3 Loss: 2.0574461469986853 Accuracy: 0.37605733082706766\n",
      "Epoch 4 Loss: 2.061356033730212 Accuracy: 0.3656015037593985\n"
     ]
    },
    {
     "data": {
      "application/vnd.jupyter.widget-view+json": {
       "model_id": "70b15ea79dc948baae1c4943c278d53f",
       "version_major": 2,
       "version_minor": 0
      },
      "text/plain": [
       "0it [00:00, ?it/s]"
      ]
     },
     "metadata": {},
     "output_type": "display_data"
    },
    {
     "name": "stdout",
     "output_type": "stream",
     "text": [
      "dataset_num 33\n"
     ]
    },
    {
     "data": {
      "application/vnd.jupyter.widget-view+json": {
       "model_id": "b2c21871427a49c6970b4a00982049c4",
       "version_major": 2,
       "version_minor": 0
      },
      "text/plain": [
       "  0%|          | 0/5 [00:00<?, ?it/s]"
      ]
     },
     "metadata": {},
     "output_type": "display_data"
    },
    {
     "name": "stdout",
     "output_type": "stream",
     "text": [
      "Epoch 0 Loss: 2.048843833590992 Accuracy: 0.34386748120300753\n",
      "Epoch 1 Loss: 2.0505189004168445 Accuracy: 0.35808270676691734\n",
      "Epoch 2 Loss: 2.0489459475796887 Accuracy: 0.35138627819548873\n",
      "Epoch 3 Loss: 2.037978366800344 Accuracy: 0.3731203007518797\n",
      "Epoch 4 Loss: 2.0566888241927685 Accuracy: 0.3573778195488722\n"
     ]
    },
    {
     "data": {
      "application/vnd.jupyter.widget-view+json": {
       "model_id": "1b25c065473b4ad3b7bc8d61b4bca2db",
       "version_major": 2,
       "version_minor": 0
      },
      "text/plain": [
       "0it [00:00, ?it/s]"
      ]
     },
     "metadata": {},
     "output_type": "display_data"
    },
    {
     "name": "stdout",
     "output_type": "stream",
     "text": [
      "dataset_num 34\n"
     ]
    },
    {
     "data": {
      "application/vnd.jupyter.widget-view+json": {
       "model_id": "20e0b0925d4c489cb01da6970f7f9a24",
       "version_major": 2,
       "version_minor": 0
      },
      "text/plain": [
       "  0%|          | 0/5 [00:00<?, ?it/s]"
      ]
     },
     "metadata": {},
     "output_type": "display_data"
    },
    {
     "name": "stdout",
     "output_type": "stream",
     "text": [
      "Epoch 0 Loss: 2.04929889132963 Accuracy: 0.3558505639097745\n",
      "Epoch 1 Loss: 2.0337675265995574 Accuracy: 0.35960996240601506\n",
      "Epoch 2 Loss: 2.027023010889855 Accuracy: 0.36783364661654133\n",
      "Epoch 3 Loss: 2.035982911269033 Accuracy: 0.3677161654135338\n",
      "Epoch 4 Loss: 2.03500106961389 Accuracy: 0.35820018796992475\n"
     ]
    },
    {
     "data": {
      "application/vnd.jupyter.widget-view+json": {
       "model_id": "02e9993214b44873a42f89276a2396b0",
       "version_major": 2,
       "version_minor": 0
      },
      "text/plain": [
       "0it [00:00, ?it/s]"
      ]
     },
     "metadata": {},
     "output_type": "display_data"
    },
    {
     "name": "stdout",
     "output_type": "stream",
     "text": [
      "dataset_num 35\n"
     ]
    },
    {
     "data": {
      "application/vnd.jupyter.widget-view+json": {
       "model_id": "df927c9cc7e2473091ec7636a2ec40ff",
       "version_major": 2,
       "version_minor": 0
      },
      "text/plain": [
       "  0%|          | 0/5 [00:00<?, ?it/s]"
      ]
     },
     "metadata": {},
     "output_type": "display_data"
    },
    {
     "name": "stdout",
     "output_type": "stream",
     "text": [
      "Epoch 0 Loss: 2.0543418253765293 Accuracy: 0.36407424812030076\n",
      "Epoch 1 Loss: 2.03106810722651 Accuracy: 0.36336936090225563\n",
      "Epoch 2 Loss: 2.0374653638017888 Accuracy: 0.35808270676691734\n",
      "Epoch 3 Loss: 2.0452184184603994 Accuracy: 0.35291353383458646\n",
      "Epoch 4 Loss: 2.0206332287653272 Accuracy: 0.36336936090225563\n"
     ]
    },
    {
     "data": {
      "application/vnd.jupyter.widget-view+json": {
       "model_id": "53d35f991f014d0bbe3c2c0f8655b063",
       "version_major": 2,
       "version_minor": 0
      },
      "text/plain": [
       "0it [00:00, ?it/s]"
      ]
     },
     "metadata": {},
     "output_type": "display_data"
    },
    {
     "name": "stdout",
     "output_type": "stream",
     "text": [
      "dataset_num 36\n"
     ]
    },
    {
     "data": {
      "application/vnd.jupyter.widget-view+json": {
       "model_id": "ec49aa95852f4a0fab84764f7be8c723",
       "version_major": 2,
       "version_minor": 0
      },
      "text/plain": [
       "  0%|          | 0/5 [00:00<?, ?it/s]"
      ]
     },
     "metadata": {},
     "output_type": "display_data"
    },
    {
     "name": "stdout",
     "output_type": "stream",
     "text": [
      "Epoch 0 Loss: 2.0487885705051485 Accuracy: 0.3692434210526316\n",
      "Epoch 1 Loss: 2.0339734886391962 Accuracy: 0.3715930451127819\n",
      "Epoch 2 Loss: 2.040768366209077 Accuracy: 0.368656015037594\n",
      "Epoch 3 Loss: 2.023688801432628 Accuracy: 0.3618421052631579\n",
      "Epoch 4 Loss: 2.0311465983541974 Accuracy: 0.37229793233082703\n"
     ]
    },
    {
     "data": {
      "application/vnd.jupyter.widget-view+json": {
       "model_id": "e5f7387f535544deb8ba11b6dd3d1f7a",
       "version_major": 2,
       "version_minor": 0
      },
      "text/plain": [
       "0it [00:00, ?it/s]"
      ]
     },
     "metadata": {},
     "output_type": "display_data"
    },
    {
     "name": "stdout",
     "output_type": "stream",
     "text": [
      "dataset_num 37\n"
     ]
    },
    {
     "data": {
      "application/vnd.jupyter.widget-view+json": {
       "model_id": "58817c146d9f4a00b0b760b5786c49f9",
       "version_major": 2,
       "version_minor": 0
      },
      "text/plain": [
       "  0%|          | 0/5 [00:00<?, ?it/s]"
      ]
     },
     "metadata": {},
     "output_type": "display_data"
    },
    {
     "name": "stdout",
     "output_type": "stream",
     "text": [
      "Epoch 0 Loss: 2.0273440125350546 Accuracy: 0.3617246240601504\n",
      "Epoch 1 Loss: 2.0350204179748106 Accuracy: 0.37605733082706766\n",
      "Epoch 2 Loss: 2.0187516457228023 Accuracy: 0.3603148496240602\n",
      "Epoch 3 Loss: 2.0408711822291496 Accuracy: 0.3730028195488722\n",
      "Epoch 4 Loss: 2.030934801944762 Accuracy: 0.38345864661654133\n"
     ]
    },
    {
     "data": {
      "application/vnd.jupyter.widget-view+json": {
       "model_id": "49b4b4a466aa4decaf504b010bb1787c",
       "version_major": 2,
       "version_minor": 0
      },
      "text/plain": [
       "0it [00:00, ?it/s]"
      ]
     },
     "metadata": {},
     "output_type": "display_data"
    },
    {
     "name": "stdout",
     "output_type": "stream",
     "text": [
      "dataset_num 38\n"
     ]
    },
    {
     "data": {
      "application/vnd.jupyter.widget-view+json": {
       "model_id": "308bdd25c7464b4486e5f68122b59f13",
       "version_major": 2,
       "version_minor": 0
      },
      "text/plain": [
       "  0%|          | 0/5 [00:00<?, ?it/s]"
      ]
     },
     "metadata": {},
     "output_type": "display_data"
    },
    {
     "name": "stdout",
     "output_type": "stream",
     "text": [
      "Epoch 0 Loss: 2.032715538277183 Accuracy: 0.36336936090225563\n",
      "Epoch 1 Loss: 2.003299608398646 Accuracy: 0.37100563909774437\n",
      "Epoch 2 Loss: 2.0191573857605607 Accuracy: 0.3632518796992481\n",
      "Epoch 3 Loss: 2.016478473471342 Accuracy: 0.3700657894736842\n",
      "Epoch 4 Loss: 2.0300156134894443 Accuracy: 0.3767622180451128\n"
     ]
    },
    {
     "data": {
      "application/vnd.jupyter.widget-view+json": {
       "model_id": "1c33eca82c6946d08ce2e1c2c8838521",
       "version_major": 2,
       "version_minor": 0
      },
      "text/plain": [
       "0it [00:00, ?it/s]"
      ]
     },
     "metadata": {},
     "output_type": "display_data"
    },
    {
     "name": "stdout",
     "output_type": "stream",
     "text": [
      "dataset_num 39\n"
     ]
    },
    {
     "data": {
      "application/vnd.jupyter.widget-view+json": {
       "model_id": "223044fb91bf449593d67a3923f2c6d2",
       "version_major": 2,
       "version_minor": 0
      },
      "text/plain": [
       "  0%|          | 0/5 [00:00<?, ?it/s]"
      ]
     },
     "metadata": {},
     "output_type": "display_data"
    },
    {
     "name": "stdout",
     "output_type": "stream",
     "text": [
      "Epoch 0 Loss: 2.0116766740458574 Accuracy: 0.3701832706766917\n",
      "Epoch 1 Loss: 2.0091440196711585 Accuracy: 0.35890507518796994\n",
      "Epoch 2 Loss: 2.0048968924508745 Accuracy: 0.37218045112781956\n",
      "Epoch 3 Loss: 1.9956001873073184 Accuracy: 0.3828712406015038\n",
      "Epoch 4 Loss: 2.0200879765800424 Accuracy: 0.38052161654135336\n"
     ]
    },
    {
     "data": {
      "application/vnd.jupyter.widget-view+json": {
       "model_id": "29bbd5d3dcb74c3c8f6e9ddf30a18324",
       "version_major": 2,
       "version_minor": 0
      },
      "text/plain": [
       "0it [00:00, ?it/s]"
      ]
     },
     "metadata": {},
     "output_type": "display_data"
    },
    {
     "name": "stdout",
     "output_type": "stream",
     "text": [
      "dataset_num 40\n"
     ]
    },
    {
     "data": {
      "application/vnd.jupyter.widget-view+json": {
       "model_id": "30d3a6e7b38c4a7a9fae4b606292da7d",
       "version_major": 2,
       "version_minor": 0
      },
      "text/plain": [
       "  0%|          | 0/5 [00:00<?, ?it/s]"
      ]
     },
     "metadata": {},
     "output_type": "display_data"
    },
    {
     "name": "stdout",
     "output_type": "stream",
     "text": [
      "Epoch 0 Loss: 2.0579282199390616 Accuracy: 0.3527960526315789\n",
      "Epoch 1 Loss: 2.0274289097093083 Accuracy: 0.3661889097744361\n",
      "Epoch 2 Loss: 2.0269586823709274 Accuracy: 0.3656015037593985\n",
      "Epoch 3 Loss: 2.0152324301579774 Accuracy: 0.3663063909774436\n",
      "Epoch 4 Loss: 2.002226998084028 Accuracy: 0.3700657894736842\n"
     ]
    },
    {
     "data": {
      "application/vnd.jupyter.widget-view+json": {
       "model_id": "b694b52155ad442293e6a2e1333cc93a",
       "version_major": 2,
       "version_minor": 0
      },
      "text/plain": [
       "0it [00:00, ?it/s]"
      ]
     },
     "metadata": {},
     "output_type": "display_data"
    }
   ],
   "source": [
    "for dataset_num in range(len(df_train)):\n",
    "    print(\"dataset_num\", dataset_num)\n",
    "    df = df_train[dataset_num]\n",
    "\n",
    "    class_values_era = list(df.era.unique())\n",
    "    class_values_era.sort()\n",
    "    class_values_target = list(df.target_10_val.unique())\n",
    "    class_values_target.sort()\n",
    "    era_encoding = {val: i for i, val in enumerate(class_values_era)}\n",
    "    target_encoding = {val: i for i, val in enumerate(class_values_target)}\n",
    "    df[\"era\"] = df[\"era\"].apply(encode, args=(era_encoding,))\n",
    "    df[\"target_5_val\"] = df[\"target_5_val\"].apply(encode, args=(target_encoding,))\n",
    "    df[\"target_10_val\"] = df[\"target_10_val\"].apply(encode, args=(target_encoding,))\n",
    "\n",
    "    dataset = df\n",
    "    target_column = \"target_10_val\"\n",
    "    output_classes = 5\n",
    "    shuffle = True\n",
    "\n",
    "    train_dataset = CustomDataset(new_dataset.drop(columns=[target_column,'era','row_num']).values, new_dataset[target_column].values)\n",
    "\n",
    "    train_loader = DataLoader(train_dataset, batch_size=32, shuffle=shuffle)\n",
    "\n",
    "\n",
    "\n",
    "\n",
    "    epochs = 5\n",
    "    losses = []\n",
    "    predictions = []\n",
    "    accuracy = []\n",
    "    for epoch in tqdm(range(epochs)):\n",
    "        # loop = tqdm(train_loader, leave=True)\n",
    "        epoch_acc=[]\n",
    "        epoch_loss=[]\n",
    "        for batch,(X, y) in enumerate(train_loader):\n",
    "            X, y = X.cuda().float(), y.cuda().long()\n",
    "            \n",
    "            # # mask 5 columns in X\n",
    "            # mask = torch.randint(0, 27, (5,))\n",
    "            # X[:, mask] = 0\n",
    "\n",
    "            optimizer.zero_grad()\n",
    "            prediction_logits, auxiliary,tau = model(X)\n",
    "            # print(tau)\n",
    "            prediction_softmax = F.softmax(prediction_logits, dim=1).to(torch.float64)\n",
    "            prediction = torch.argmax(prediction_softmax, dim=1)\n",
    "\n",
    "            loss1 = classification_criterion(prediction_softmax, y,tau)\n",
    "            # print(prediction_logits)\n",
    "            loss2 = auxiliary_criterion(auxiliary, X)\n",
    "            # print(loss1.item(), loss2.item()    )\n",
    "            accuracy_batch = (prediction == y).sum().item() / len(y)\n",
    "            epoch_acc.append(accuracy_batch)\n",
    "\n",
    "            loss = loss1 + loss2\n",
    "            loss.backward()\n",
    "            optimizer.step()\n",
    "            # losses.append(loss.item())\n",
    "            epoch_loss.append(loss.item())\n",
    "            predictions.append(prediction)\n",
    "            # break\n",
    "            # if batch == bagging_percent * len(train_loader):\n",
    "            #     break\n",
    "        accuracy.append(np.mean(epoch_acc))\n",
    "        losses.append(np.mean(epoch_loss))\n",
    "        print(f\"Epoch {epoch} Loss: {np.mean(epoch_loss)} Accuracy: {np.mean(epoch_acc)}\")\n",
    "\n",
    "\n",
    "    df_test_list = df_test[dataset_num]\n",
    "    target_column = \"row_num\"\n",
    "    output_classes = 5\n",
    "\n",
    "    test_dataset = CustomDataset(df_test_list.drop(columns=[target_column,'row_num','id']).values, df_test_list[target_column].values)\n",
    "    test_loader = DataLoader(test_dataset, batch_size=1, shuffle=False)\n",
    "\n",
    "    # test the model on test data\n",
    "    test_accuracies = []\n",
    "    predictions=[]\n",
    "    all_prediction_logits = []\n",
    "\n",
    "    for batch, (X,y) in tqdm(enumerate((test_loader))):\n",
    "        optimizer.zero_grad()\n",
    "        X, y = X,y\n",
    "        X,y= X.cuda().float(), y.cuda().long()\n",
    "        prediction_logits, auxiliary,tau = model(X)\n",
    "\n",
    "        aux_loss = auxiliary_criterion(auxiliary, X)\n",
    "        loss = aux_loss\n",
    "        # print(\"aux_loss\", aux_loss.item())\n",
    "        loss.backward()\n",
    "        optimizer.step()\n",
    "        \n",
    "        prediction_logits, auxiliary,tau = model(X)\n",
    "        prediction = F.softmax(prediction_logits, dim=1)\n",
    "        prediction = torch.argmax(prediction, dim=1)\n",
    "        all_prediction_logits.extend(prediction)\n",
    "        # batch_accuracy = (prediction == y).sum().item() / len(y)\n",
    "        # test_accuracies.append(batch_accuracy)\n",
    "        predictions.append(prediction.item())\n",
    "\n",
    "        if batch == 10:\n",
    "            break\n",
    "    all_predictions.append(predictions)\n",
    "    # print(f\"Test Accuracy: {np.mean(test_accuracies)}\""
   ]
  },
  {
   "cell_type": "code",
   "execution_count": 18,
   "metadata": {},
   "outputs": [
    {
     "data": {
      "text/plain": [
       "[[3],\n",
       " [4, 2, 2, 4, 4, 3, 4, 2, 4, 3],\n",
       " [4, 2, 2, 4, 4, 3, 4, 2, 4, 2],\n",
       " [4, 2, 4],\n",
       " [3, 4],\n",
       " [4, 4],\n",
       " [4, 4],\n",
       " [4, 4],\n",
       " [4, 4],\n",
       " [4, 4],\n",
       " [2, 4],\n",
       " [4],\n",
       " [4, 4, 2, 4, 4, 4, 2],\n",
       " [2, 2, 4, 4],\n",
       " [4, 2],\n",
       " [2],\n",
       " [4, 2, 4, 2],\n",
       " [4, 2, 4],\n",
       " [4, 4, 2, 4, 4, 4],\n",
       " [4, 2, 4, 2, 4, 4, 4],\n",
       " [4, 4, 4, 2, 4, 4],\n",
       " [4, 4, 4, 2, 4],\n",
       " [4, 4, 4, 2],\n",
       " [4, 2],\n",
       " [4, 2],\n",
       " [2, 4, 2],\n",
       " [4, 2],\n",
       " [2, 4, 2],\n",
       " [2],\n",
       " [4, 4],\n",
       " [4],\n",
       " [4, 4],\n",
       " [4, 4, 4],\n",
       " [4, 4, 4, 4, 4],\n",
       " [4, 4, 4, 4, 4],\n",
       " [4, 4, 4, 4],\n",
       " [4, 4, 4],\n",
       " [4, 4, 4],\n",
       " [2, 2, 4, 4, 2],\n",
       " [2, 4, 2, 4, 4, 2],\n",
       " [4, 4, 2, 4, 4, 4, 2]]"
      ]
     },
     "execution_count": 18,
     "metadata": {},
     "output_type": "execute_result"
    }
   ],
   "source": [
    "all_predictions"
   ]
  },
  {
   "cell_type": "code",
   "execution_count": 19,
   "metadata": {},
   "outputs": [],
   "source": [
    "# save predictions to a file\n",
    "import csv\n",
    "with open('5Apr_predictions.csv', 'w') as f:\n",
    "    writer = csv.writer(f)\n",
    "    writer.writerows(all_predictions)"
   ]
  },
  {
   "cell_type": "code",
   "execution_count": 79,
   "metadata": {},
   "outputs": [],
   "source": [
    "def get_nums(folder):\n",
    "    count = 0\n",
    "    files = sort_files(folder)\n",
    "    row_nums = []\n",
    "    round_nums = []\n",
    "    ids = []\n",
    "    for file in files:\n",
    "        if file[0:12] == 'df_live_test':\n",
    "            count+=1\n",
    "            if file[-7] == '_':\n",
    "                round_nums.append(file[-6:-4])\n",
    "            else:\n",
    "                round_nums.append(file[-7:-4])\n",
    "            \n",
    "            file_path = os.path.join(folder, file)\n",
    "            df_temp = pd.read_csv(file_path)\n",
    "            row_nums.extend(df_temp.row_num.values)\n",
    "            ids.extend(df_temp.id.values)\n",
    "\n",
    "    return round_nums, row_nums, ids\n",
    "\n",
    "days = [2, 3, 4, 5, 8]\n",
    "\n",
    "for x in days:\n",
    "    predictions = []\n",
    "    with open(f'predictions/{x}Apr_predictions.csv', 'r') as f:\n",
    "        reader = csv.reader(f)\n",
    "        for row in reader:\n",
    "            predictions.append(row)\n",
    "\n",
    "    predictions = [x for x in predictions if x != []]\n",
    "    folder = f'live_data/live_data_0{x}-Apr-2024'\n",
    "\n",
    "    round_nums, row_nums, ids = get_nums(folder)\n",
    "    all_predictions = []\n",
    "    all_round_nums = []\n",
    "\n",
    "    for prediction in predictions:\n",
    "        all_predictions.extend(prediction)\n",
    "        \n",
    "    for i in range(len(predictions)):\n",
    "        for j in range(len(predictions[i])):\n",
    "            all_round_nums.append(round_nums[i])\n",
    "\n",
    "    df = pd.DataFrame()\n",
    "    df['id'] = ids\n",
    "    df['prediction'] = all_predictions\n",
    "    df['row_num'] = row_nums\n",
    "    df['round_num'] = all_round_nums\n",
    "\n",
    "    df.to_csv(f'final_predictions/predictions_0{x}-04-2024.csv', index=False)"
   ]
  }
 ],
 "metadata": {
  "kernelspec": {
   "display_name": "Python 3",
   "language": "python",
   "name": "python3"
  },
  "language_info": {
   "codemirror_mode": {
    "name": "ipython",
    "version": 3
   },
   "file_extension": ".py",
   "mimetype": "text/x-python",
   "name": "python",
   "nbconvert_exporter": "python",
   "pygments_lexer": "ipython3",
   "version": "3.10.11"
  }
 },
 "nbformat": 4,
 "nbformat_minor": 2
}
